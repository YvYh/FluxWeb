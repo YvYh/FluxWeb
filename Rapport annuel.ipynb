{
  "nbformat": 4,
  "nbformat_minor": 0,
  "metadata": {
    "colab": {
      "name": "Getting started with BigQuery",
      "provenance": [],
      "collapsed_sections": [],
      "include_colab_link": true
    },
    "kernelspec": {
      "display_name": "Python 3",
      "name": "python3"
    }
  },
  "cells": [
    {
      "cell_type": "markdown",
      "metadata": {
        "id": "view-in-github",
        "colab_type": "text"
      },
      "source": [
        "<a href=\"https://colab.research.google.com/github/YvYh/FluxWeb/blob/main/Rapport%20annuel.ipynb\" target=\"_parent\"><img src=\"https://colab.research.google.com/assets/colab-badge.svg\" alt=\"Open In Colab\"/></a>"
      ]
    },
    {
      "cell_type": "markdown",
      "metadata": {
        "id": "FG6vsptc473H"
      },
      "source": [
        "#Request"
      ]
    },
    {
      "cell_type": "code",
      "metadata": {
        "id": "qt9LfrMejZ6d"
      },
      "source": [
        "from bs4 import BeautifulSoup\n",
        "import pandas as pd\n",
        "from urllib.request import urlopen,Request"
      ],
      "execution_count": null,
      "outputs": []
    },
    {
      "cell_type": "code",
      "metadata": {
        "id": "jedFlAoKj59R"
      },
      "source": [
        "emetteur='Belimo'\n",
        "mot='ghg'\n",
        "key=emetteur+'+'+mot"
      ],
      "execution_count": null,
      "outputs": []
    },
    {
      "cell_type": "code",
      "metadata": {
        "id": "UTD8-3z4R95x",
        "colab": {
          "base_uri": "https://localhost:8080/",
          "height": 35
        },
        "outputId": "037ab148-e42a-43bc-cac8-83481b527c0c"
      },
      "source": [
        "url = \"https://www.google.com/search?q=\"+key\n",
        "url"
      ],
      "execution_count": null,
      "outputs": [
        {
          "output_type": "execute_result",
          "data": {
            "application/vnd.google.colaboratory.intrinsic+json": {
              "type": "string"
            },
            "text/plain": [
              "'https://www.google.com/search?q=Belimo+ghg'"
            ]
          },
          "metadata": {
            "tags": []
          },
          "execution_count": 12
        }
      ]
    },
    {
      "cell_type": "code",
      "metadata": {
        "id": "fr6xWk2Wjk-b"
      },
      "source": [
        "url = \"https://www.google.com/search?q=\"+key\n",
        "headers = {'User-Agent': 'Mozilla/5.0 (Windows NT 6.1) AppleWebKit/537.36 (KHTML, like Gecko) Chrome/41.0.2228.0 Safari/537.3'}\n",
        "req = Request(url=url, headers=headers) \n",
        "html = urlopen(req).read().decode('utf-8')\n",
        "site = BeautifulSoup(html,\"html\")"
      ],
      "execution_count": null,
      "outputs": []
    },
    {
      "cell_type": "code",
      "metadata": {
        "colab": {
          "base_uri": "https://localhost:8080/",
          "height": 195
        },
        "id": "wWEQlfhOkD96",
        "outputId": "36f7e1f0-b05e-4ef6-96ab-ec95c63fab50"
      },
      "source": [
        "result = site.find('div', id='search')\n",
        "for bloc in result.find_all('span'):\n",
        "  print(' '.joint(bloc.strings))"
      ],
      "execution_count": null,
      "outputs": [
        {
          "output_type": "error",
          "ename": "AttributeError",
          "evalue": "ignored",
          "traceback": [
            "\u001b[0;31m---------------------------------------------------------------------------\u001b[0m",
            "\u001b[0;31mAttributeError\u001b[0m                            Traceback (most recent call last)",
            "\u001b[0;32m<ipython-input-12-b877ccf2af30>\u001b[0m in \u001b[0;36m<module>\u001b[0;34m()\u001b[0m\n\u001b[1;32m      1\u001b[0m \u001b[0mresult\u001b[0m \u001b[0;34m=\u001b[0m \u001b[0msite\u001b[0m\u001b[0;34m.\u001b[0m\u001b[0mfind\u001b[0m\u001b[0;34m(\u001b[0m\u001b[0;34m'div'\u001b[0m\u001b[0;34m,\u001b[0m \u001b[0mid\u001b[0m\u001b[0;34m=\u001b[0m\u001b[0;34m'search'\u001b[0m\u001b[0;34m)\u001b[0m\u001b[0;34m\u001b[0m\u001b[0;34m\u001b[0m\u001b[0m\n\u001b[0;32m----> 2\u001b[0;31m \u001b[0;32mfor\u001b[0m \u001b[0mbloc\u001b[0m \u001b[0;32min\u001b[0m \u001b[0mresult\u001b[0m\u001b[0;34m.\u001b[0m\u001b[0mfind_all\u001b[0m\u001b[0;34m(\u001b[0m\u001b[0;34m'span'\u001b[0m\u001b[0;34m)\u001b[0m\u001b[0;34m:\u001b[0m\u001b[0;34m\u001b[0m\u001b[0;34m\u001b[0m\u001b[0m\n\u001b[0m\u001b[1;32m      3\u001b[0m   \u001b[0mprint\u001b[0m\u001b[0;34m(\u001b[0m\u001b[0;34m' '\u001b[0m\u001b[0;34m.\u001b[0m\u001b[0mjoint\u001b[0m\u001b[0;34m(\u001b[0m\u001b[0mbloc\u001b[0m\u001b[0;34m.\u001b[0m\u001b[0mstrings\u001b[0m\u001b[0;34m)\u001b[0m\u001b[0;34m)\u001b[0m\u001b[0;34m\u001b[0m\u001b[0;34m\u001b[0m\u001b[0m\n",
            "\u001b[0;31mAttributeError\u001b[0m: 'NoneType' object has no attribute 'find_all'"
          ]
        }
      ]
    },
    {
      "cell_type": "code",
      "metadata": {
        "id": "y5BAVtdflrR-"
      },
      "source": [
        "site = BeautifulSoup(html,\"lxml\")\n",
        "site"
      ],
      "execution_count": null,
      "outputs": []
    },
    {
      "cell_type": "markdown",
      "metadata": {
        "id": "fB_xZ6IS4_vY"
      },
      "source": [
        "#Pyppeteer"
      ]
    },
    {
      "cell_type": "code",
      "metadata": {
        "id": "kB3Ka2pMprOt"
      },
      "source": [
        "!pip3 install pyppeteer"
      ],
      "execution_count": null,
      "outputs": []
    },
    {
      "cell_type": "code",
      "metadata": {
        "colab": {
          "base_uri": "https://localhost:8080/"
        },
        "id": "ChBtJJ0bqI0B",
        "outputId": "b1d1761a-63f2-4f26-841e-15023e57c008"
      },
      "source": [
        "!pip install pyquery"
      ],
      "execution_count": null,
      "outputs": [
        {
          "output_type": "stream",
          "text": [
            "Collecting pyquery\n",
            "  Downloading pyquery-1.4.3-py3-none-any.whl (22 kB)\n",
            "Collecting cssselect>0.7.9\n",
            "  Downloading cssselect-1.1.0-py2.py3-none-any.whl (16 kB)\n",
            "Requirement already satisfied: lxml>=2.1 in /usr/local/lib/python3.7/dist-packages (from pyquery) (4.2.6)\n",
            "Installing collected packages: cssselect, pyquery\n",
            "Successfully installed cssselect-1.1.0 pyquery-1.4.3\n"
          ],
          "name": "stdout"
        }
      ]
    },
    {
      "cell_type": "code",
      "metadata": {
        "id": "-ICynXQaps5i"
      },
      "source": [
        "import pyppeteer"
      ],
      "execution_count": null,
      "outputs": []
    },
    {
      "cell_type": "code",
      "metadata": {
        "colab": {
          "base_uri": "https://localhost:8080/"
        },
        "id": "xXBewKwxpyL_",
        "outputId": "62dbda31-df0b-4c88-e438-8971ae57b572"
      },
      "source": [
        "import requests\n",
        "from pyquery import PyQuery as pq\n",
        "url ='http://quotes.toscrape.com/js/'\n",
        "response = requests.get(url)\n",
        "doc = pq(response.text)\n",
        "print('Quotes:', doc('.quote').length)"
      ],
      "execution_count": null,
      "outputs": [
        {
          "output_type": "stream",
          "text": [
            "Quotes: 0\n"
          ],
          "name": "stdout"
        }
      ]
    },
    {
      "cell_type": "code",
      "metadata": {
        "colab": {
          "base_uri": "https://localhost:8080/",
          "height": 337
        },
        "id": "HV4l9TZDp1k3",
        "outputId": "aa182082-ffe4-4ba2-f9b1-87e8bb3991a9"
      },
      "source": [
        "import asyncio\n",
        "from pyppeteer import launch\n",
        "from pyquery import PyQuery as pq\n",
        "\n",
        "async def main():\n",
        "    browser = await launch()\n",
        "    page = await browser.newPage()\n",
        "    await page.goto('http://quotes.toscrape.com/js/')\n",
        "    doc = pq(await page.content())\n",
        "    print('Quotes:', doc('.quote').length)\n",
        "    await browser.close()\n",
        "\n",
        "\n",
        "asyncio.get_event_loop().run_until_complete(main())"
      ],
      "execution_count": null,
      "outputs": [
        {
          "output_type": "error",
          "ename": "BrowserError",
          "evalue": "ignored",
          "traceback": [
            "\u001b[0;31m---------------------------------------------------------------------------\u001b[0m",
            "\u001b[0;31mBrowserError\u001b[0m                              Traceback (most recent call last)",
            "\u001b[0;32m<ipython-input-10-fb74747da862>\u001b[0m in \u001b[0;36m<module>\u001b[0;34m()\u001b[0m\n\u001b[1;32m     12\u001b[0m \u001b[0;34m\u001b[0m\u001b[0m\n\u001b[1;32m     13\u001b[0m \u001b[0;34m\u001b[0m\u001b[0m\n\u001b[0;32m---> 14\u001b[0;31m \u001b[0masyncio\u001b[0m\u001b[0;34m.\u001b[0m\u001b[0mget_event_loop\u001b[0m\u001b[0;34m(\u001b[0m\u001b[0;34m)\u001b[0m\u001b[0;34m.\u001b[0m\u001b[0mrun_until_complete\u001b[0m\u001b[0;34m(\u001b[0m\u001b[0mmain\u001b[0m\u001b[0;34m(\u001b[0m\u001b[0;34m)\u001b[0m\u001b[0;34m)\u001b[0m\u001b[0;34m\u001b[0m\u001b[0;34m\u001b[0m\u001b[0m\n\u001b[0m",
            "\u001b[0;32m/usr/local/lib/python3.7/dist-packages/nest_asyncio.py\u001b[0m in \u001b[0;36mrun_until_complete\u001b[0;34m(self, future)\u001b[0m\n\u001b[1;32m     68\u001b[0m                 raise RuntimeError(\n\u001b[1;32m     69\u001b[0m                     'Event loop stopped before Future completed.')\n\u001b[0;32m---> 70\u001b[0;31m             \u001b[0;32mreturn\u001b[0m \u001b[0mf\u001b[0m\u001b[0;34m.\u001b[0m\u001b[0mresult\u001b[0m\u001b[0;34m(\u001b[0m\u001b[0;34m)\u001b[0m\u001b[0;34m\u001b[0m\u001b[0;34m\u001b[0m\u001b[0m\n\u001b[0m\u001b[1;32m     71\u001b[0m \u001b[0;34m\u001b[0m\u001b[0m\n\u001b[1;32m     72\u001b[0m     \u001b[0;32mdef\u001b[0m \u001b[0m_run_once\u001b[0m\u001b[0;34m(\u001b[0m\u001b[0mself\u001b[0m\u001b[0;34m)\u001b[0m\u001b[0;34m:\u001b[0m\u001b[0;34m\u001b[0m\u001b[0;34m\u001b[0m\u001b[0m\n",
            "\u001b[0;32m/usr/lib/python3.7/asyncio/futures.py\u001b[0m in \u001b[0;36mresult\u001b[0;34m(self)\u001b[0m\n\u001b[1;32m    179\u001b[0m         \u001b[0mself\u001b[0m\u001b[0;34m.\u001b[0m\u001b[0m__log_traceback\u001b[0m \u001b[0;34m=\u001b[0m \u001b[0;32mFalse\u001b[0m\u001b[0;34m\u001b[0m\u001b[0;34m\u001b[0m\u001b[0m\n\u001b[1;32m    180\u001b[0m         \u001b[0;32mif\u001b[0m \u001b[0mself\u001b[0m\u001b[0;34m.\u001b[0m\u001b[0m_exception\u001b[0m \u001b[0;32mis\u001b[0m \u001b[0;32mnot\u001b[0m \u001b[0;32mNone\u001b[0m\u001b[0;34m:\u001b[0m\u001b[0;34m\u001b[0m\u001b[0;34m\u001b[0m\u001b[0m\n\u001b[0;32m--> 181\u001b[0;31m             \u001b[0;32mraise\u001b[0m \u001b[0mself\u001b[0m\u001b[0;34m.\u001b[0m\u001b[0m_exception\u001b[0m\u001b[0;34m\u001b[0m\u001b[0;34m\u001b[0m\u001b[0m\n\u001b[0m\u001b[1;32m    182\u001b[0m         \u001b[0;32mreturn\u001b[0m \u001b[0mself\u001b[0m\u001b[0;34m.\u001b[0m\u001b[0m_result\u001b[0m\u001b[0;34m\u001b[0m\u001b[0;34m\u001b[0m\u001b[0m\n\u001b[1;32m    183\u001b[0m \u001b[0;34m\u001b[0m\u001b[0m\n",
            "\u001b[0;32m/usr/lib/python3.7/asyncio/tasks.py\u001b[0m in \u001b[0;36m__step\u001b[0;34m(***failed resolving arguments***)\u001b[0m\n\u001b[1;32m    247\u001b[0m                 \u001b[0;31m# We use the `send` method directly, because coroutines\u001b[0m\u001b[0;34m\u001b[0m\u001b[0;34m\u001b[0m\u001b[0;34m\u001b[0m\u001b[0m\n\u001b[1;32m    248\u001b[0m                 \u001b[0;31m# don't have `__iter__` and `__next__` methods.\u001b[0m\u001b[0;34m\u001b[0m\u001b[0;34m\u001b[0m\u001b[0;34m\u001b[0m\u001b[0m\n\u001b[0;32m--> 249\u001b[0;31m                 \u001b[0mresult\u001b[0m \u001b[0;34m=\u001b[0m \u001b[0mcoro\u001b[0m\u001b[0;34m.\u001b[0m\u001b[0msend\u001b[0m\u001b[0;34m(\u001b[0m\u001b[0;32mNone\u001b[0m\u001b[0;34m)\u001b[0m\u001b[0;34m\u001b[0m\u001b[0;34m\u001b[0m\u001b[0m\n\u001b[0m\u001b[1;32m    250\u001b[0m             \u001b[0;32melse\u001b[0m\u001b[0;34m:\u001b[0m\u001b[0;34m\u001b[0m\u001b[0;34m\u001b[0m\u001b[0m\n\u001b[1;32m    251\u001b[0m                 \u001b[0mresult\u001b[0m \u001b[0;34m=\u001b[0m \u001b[0mcoro\u001b[0m\u001b[0;34m.\u001b[0m\u001b[0mthrow\u001b[0m\u001b[0;34m(\u001b[0m\u001b[0mexc\u001b[0m\u001b[0;34m)\u001b[0m\u001b[0;34m\u001b[0m\u001b[0;34m\u001b[0m\u001b[0m\n",
            "\u001b[0;32m<ipython-input-10-fb74747da862>\u001b[0m in \u001b[0;36mmain\u001b[0;34m()\u001b[0m\n\u001b[1;32m      4\u001b[0m \u001b[0;34m\u001b[0m\u001b[0m\n\u001b[1;32m      5\u001b[0m \u001b[0;32masync\u001b[0m \u001b[0;32mdef\u001b[0m \u001b[0mmain\u001b[0m\u001b[0;34m(\u001b[0m\u001b[0;34m)\u001b[0m\u001b[0;34m:\u001b[0m\u001b[0;34m\u001b[0m\u001b[0;34m\u001b[0m\u001b[0m\n\u001b[0;32m----> 6\u001b[0;31m     \u001b[0mbrowser\u001b[0m \u001b[0;34m=\u001b[0m \u001b[0;32mawait\u001b[0m \u001b[0mlaunch\u001b[0m\u001b[0;34m(\u001b[0m\u001b[0;34m)\u001b[0m\u001b[0;34m\u001b[0m\u001b[0;34m\u001b[0m\u001b[0m\n\u001b[0m\u001b[1;32m      7\u001b[0m     \u001b[0mpage\u001b[0m \u001b[0;34m=\u001b[0m \u001b[0;32mawait\u001b[0m \u001b[0mbrowser\u001b[0m\u001b[0;34m.\u001b[0m\u001b[0mnewPage\u001b[0m\u001b[0;34m(\u001b[0m\u001b[0;34m)\u001b[0m\u001b[0;34m\u001b[0m\u001b[0;34m\u001b[0m\u001b[0m\n\u001b[1;32m      8\u001b[0m     \u001b[0;32mawait\u001b[0m \u001b[0mpage\u001b[0m\u001b[0;34m.\u001b[0m\u001b[0mgoto\u001b[0m\u001b[0;34m(\u001b[0m\u001b[0;34m'http://quotes.toscrape.com/js/'\u001b[0m\u001b[0;34m)\u001b[0m\u001b[0;34m\u001b[0m\u001b[0;34m\u001b[0m\u001b[0m\n",
            "\u001b[0;32m/usr/local/lib/python3.7/dist-packages/pyppeteer/launcher.py\u001b[0m in \u001b[0;36mlaunch\u001b[0;34m(options, **kwargs)\u001b[0m\n\u001b[1;32m    304\u001b[0m         \u001b[0moption\u001b[0m \u001b[0;32mwith\u001b[0m \u001b[0mextreme\u001b[0m \u001b[0mcaution\u001b[0m\u001b[0;34m.\u001b[0m\u001b[0;34m\u001b[0m\u001b[0;34m\u001b[0m\u001b[0m\n\u001b[1;32m    305\u001b[0m     \"\"\"\n\u001b[0;32m--> 306\u001b[0;31m     \u001b[0;32mreturn\u001b[0m \u001b[0;32mawait\u001b[0m \u001b[0mLauncher\u001b[0m\u001b[0;34m(\u001b[0m\u001b[0moptions\u001b[0m\u001b[0;34m,\u001b[0m \u001b[0;34m**\u001b[0m\u001b[0mkwargs\u001b[0m\u001b[0;34m)\u001b[0m\u001b[0;34m.\u001b[0m\u001b[0mlaunch\u001b[0m\u001b[0;34m(\u001b[0m\u001b[0;34m)\u001b[0m\u001b[0;34m\u001b[0m\u001b[0;34m\u001b[0m\u001b[0m\n\u001b[0m\u001b[1;32m    307\u001b[0m \u001b[0;34m\u001b[0m\u001b[0m\n\u001b[1;32m    308\u001b[0m \u001b[0;34m\u001b[0m\u001b[0m\n",
            "\u001b[0;32m/usr/local/lib/python3.7/dist-packages/pyppeteer/launcher.py\u001b[0m in \u001b[0;36mlaunch\u001b[0;34m(self)\u001b[0m\n\u001b[1;32m    165\u001b[0m \u001b[0;34m\u001b[0m\u001b[0m\n\u001b[1;32m    166\u001b[0m         \u001b[0mconnectionDelay\u001b[0m \u001b[0;34m=\u001b[0m \u001b[0mself\u001b[0m\u001b[0;34m.\u001b[0m\u001b[0mslowMo\u001b[0m\u001b[0;34m\u001b[0m\u001b[0;34m\u001b[0m\u001b[0m\n\u001b[0;32m--> 167\u001b[0;31m         \u001b[0mself\u001b[0m\u001b[0;34m.\u001b[0m\u001b[0mbrowserWSEndpoint\u001b[0m \u001b[0;34m=\u001b[0m \u001b[0mget_ws_endpoint\u001b[0m\u001b[0;34m(\u001b[0m\u001b[0mself\u001b[0m\u001b[0;34m.\u001b[0m\u001b[0murl\u001b[0m\u001b[0;34m)\u001b[0m\u001b[0;34m\u001b[0m\u001b[0;34m\u001b[0m\u001b[0m\n\u001b[0m\u001b[1;32m    168\u001b[0m         \u001b[0mlogger\u001b[0m\u001b[0;34m.\u001b[0m\u001b[0minfo\u001b[0m\u001b[0;34m(\u001b[0m\u001b[0;34mf'Browser listening on: {self.browserWSEndpoint}'\u001b[0m\u001b[0;34m)\u001b[0m\u001b[0;34m\u001b[0m\u001b[0;34m\u001b[0m\u001b[0m\n\u001b[1;32m    169\u001b[0m         \u001b[0mself\u001b[0m\u001b[0;34m.\u001b[0m\u001b[0mconnection\u001b[0m \u001b[0;34m=\u001b[0m \u001b[0mConnection\u001b[0m\u001b[0;34m(\u001b[0m\u001b[0mself\u001b[0m\u001b[0;34m.\u001b[0m\u001b[0mbrowserWSEndpoint\u001b[0m\u001b[0;34m,\u001b[0m \u001b[0mself\u001b[0m\u001b[0;34m.\u001b[0m\u001b[0m_loop\u001b[0m\u001b[0;34m,\u001b[0m \u001b[0mconnectionDelay\u001b[0m\u001b[0;34m,\u001b[0m \u001b[0;34m)\u001b[0m\u001b[0;34m\u001b[0m\u001b[0;34m\u001b[0m\u001b[0m\n",
            "\u001b[0;32m/usr/local/lib/python3.7/dist-packages/pyppeteer/launcher.py\u001b[0m in \u001b[0;36mget_ws_endpoint\u001b[0;34m(url)\u001b[0m\n\u001b[1;32m    224\u001b[0m     \u001b[0;32mwhile\u001b[0m \u001b[0;34m(\u001b[0m\u001b[0;32mTrue\u001b[0m\u001b[0;34m)\u001b[0m\u001b[0;34m:\u001b[0m\u001b[0;34m\u001b[0m\u001b[0;34m\u001b[0m\u001b[0m\n\u001b[1;32m    225\u001b[0m         \u001b[0;32mif\u001b[0m \u001b[0mtime\u001b[0m\u001b[0;34m.\u001b[0m\u001b[0mtime\u001b[0m\u001b[0;34m(\u001b[0m\u001b[0;34m)\u001b[0m \u001b[0;34m>\u001b[0m \u001b[0mtimeout\u001b[0m\u001b[0;34m:\u001b[0m\u001b[0;34m\u001b[0m\u001b[0;34m\u001b[0m\u001b[0m\n\u001b[0;32m--> 226\u001b[0;31m             \u001b[0;32mraise\u001b[0m \u001b[0mBrowserError\u001b[0m\u001b[0;34m(\u001b[0m\u001b[0;34m'Browser closed unexpectedly:\\n'\u001b[0m\u001b[0;34m)\u001b[0m\u001b[0;34m\u001b[0m\u001b[0;34m\u001b[0m\u001b[0m\n\u001b[0m\u001b[1;32m    227\u001b[0m         \u001b[0;32mtry\u001b[0m\u001b[0;34m:\u001b[0m\u001b[0;34m\u001b[0m\u001b[0;34m\u001b[0m\u001b[0m\n\u001b[1;32m    228\u001b[0m             \u001b[0;32mwith\u001b[0m \u001b[0murlopen\u001b[0m\u001b[0;34m(\u001b[0m\u001b[0murl\u001b[0m\u001b[0;34m)\u001b[0m \u001b[0;32mas\u001b[0m \u001b[0mf\u001b[0m\u001b[0;34m:\u001b[0m\u001b[0;34m\u001b[0m\u001b[0;34m\u001b[0m\u001b[0m\n",
            "\u001b[0;31mBrowserError\u001b[0m: Browser closed unexpectedly:\n"
          ]
        }
      ]
    },
    {
      "cell_type": "code",
      "metadata": {
        "id": "5omeZF6mLP8D"
      },
      "source": [
        ""
      ],
      "execution_count": null,
      "outputs": []
    },
    {
      "cell_type": "code",
      "metadata": {
        "id": "DUjwAPwRCq4l",
        "colab": {
          "base_uri": "https://localhost:8080/"
        },
        "outputId": "af7f2550-353b-4c26-df3f-a54546a7aeb9"
      },
      "source": [
        "!pip install nest-asyncio"
      ],
      "execution_count": null,
      "outputs": [
        {
          "output_type": "stream",
          "text": [
            "Requirement already satisfied: nest-asyncio in /usr/local/lib/python3.7/dist-packages (1.5.1)\n"
          ],
          "name": "stdout"
        }
      ]
    },
    {
      "cell_type": "code",
      "metadata": {
        "id": "DnyXmzPjKmNg"
      },
      "source": [
        "import nest_asyncio\n",
        "nest_asyncio.apply()"
      ],
      "execution_count": null,
      "outputs": []
    },
    {
      "cell_type": "markdown",
      "metadata": {
        "id": "u4HyfJmH45IR"
      },
      "source": [
        "# MagicGoogle"
      ]
    },
    {
      "cell_type": "code",
      "metadata": {
        "id": "YtjbvMfS5Iym",
        "colab": {
          "base_uri": "https://localhost:8080/"
        },
        "outputId": "87d45c88-8a1b-4a4a-b51f-22a607b9c11e"
      },
      "source": [
        "!pip install magic_google"
      ],
      "execution_count": 1,
      "outputs": [
        {
          "output_type": "stream",
          "name": "stdout",
          "text": [
            "Collecting magic_google\n",
            "  Downloading magic_google-0.2.9.tar.gz (4.1 kB)\n",
            "Collecting pyquery>=1.2.17\n",
            "  Downloading pyquery-1.4.3-py3-none-any.whl (22 kB)\n",
            "Requirement already satisfied: requests>=2.12.4 in /usr/local/lib/python3.7/dist-packages (from magic_google) (2.23.0)\n",
            "Collecting cchardet\n",
            "  Downloading cchardet-2.1.7-cp37-cp37m-manylinux2010_x86_64.whl (263 kB)\n",
            "\u001b[K     |████████████████████████████████| 263 kB 42.1 MB/s \n",
            "\u001b[?25hRequirement already satisfied: lxml>=2.1 in /usr/local/lib/python3.7/dist-packages (from pyquery>=1.2.17->magic_google) (4.2.6)\n",
            "Collecting cssselect>0.7.9\n",
            "  Downloading cssselect-1.1.0-py2.py3-none-any.whl (16 kB)\n",
            "Requirement already satisfied: certifi>=2017.4.17 in /usr/local/lib/python3.7/dist-packages (from requests>=2.12.4->magic_google) (2021.5.30)\n",
            "Requirement already satisfied: idna<3,>=2.5 in /usr/local/lib/python3.7/dist-packages (from requests>=2.12.4->magic_google) (2.10)\n",
            "Requirement already satisfied: chardet<4,>=3.0.2 in /usr/local/lib/python3.7/dist-packages (from requests>=2.12.4->magic_google) (3.0.4)\n",
            "Requirement already satisfied: urllib3!=1.25.0,!=1.25.1,<1.26,>=1.21.1 in /usr/local/lib/python3.7/dist-packages (from requests>=2.12.4->magic_google) (1.24.3)\n",
            "Building wheels for collected packages: magic-google\n",
            "  Building wheel for magic-google (setup.py) ... \u001b[?25l\u001b[?25hdone\n",
            "  Created wheel for magic-google: filename=magic_google-0.2.9-py3-none-any.whl size=3821 sha256=f21ba776f1e0e326ea4229819bb83c1bafc9ca1829d83c99eeac86d408258d5f\n",
            "  Stored in directory: /root/.cache/pip/wheels/b2/fa/24/a1001a6e6e5ce58d27170a713ae98d0bb93f6948677a2e6d7d\n",
            "Successfully built magic-google\n",
            "Installing collected packages: cssselect, pyquery, cchardet, magic-google\n",
            "Successfully installed cchardet-2.1.7 cssselect-1.1.0 magic-google-0.2.9 pyquery-1.4.3\n"
          ]
        }
      ]
    },
    {
      "cell_type": "code",
      "metadata": {
        "id": "FQCgyCKjKpT4"
      },
      "source": [
        "from magic_google import MagicGoogle\n",
        "import pandas as pd\n",
        "import re\n",
        "import random\n",
        "import time"
      ],
      "execution_count": 2,
      "outputs": []
    },
    {
      "cell_type": "code",
      "metadata": {
        "id": "SvjJsV9z5FPH"
      },
      "source": [
        "PROXIES = None\n",
        "mg = MagicGoogle(PROXIES)\n",
        "\n"
      ],
      "execution_count": 4,
      "outputs": []
    },
    {
      "cell_type": "code",
      "metadata": {
        "id": "bRvCBOiqCY7i"
      },
      "source": [
        "liste_file = 'Liste_Emetteurs_data.csv'\n",
        "\n",
        "liste = pd.read_csv(liste_file,sep=';')\n",
        "\n",
        "def clean_name(name):\n",
        "    name = re.sub(',','',name)\n",
        "    if '(' in name:\n",
        "        name = re.sub('\\(.+\\)','',name).strip()\n",
        "    name = re.sub('\\s+',' ',name)\n",
        "    if ' ' in name:\n",
        "        return ' '.join(re.split('\\s',name)[:-1])\n",
        "    else:\n",
        "        return name\n",
        "    \n",
        "liste['Emetteur_name'] = liste.Emetteur.apply(clean_name)"
      ],
      "execution_count": 11,
      "outputs": []
    },
    {
      "cell_type": "code",
      "metadata": {
        "id": "wCY1Xe915QR1"
      },
      "source": [
        "data = pd.DataFrame()"
      ],
      "execution_count": 19,
      "outputs": []
    },
    {
      "cell_type": "code",
      "metadata": {
        "id": "ZUGR1Y1kBWGL",
        "outputId": "cfc7f136-1a14-4e19-c4c9-eb7f2ac7f5a0",
        "colab": {
          "base_uri": "https://localhost:8080/"
        }
      },
      "source": [
        "for name, isin in liste[['Emetteur_name','Isin']].values:\n",
        "  q = 'annual report {} format:pdf'.format(name)\n",
        "  for url in mg.search_url(query=q, num=5):\n",
        "    if url.endswith('.pdf'):\n",
        "      year = re.findall('[-_](20\\d{2})',url)\n",
        "      data = data.append({'Emetteur_name':name, 'Isin':isin, 'url':url, 'year':year}, ignore_index=True)\n",
        "  print(name)"
      ],
      "execution_count": 20,
      "outputs": [
        {
          "output_type": "stream",
          "name": "stderr",
          "text": [
            "2021-09-17 14:29:40,397 - magic_google - INFO: https://www.google.com/search?q=annual+report+3I+GROUP+format%3Apdf&btnG=Search&gbv=1&num=5\n"
          ]
        },
        {
          "output_type": "stream",
          "name": "stdout",
          "text": [
            "3I GROUP\n"
          ]
        },
        {
          "output_type": "stream",
          "name": "stderr",
          "text": [
            "2021-09-17 14:29:43,335 - magic_google - INFO: https://www.google.com/search?q=annual+report+AARHUSKARLSHAMN+format%3Apdf&btnG=Search&gbv=1&num=5\n"
          ]
        },
        {
          "output_type": "stream",
          "name": "stdout",
          "text": [
            "AARHUSKARLSHAMN\n"
          ]
        },
        {
          "output_type": "stream",
          "name": "stderr",
          "text": [
            "2021-09-17 14:29:46,005 - magic_google - INFO: https://www.google.com/search?q=annual+report+ACKERMANS+VAN+HAAREN+format%3Apdf&btnG=Search&gbv=1&num=5\n"
          ]
        },
        {
          "output_type": "stream",
          "name": "stdout",
          "text": [
            "ACKERMANS VAN HAAREN\n"
          ]
        },
        {
          "output_type": "stream",
          "name": "stderr",
          "text": [
            "2021-09-17 14:29:48,775 - magic_google - INFO: https://www.google.com/search?q=annual+report+AddLife+format%3Apdf&btnG=Search&gbv=1&num=5\n"
          ]
        },
        {
          "output_type": "stream",
          "name": "stdout",
          "text": [
            "AddLife\n"
          ]
        },
        {
          "output_type": "stream",
          "name": "stderr",
          "text": [
            "2021-09-17 14:29:51,330 - magic_google - INFO: https://www.google.com/search?q=annual+report+ADDTECH+format%3Apdf&btnG=Search&gbv=1&num=5\n"
          ]
        },
        {
          "output_type": "stream",
          "name": "stdout",
          "text": [
            "ADDTECH\n"
          ]
        },
        {
          "output_type": "stream",
          "name": "stderr",
          "text": [
            "2021-09-17 14:29:53,928 - magic_google - INFO: https://www.google.com/search?q=annual+report+ADEVINTA+format%3Apdf&btnG=Search&gbv=1&num=5\n"
          ]
        },
        {
          "output_type": "stream",
          "name": "stdout",
          "text": [
            "ADEVINTA\n"
          ]
        },
        {
          "output_type": "stream",
          "name": "stderr",
          "text": [
            "2021-09-17 14:29:56,608 - magic_google - INFO: https://www.google.com/search?q=annual+report+ADMIRAL+format%3Apdf&btnG=Search&gbv=1&num=5\n"
          ]
        },
        {
          "output_type": "stream",
          "name": "stdout",
          "text": [
            "ADMIRAL\n"
          ]
        },
        {
          "output_type": "stream",
          "name": "stderr",
          "text": [
            "2021-09-17 14:29:59,241 - magic_google - INFO: https://www.google.com/search?q=annual+report+ADP+format%3Apdf&btnG=Search&gbv=1&num=5\n"
          ]
        },
        {
          "output_type": "stream",
          "name": "stdout",
          "text": [
            "ADP\n"
          ]
        },
        {
          "output_type": "stream",
          "name": "stderr",
          "text": [
            "2021-09-17 14:30:01,849 - magic_google - INFO: https://www.google.com/search?q=annual+report+ADYEN+format%3Apdf&btnG=Search&gbv=1&num=5\n"
          ]
        },
        {
          "output_type": "stream",
          "name": "stdout",
          "text": [
            "ADYEN\n"
          ]
        },
        {
          "output_type": "stream",
          "name": "stderr",
          "text": [
            "2021-09-17 14:30:04,406 - magic_google - INFO: https://www.google.com/search?q=annual+report+AEGON+format%3Apdf&btnG=Search&gbv=1&num=5\n"
          ]
        },
        {
          "output_type": "stream",
          "name": "stdout",
          "text": [
            "AEGON\n"
          ]
        },
        {
          "output_type": "stream",
          "name": "stderr",
          "text": [
            "2021-09-17 14:30:07,091 - magic_google - INFO: https://www.google.com/search?q=annual+report+AGEAS+format%3Apdf&btnG=Search&gbv=1&num=5\n"
          ]
        },
        {
          "output_type": "stream",
          "name": "stdout",
          "text": [
            "AGEAS\n"
          ]
        },
        {
          "output_type": "stream",
          "name": "stderr",
          "text": [
            "2021-09-17 14:30:09,633 - magic_google - INFO: https://www.google.com/search?q=annual+report+AKZO+format%3Apdf&btnG=Search&gbv=1&num=5\n"
          ]
        },
        {
          "output_type": "stream",
          "name": "stdout",
          "text": [
            "AKZO\n"
          ]
        },
        {
          "output_type": "stream",
          "name": "stderr",
          "text": [
            "2021-09-17 14:30:12,322 - magic_google - INFO: https://www.google.com/search?q=annual+report+ALCON+format%3Apdf&btnG=Search&gbv=1&num=5\n"
          ]
        },
        {
          "output_type": "stream",
          "name": "stdout",
          "text": [
            "ALCON\n"
          ]
        },
        {
          "output_type": "stream",
          "name": "stderr",
          "text": [
            "2021-09-17 14:30:15,060 - magic_google - INFO: https://www.google.com/search?q=annual+report+Allegro.eu+format%3Apdf&btnG=Search&gbv=1&num=5\n"
          ]
        },
        {
          "output_type": "stream",
          "name": "stdout",
          "text": [
            "Allegro.eu\n"
          ]
        },
        {
          "output_type": "stream",
          "name": "stderr",
          "text": [
            "2021-09-17 14:30:17,873 - magic_google - INFO: https://www.google.com/search?q=annual+report+Allfunds+Group+format%3Apdf&btnG=Search&gbv=1&num=5\n"
          ]
        },
        {
          "output_type": "stream",
          "name": "stdout",
          "text": [
            "Allfunds Group\n"
          ]
        },
        {
          "output_type": "stream",
          "name": "stderr",
          "text": [
            "2021-09-17 14:30:20,735 - magic_google - INFO: https://www.google.com/search?q=annual+report+ALLREAL+HOLDING+format%3Apdf&btnG=Search&gbv=1&num=5\n"
          ]
        },
        {
          "output_type": "stream",
          "name": "stdout",
          "text": [
            "ALLREAL HOLDING\n"
          ]
        },
        {
          "output_type": "stream",
          "name": "stderr",
          "text": [
            "2021-09-17 14:30:23,427 - magic_google - INFO: https://www.google.com/search?q=annual+report+AMBU+format%3Apdf&btnG=Search&gbv=1&num=5\n"
          ]
        },
        {
          "output_type": "stream",
          "name": "stdout",
          "text": [
            "AMBU\n"
          ]
        },
        {
          "output_type": "stream",
          "name": "stderr",
          "text": [
            "2021-09-17 14:30:25,984 - magic_google - INFO: https://www.google.com/search?q=annual+report+AMPLIFON+format%3Apdf&btnG=Search&gbv=1&num=5\n"
          ]
        },
        {
          "output_type": "stream",
          "name": "stdout",
          "text": [
            "AMPLIFON\n"
          ]
        },
        {
          "output_type": "stream",
          "name": "stderr",
          "text": [
            "2021-09-17 14:30:28,654 - magic_google - INFO: https://www.google.com/search?q=annual+report+ANDRITZ+format%3Apdf&btnG=Search&gbv=1&num=5\n"
          ]
        },
        {
          "output_type": "stream",
          "name": "stdout",
          "text": [
            "ANDRITZ\n"
          ]
        },
        {
          "output_type": "stream",
          "name": "stderr",
          "text": [
            "2021-09-17 14:30:31,273 - magic_google - INFO: https://www.google.com/search?q=annual+report+AP+MOLLER+-+MAERSK+format%3Apdf&btnG=Search&gbv=1&num=5\n"
          ]
        },
        {
          "output_type": "stream",
          "name": "stdout",
          "text": [
            "AP MOLLER - MAERSK\n"
          ]
        },
        {
          "output_type": "stream",
          "name": "stderr",
          "text": [
            "2021-09-17 14:30:33,900 - magic_google - INFO: https://www.google.com/search?q=annual+report+ARGENX+format%3Apdf&btnG=Search&gbv=1&num=5\n"
          ]
        },
        {
          "output_type": "stream",
          "name": "stdout",
          "text": [
            "ARGENX\n"
          ]
        },
        {
          "output_type": "stream",
          "name": "stderr",
          "text": [
            "2021-09-17 14:30:36,866 - magic_google - INFO: https://www.google.com/search?q=annual+report+AROUNDTOWN+format%3Apdf&btnG=Search&gbv=1&num=5\n"
          ]
        },
        {
          "output_type": "stream",
          "name": "stdout",
          "text": [
            "AROUNDTOWN\n"
          ]
        },
        {
          "output_type": "stream",
          "name": "stderr",
          "text": [
            "2021-09-17 14:30:39,736 - magic_google - INFO: https://www.google.com/search?q=annual+report+ASHMORE+GROUP+format%3Apdf&btnG=Search&gbv=1&num=5\n"
          ]
        },
        {
          "output_type": "stream",
          "name": "stdout",
          "text": [
            "ASHMORE GROUP\n"
          ]
        },
        {
          "output_type": "stream",
          "name": "stderr",
          "text": [
            "2021-09-17 14:30:42,338 - magic_google - INFO: https://www.google.com/search?q=annual+report+ASHTEAD+GROUP+format%3Apdf&btnG=Search&gbv=1&num=5\n"
          ]
        },
        {
          "output_type": "stream",
          "name": "stdout",
          "text": [
            "ASHTEAD GROUP\n"
          ]
        },
        {
          "output_type": "stream",
          "name": "stderr",
          "text": [
            "2021-09-17 14:30:44,919 - magic_google - INFO: https://www.google.com/search?q=annual+report+ASSURA+format%3Apdf&btnG=Search&gbv=1&num=5\n"
          ]
        },
        {
          "output_type": "stream",
          "name": "stdout",
          "text": [
            "ASSURA\n"
          ]
        },
        {
          "output_type": "stream",
          "name": "stderr",
          "text": [
            "2021-09-17 14:30:47,672 - magic_google - INFO: https://www.google.com/search?q=annual+report+AUTO+TRADER+GROUP+format%3Apdf&btnG=Search&gbv=1&num=5\n"
          ]
        },
        {
          "output_type": "stream",
          "name": "stdout",
          "text": [
            "AUTO TRADER GROUP\n"
          ]
        },
        {
          "output_type": "stream",
          "name": "stderr",
          "text": [
            "2021-09-17 14:30:50,240 - magic_google - INFO: https://www.google.com/search?q=annual+report+Auto1+Group+format%3Apdf&btnG=Search&gbv=1&num=5\n"
          ]
        },
        {
          "output_type": "stream",
          "name": "stdout",
          "text": [
            "Auto1 Group\n"
          ]
        },
        {
          "output_type": "stream",
          "name": "stderr",
          "text": [
            "2021-09-17 14:30:52,989 - magic_google - INFO: https://www.google.com/search?q=annual+report+Avanza+Bank+Holding+format%3Apdf&btnG=Search&gbv=1&num=5\n"
          ]
        },
        {
          "output_type": "stream",
          "name": "stdout",
          "text": [
            "Avanza Bank Holding\n"
          ]
        },
        {
          "output_type": "stream",
          "name": "stderr",
          "text": [
            "2021-09-17 14:30:55,720 - magic_google - INFO: https://www.google.com/search?q=annual+report+AVAST+format%3Apdf&btnG=Search&gbv=1&num=5\n"
          ]
        },
        {
          "output_type": "stream",
          "name": "stdout",
          "text": [
            "AVAST\n"
          ]
        },
        {
          "output_type": "stream",
          "name": "stderr",
          "text": [
            "2021-09-17 14:30:58,354 - magic_google - INFO: https://www.google.com/search?q=annual+report+AVEVA+GROUP+format%3Apdf&btnG=Search&gbv=1&num=5\n"
          ]
        },
        {
          "output_type": "stream",
          "name": "stdout",
          "text": [
            "AVEVA GROUP\n"
          ]
        },
        {
          "output_type": "stream",
          "name": "stderr",
          "text": [
            "2021-09-17 14:31:01,029 - magic_google - INFO: https://www.google.com/search?q=annual+report+BALOISE+HOLDING+format%3Apdf&btnG=Search&gbv=1&num=5\n"
          ]
        },
        {
          "output_type": "stream",
          "name": "stdout",
          "text": [
            "BALOISE HOLDING\n"
          ]
        },
        {
          "output_type": "stream",
          "name": "stderr",
          "text": [
            "2021-09-17 14:31:03,861 - magic_google - INFO: https://www.google.com/search?q=annual+report+BANK+format%3Apdf&btnG=Search&gbv=1&num=5\n"
          ]
        },
        {
          "output_type": "stream",
          "name": "stdout",
          "text": [
            "BANK\n"
          ]
        },
        {
          "output_type": "stream",
          "name": "stderr",
          "text": [
            "2021-09-17 14:31:06,438 - magic_google - INFO: https://www.google.com/search?q=annual+report+BAWAG+GROUP+format%3Apdf&btnG=Search&gbv=1&num=5\n"
          ]
        },
        {
          "output_type": "stream",
          "name": "stdout",
          "text": [
            "BAWAG GROUP\n"
          ]
        },
        {
          "output_type": "stream",
          "name": "stderr",
          "text": [
            "2021-09-17 14:31:09,179 - magic_google - INFO: https://www.google.com/search?q=annual+report+BE+SEMICONDUCTOR+format%3Apdf&btnG=Search&gbv=1&num=5\n"
          ]
        },
        {
          "output_type": "stream",
          "name": "stdout",
          "text": [
            "BE SEMICONDUCTOR\n"
          ]
        },
        {
          "output_type": "stream",
          "name": "stderr",
          "text": [
            "2021-09-17 14:31:11,784 - magic_google - INFO: https://www.google.com/search?q=annual+report+BECHTLE+format%3Apdf&btnG=Search&gbv=1&num=5\n"
          ]
        },
        {
          "output_type": "stream",
          "name": "stdout",
          "text": [
            "BECHTLE\n"
          ]
        },
        {
          "output_type": "stream",
          "name": "stderr",
          "text": [
            "2021-09-17 14:31:14,422 - magic_google - INFO: https://www.google.com/search?q=annual+report+Beijer+Ref+format%3Apdf&btnG=Search&gbv=1&num=5\n"
          ]
        },
        {
          "output_type": "stream",
          "name": "stdout",
          "text": [
            "Beijer Ref\n"
          ]
        },
        {
          "output_type": "stream",
          "name": "stderr",
          "text": [
            "2021-09-17 14:31:16,965 - magic_google - INFO: https://www.google.com/search?q=annual+report+Belimo+Holding+format%3Apdf&btnG=Search&gbv=1&num=5\n"
          ]
        },
        {
          "output_type": "stream",
          "name": "stdout",
          "text": [
            "Belimo Holding\n"
          ]
        },
        {
          "output_type": "stream",
          "name": "stderr",
          "text": [
            "2021-09-17 14:31:19,688 - magic_google - INFO: https://www.google.com/search?q=annual+report+BELLWAY+format%3Apdf&btnG=Search&gbv=1&num=5\n"
          ]
        },
        {
          "output_type": "stream",
          "name": "stdout",
          "text": [
            "BELLWAY\n"
          ]
        },
        {
          "output_type": "stream",
          "name": "stderr",
          "text": [
            "2021-09-17 14:31:22,330 - magic_google - INFO: https://www.google.com/search?q=annual+report+BHP+format%3Apdf&btnG=Search&gbv=1&num=5\n"
          ]
        },
        {
          "output_type": "stream",
          "name": "stdout",
          "text": [
            "BHP\n"
          ]
        },
        {
          "output_type": "stream",
          "name": "stderr",
          "text": [
            "2021-09-17 14:31:25,061 - magic_google - INFO: https://www.google.com/search?q=annual+report+BM+EUROPEAN+VALUE+RETAIL+format%3Apdf&btnG=Search&gbv=1&num=5\n"
          ]
        },
        {
          "output_type": "stream",
          "name": "stdout",
          "text": [
            "BM EUROPEAN VALUE RETAIL\n"
          ]
        },
        {
          "output_type": "stream",
          "name": "stderr",
          "text": [
            "2021-09-17 14:31:27,623 - magic_google - INFO: https://www.google.com/search?q=annual+report+Boliden+format%3Apdf&btnG=Search&gbv=1&num=5\n"
          ]
        },
        {
          "output_type": "stream",
          "name": "stdout",
          "text": [
            "Boliden\n"
          ]
        },
        {
          "output_type": "stream",
          "name": "stderr",
          "text": [
            "2021-09-17 14:31:30,331 - magic_google - INFO: https://www.google.com/search?q=annual+report+BP+format%3Apdf&btnG=Search&gbv=1&num=5\n"
          ]
        },
        {
          "output_type": "stream",
          "name": "stdout",
          "text": [
            "BP\n"
          ]
        },
        {
          "output_type": "stream",
          "name": "stderr",
          "text": [
            "2021-09-17 14:31:32,985 - magic_google - INFO: https://www.google.com/search?q=annual+report+Bucher+Industries+format%3Apdf&btnG=Search&gbv=1&num=5\n"
          ]
        },
        {
          "output_type": "stream",
          "name": "stdout",
          "text": [
            "Bucher Industries\n"
          ]
        },
        {
          "output_type": "stream",
          "name": "stderr",
          "text": [
            "2021-09-17 14:31:35,625 - magic_google - INFO: https://www.google.com/search?q=annual+report+CARNIVAL+format%3Apdf&btnG=Search&gbv=1&num=5\n"
          ]
        },
        {
          "output_type": "stream",
          "name": "stdout",
          "text": [
            "CARNIVAL\n"
          ]
        },
        {
          "output_type": "stream",
          "name": "stderr",
          "text": [
            "2021-09-17 14:31:38,407 - magic_google - INFO: https://www.google.com/search?q=annual+report+CD+format%3Apdf&btnG=Search&gbv=1&num=5\n"
          ]
        },
        {
          "output_type": "stream",
          "name": "stdout",
          "text": [
            "CD\n"
          ]
        },
        {
          "output_type": "stream",
          "name": "stderr",
          "text": [
            "2021-09-17 14:31:41,263 - magic_google - INFO: https://www.google.com/search?q=annual+report+CEMBRA+MONEY+format%3Apdf&btnG=Search&gbv=1&num=5\n"
          ]
        },
        {
          "output_type": "stream",
          "name": "stdout",
          "text": [
            "CEMBRA MONEY\n"
          ]
        },
        {
          "output_type": "stream",
          "name": "stderr",
          "text": [
            "2021-09-17 14:31:44,116 - magic_google - INFO: https://www.google.com/search?q=annual+report+Christian+Dior+format%3Apdf&btnG=Search&gbv=1&num=5\n"
          ]
        },
        {
          "output_type": "stream",
          "name": "stdout",
          "text": [
            "Christian Dior\n"
          ]
        },
        {
          "output_type": "stream",
          "name": "stderr",
          "text": [
            "2021-09-17 14:31:46,667 - magic_google - INFO: https://www.google.com/search?q=annual+report+COLRUYT+format%3Apdf&btnG=Search&gbv=1&num=5\n"
          ]
        },
        {
          "output_type": "stream",
          "name": "stdout",
          "text": [
            "COLRUYT\n"
          ]
        },
        {
          "output_type": "stream",
          "name": "stderr",
          "text": [
            "2021-09-17 14:31:49,356 - magic_google - INFO: https://www.google.com/search?q=annual+report+COMPASS+format%3Apdf&btnG=Search&gbv=1&num=5\n"
          ]
        },
        {
          "output_type": "stream",
          "name": "stdout",
          "text": [
            "COMPASS\n"
          ]
        },
        {
          "output_type": "stream",
          "name": "stderr",
          "text": [
            "2021-09-17 14:31:51,995 - magic_google - INFO: https://www.google.com/search?q=annual+report+COVESTRO+format%3Apdf&btnG=Search&gbv=1&num=5\n"
          ]
        },
        {
          "output_type": "stream",
          "name": "stdout",
          "text": [
            "COVESTRO\n"
          ]
        },
        {
          "output_type": "stream",
          "name": "stderr",
          "text": [
            "2021-09-17 14:31:54,573 - magic_google - INFO: https://www.google.com/search?q=annual+report+CRODA+format%3Apdf&btnG=Search&gbv=1&num=5\n"
          ]
        },
        {
          "output_type": "stream",
          "name": "stdout",
          "text": [
            "CRODA\n"
          ]
        },
        {
          "output_type": "stream",
          "name": "stderr",
          "text": [
            "2021-09-17 14:31:57,108 - magic_google - INFO: https://www.google.com/search?q=annual+report+CTS+EVENTIM+format%3Apdf&btnG=Search&gbv=1&num=5\n"
          ]
        },
        {
          "output_type": "stream",
          "name": "stdout",
          "text": [
            "CTS EVENTIM\n"
          ]
        },
        {
          "output_type": "stream",
          "name": "stderr",
          "text": [
            "2021-09-17 14:31:59,793 - magic_google - INFO: https://www.google.com/search?q=annual+report+CYBG+format%3Apdf&btnG=Search&gbv=1&num=5\n"
          ]
        },
        {
          "output_type": "stream",
          "name": "stdout",
          "text": [
            "CYBG\n"
          ]
        },
        {
          "output_type": "stream",
          "name": "stderr",
          "text": [
            "2021-09-17 14:32:02,395 - magic_google - INFO: https://www.google.com/search?q=annual+report+DASSAULT+AVIATION+format%3Apdf&btnG=Search&gbv=1&num=5\n"
          ]
        },
        {
          "output_type": "stream",
          "name": "stdout",
          "text": [
            "DASSAULT AVIATION\n"
          ]
        },
        {
          "output_type": "stream",
          "name": "stderr",
          "text": [
            "2021-09-17 14:32:05,110 - magic_google - INFO: https://www.google.com/search?q=annual+report+Dassault+Systemes+format%3Apdf&btnG=Search&gbv=1&num=5\n"
          ]
        },
        {
          "output_type": "stream",
          "name": "stdout",
          "text": [
            "Dassault Systemes\n"
          ]
        },
        {
          "output_type": "stream",
          "name": "stderr",
          "text": [
            "2021-09-17 14:32:07,716 - magic_google - INFO: https://www.google.com/search?q=annual+report+DAVIDE+format%3Apdf&btnG=Search&gbv=1&num=5\n"
          ]
        },
        {
          "output_type": "stream",
          "name": "stdout",
          "text": [
            "DAVIDE\n"
          ]
        },
        {
          "output_type": "stream",
          "name": "stderr",
          "text": [
            "2021-09-17 14:32:10,391 - magic_google - INFO: https://www.google.com/search?q=annual+report+DCC+format%3Apdf&btnG=Search&gbv=1&num=5\n"
          ]
        },
        {
          "output_type": "stream",
          "name": "stdout",
          "text": [
            "DCC\n"
          ]
        },
        {
          "output_type": "stream",
          "name": "stderr",
          "text": [
            "2021-09-17 14:32:12,969 - magic_google - INFO: https://www.google.com/search?q=annual+report+DECHRA+format%3Apdf&btnG=Search&gbv=1&num=5\n"
          ]
        },
        {
          "output_type": "stream",
          "name": "stdout",
          "text": [
            "DECHRA\n"
          ]
        },
        {
          "output_type": "stream",
          "name": "stderr",
          "text": [
            "2021-09-17 14:32:15,573 - magic_google - INFO: https://www.google.com/search?q=annual+report+Deliveroo+format%3Apdf&btnG=Search&gbv=1&num=5\n"
          ]
        },
        {
          "output_type": "stream",
          "name": "stdout",
          "text": [
            "Deliveroo\n"
          ]
        },
        {
          "output_type": "stream",
          "name": "stderr",
          "text": [
            "2021-09-17 14:32:18,254 - magic_google - INFO: https://www.google.com/search?q=annual+report+DELIVERY+HERO+format%3Apdf&btnG=Search&gbv=1&num=5\n"
          ]
        },
        {
          "output_type": "stream",
          "name": "stdout",
          "text": [
            "DELIVERY HERO\n"
          ]
        },
        {
          "output_type": "stream",
          "name": "stderr",
          "text": [
            "2021-09-17 14:32:20,872 - magic_google - INFO: https://www.google.com/search?q=annual+report+DEMANT+format%3Apdf&btnG=Search&gbv=1&num=5\n"
          ]
        },
        {
          "output_type": "stream",
          "name": "stdout",
          "text": [
            "DEMANT\n"
          ]
        },
        {
          "output_type": "stream",
          "name": "stderr",
          "text": [
            "2021-09-17 14:32:23,737 - magic_google - INFO: https://www.google.com/search?q=annual+report+DEUTSCHE+format%3Apdf&btnG=Search&gbv=1&num=5\n"
          ]
        },
        {
          "output_type": "stream",
          "name": "stdout",
          "text": [
            "DEUTSCHE\n"
          ]
        },
        {
          "output_type": "stream",
          "name": "stderr",
          "text": [
            "2021-09-17 14:32:26,324 - magic_google - INFO: https://www.google.com/search?q=annual+report+DIALOG+SEMICONDUCTOR+format%3Apdf&btnG=Search&gbv=1&num=5\n"
          ]
        },
        {
          "output_type": "stream",
          "name": "stdout",
          "text": [
            "DIALOG SEMICONDUCTOR\n"
          ]
        },
        {
          "output_type": "stream",
          "name": "stderr",
          "text": [
            "2021-09-17 14:32:28,937 - magic_google - INFO: https://www.google.com/search?q=annual+report+DIASORIN+format%3Apdf&btnG=Search&gbv=1&num=5\n"
          ]
        },
        {
          "output_type": "stream",
          "name": "stdout",
          "text": [
            "DIASORIN\n"
          ]
        },
        {
          "output_type": "stream",
          "name": "stderr",
          "text": [
            "2021-09-17 14:32:31,604 - magic_google - INFO: https://www.google.com/search?q=annual+report+DINO+POLSKA+format%3Apdf&btnG=Search&gbv=1&num=5\n"
          ]
        },
        {
          "output_type": "stream",
          "name": "stdout",
          "text": [
            "DINO POLSKA\n"
          ]
        },
        {
          "output_type": "stream",
          "name": "stderr",
          "text": [
            "2021-09-17 14:32:34,268 - magic_google - INFO: https://www.google.com/search?q=annual+report+DIPLOMA+format%3Apdf&btnG=Search&gbv=1&num=5\n"
          ]
        },
        {
          "output_type": "stream",
          "name": "stdout",
          "text": [
            "DIPLOMA\n"
          ]
        },
        {
          "output_type": "stream",
          "name": "stderr",
          "text": [
            "2021-09-17 14:32:36,900 - magic_google - INFO: https://www.google.com/search?q=annual+report+DNB+Bank+format%3Apdf&btnG=Search&gbv=1&num=5\n"
          ]
        },
        {
          "output_type": "stream",
          "name": "stdout",
          "text": [
            "DNB Bank\n"
          ]
        },
        {
          "output_type": "stream",
          "name": "stderr",
          "text": [
            "2021-09-17 14:32:40,191 - magic_google - INFO: https://www.google.com/search?q=annual+report+DOMETIC+GROUP+format%3Apdf&btnG=Search&gbv=1&num=5\n"
          ]
        },
        {
          "output_type": "stream",
          "name": "stdout",
          "text": [
            "DOMETIC GROUP\n"
          ]
        },
        {
          "output_type": "stream",
          "name": "stderr",
          "text": [
            "2021-09-17 14:32:43,020 - magic_google - INFO: https://www.google.com/search?q=annual+report+Dr.+Martens+format%3Apdf&btnG=Search&gbv=1&num=5\n"
          ]
        },
        {
          "output_type": "stream",
          "name": "stdout",
          "text": [
            "Dr. Martens\n"
          ]
        },
        {
          "output_type": "stream",
          "name": "stderr",
          "text": [
            "2021-09-17 14:32:45,570 - magic_google - INFO: https://www.google.com/search?q=annual+report+Dufry+format%3Apdf&btnG=Search&gbv=1&num=5\n"
          ]
        },
        {
          "output_type": "stream",
          "name": "stdout",
          "text": [
            "Dufry\n"
          ]
        },
        {
          "output_type": "stream",
          "name": "stderr",
          "text": [
            "2021-09-17 14:32:48,148 - magic_google - INFO: https://www.google.com/search?q=annual+report+EDP+Renovaveis+format%3Apdf&btnG=Search&gbv=1&num=5\n"
          ]
        },
        {
          "output_type": "stream",
          "name": "stdout",
          "text": [
            "EDP Renovaveis\n"
          ]
        },
        {
          "output_type": "stream",
          "name": "stderr",
          "text": [
            "2021-09-17 14:32:50,948 - magic_google - INFO: https://www.google.com/search?q=annual+report+EMS-CHEMIE+HOLDING+format%3Apdf&btnG=Search&gbv=1&num=5\n"
          ]
        },
        {
          "output_type": "stream",
          "name": "stdout",
          "text": [
            "EMS-CHEMIE HOLDING\n"
          ]
        },
        {
          "output_type": "stream",
          "name": "stderr",
          "text": [
            "2021-09-17 14:32:53,708 - magic_google - INFO: https://www.google.com/search?q=annual+report+ENTRA+format%3Apdf&btnG=Search&gbv=1&num=5\n"
          ]
        },
        {
          "output_type": "stream",
          "name": "stdout",
          "text": [
            "ENTRA\n"
          ]
        },
        {
          "output_type": "stream",
          "name": "stderr",
          "text": [
            "2021-09-17 14:32:56,302 - magic_google - INFO: https://www.google.com/search?q=annual+report+Epiroc+format%3Apdf&btnG=Search&gbv=1&num=5\n"
          ]
        },
        {
          "output_type": "stream",
          "name": "stdout",
          "text": [
            "Epiroc\n"
          ]
        },
        {
          "output_type": "stream",
          "name": "stderr",
          "text": [
            "2021-09-17 14:32:59,015 - magic_google - INFO: https://www.google.com/search?q=annual+report+EQT+format%3Apdf&btnG=Search&gbv=1&num=5\n"
          ]
        },
        {
          "output_type": "stream",
          "name": "stdout",
          "text": [
            "EQT\n"
          ]
        },
        {
          "output_type": "stream",
          "name": "stderr",
          "text": [
            "2021-09-17 14:33:01,713 - magic_google - INFO: https://www.google.com/search?q=annual+report+ERSTE+GROUP+BANK+format%3Apdf&btnG=Search&gbv=1&num=5\n"
          ]
        },
        {
          "output_type": "stream",
          "name": "stdout",
          "text": [
            "ERSTE GROUP BANK\n"
          ]
        },
        {
          "output_type": "stream",
          "name": "stderr",
          "text": [
            "2021-09-17 14:33:04,262 - magic_google - INFO: https://www.google.com/search?q=annual+report+ESSILORLUXOTTICA+format%3Apdf&btnG=Search&gbv=1&num=5\n"
          ]
        },
        {
          "output_type": "stream",
          "name": "stdout",
          "text": [
            "ESSILORLUXOTTICA\n"
          ]
        },
        {
          "output_type": "stream",
          "name": "stderr",
          "text": [
            "2021-09-17 14:33:06,877 - magic_google - INFO: https://www.google.com/search?q=annual+report+Eurofins+Scientific+format%3Apdf&btnG=Search&gbv=1&num=5\n"
          ]
        },
        {
          "output_type": "stream",
          "name": "stdout",
          "text": [
            "Eurofins Scientific\n"
          ]
        },
        {
          "output_type": "stream",
          "name": "stderr",
          "text": [
            "2021-09-17 14:33:09,512 - magic_google - INFO: https://www.google.com/search?q=annual+report+EURONEXT+format%3Apdf&btnG=Search&gbv=1&num=5\n"
          ]
        },
        {
          "output_type": "stream",
          "name": "stdout",
          "text": [
            "EURONEXT\n"
          ]
        },
        {
          "output_type": "stream",
          "name": "stderr",
          "text": [
            "2021-09-17 14:33:12,184 - magic_google - INFO: https://www.google.com/search?q=annual+report+EVOLUTION+GAMING+format%3Apdf&btnG=Search&gbv=1&num=5\n"
          ]
        },
        {
          "output_type": "stream",
          "name": "stdout",
          "text": [
            "EVOLUTION GAMING\n"
          ]
        },
        {
          "output_type": "stream",
          "name": "stderr",
          "text": [
            "2021-09-17 14:33:14,732 - magic_google - INFO: https://www.google.com/search?q=annual+report+EVOTEC+format%3Apdf&btnG=Search&gbv=1&num=5\n"
          ]
        },
        {
          "output_type": "stream",
          "name": "stdout",
          "text": [
            "EVOTEC\n"
          ]
        },
        {
          "output_type": "stream",
          "name": "stderr",
          "text": [
            "2021-09-17 14:33:17,414 - magic_google - INFO: https://www.google.com/search?q=annual+report+EXOR+format%3Apdf&btnG=Search&gbv=1&num=5\n"
          ]
        },
        {
          "output_type": "stream",
          "name": "stdout",
          "text": [
            "EXOR\n"
          ]
        },
        {
          "output_type": "stream",
          "name": "stderr",
          "text": [
            "2021-09-17 14:33:20,042 - magic_google - INFO: https://www.google.com/search?q=annual+report+EXPERIAN+format%3Apdf&btnG=Search&gbv=1&num=5\n"
          ]
        },
        {
          "output_type": "stream",
          "name": "stdout",
          "text": [
            "EXPERIAN\n"
          ]
        },
        {
          "output_type": "stream",
          "name": "stderr",
          "text": [
            "2021-09-17 14:33:22,874 - magic_google - INFO: https://www.google.com/search?q=annual+report+FASTIGHETS+AB+format%3Apdf&btnG=Search&gbv=1&num=5\n"
          ]
        },
        {
          "output_type": "stream",
          "name": "stdout",
          "text": [
            "FASTIGHETS AB\n"
          ]
        },
        {
          "output_type": "stream",
          "name": "stderr",
          "text": [
            "2021-09-17 14:33:25,640 - magic_google - INFO: https://www.google.com/search?q=annual+report+FERGUSON+format%3Apdf&btnG=Search&gbv=1&num=5\n"
          ]
        },
        {
          "output_type": "stream",
          "name": "stdout",
          "text": [
            "FERGUSON\n"
          ]
        },
        {
          "output_type": "stream",
          "name": "stderr",
          "text": [
            "2021-09-17 14:33:28,350 - magic_google - INFO: https://www.google.com/search?q=annual+report+FINECOBANK+BANCA+FINECO+format%3Apdf&btnG=Search&gbv=1&num=5\n"
          ]
        },
        {
          "output_type": "stream",
          "name": "stdout",
          "text": [
            "FINECOBANK BANCA FINECO\n"
          ]
        },
        {
          "output_type": "stream",
          "name": "stderr",
          "text": [
            "2021-09-17 14:33:31,220 - magic_google - INFO: https://www.google.com/search?q=annual+report+FLUGHAFEN+ZUERICH+format%3Apdf&btnG=Search&gbv=1&num=5\n"
          ]
        },
        {
          "output_type": "stream",
          "name": "stdout",
          "text": [
            "FLUGHAFEN ZUERICH\n"
          ]
        },
        {
          "output_type": "stream",
          "name": "stderr",
          "text": [
            "2021-09-17 14:33:33,752 - magic_google - INFO: https://www.google.com/search?q=annual+report+Fluidra+format%3Apdf&btnG=Search&gbv=1&num=5\n"
          ]
        },
        {
          "output_type": "stream",
          "name": "stdout",
          "text": [
            "Fluidra\n"
          ]
        },
        {
          "output_type": "stream",
          "name": "stderr",
          "text": [
            "2021-09-17 14:33:36,481 - magic_google - INFO: https://www.google.com/search?q=annual+report+FLUTTER+format%3Apdf&btnG=Search&gbv=1&num=5\n"
          ]
        },
        {
          "output_type": "stream",
          "name": "stdout",
          "text": [
            "FLUTTER\n"
          ]
        },
        {
          "output_type": "stream",
          "name": "stderr",
          "text": [
            "2021-09-17 14:33:39,243 - magic_google - INFO: https://www.google.com/search?q=annual+report+FREENET+format%3Apdf&btnG=Search&gbv=1&num=5\n"
          ]
        },
        {
          "output_type": "stream",
          "name": "stdout",
          "text": [
            "FREENET\n"
          ]
        },
        {
          "output_type": "stream",
          "name": "stderr",
          "text": [
            "2021-09-17 14:33:41,989 - magic_google - INFO: https://www.google.com/search?q=annual+report+FRESENIUS+MEDICAL+CARE+AG+format%3Apdf&btnG=Search&gbv=1&num=5\n"
          ]
        },
        {
          "output_type": "stream",
          "name": "stdout",
          "text": [
            "FRESENIUS MEDICAL CARE AG\n"
          ]
        },
        {
          "output_type": "stream",
          "name": "stderr",
          "text": [
            "2021-09-17 14:33:44,638 - magic_google - INFO: https://www.google.com/search?q=annual+report+FRESENIUS+SE+AND+CO+format%3Apdf&btnG=Search&gbv=1&num=5\n"
          ]
        },
        {
          "output_type": "stream",
          "name": "stdout",
          "text": [
            "FRESENIUS SE AND CO\n"
          ]
        },
        {
          "output_type": "stream",
          "name": "stderr",
          "text": [
            "2021-09-17 14:33:47,320 - magic_google - INFO: https://www.google.com/search?q=annual+report+FUCHS+PETROLUB+format%3Apdf&btnG=Search&gbv=1&num=5\n"
          ]
        },
        {
          "output_type": "stream",
          "name": "stdout",
          "text": [
            "FUCHS PETROLUB\n"
          ]
        },
        {
          "output_type": "stream",
          "name": "stderr",
          "text": [
            "2021-09-17 14:33:49,991 - magic_google - INFO: https://www.google.com/search?q=annual+report+Future+format%3Apdf&btnG=Search&gbv=1&num=5\n"
          ]
        },
        {
          "output_type": "stream",
          "name": "stdout",
          "text": [
            "Future\n"
          ]
        },
        {
          "output_type": "stream",
          "name": "stderr",
          "text": [
            "2021-09-17 14:33:52,609 - magic_google - INFO: https://www.google.com/search?q=annual+report+GALAPAGOS+format%3Apdf&btnG=Search&gbv=1&num=5\n"
          ]
        },
        {
          "output_type": "stream",
          "name": "stdout",
          "text": [
            "GALAPAGOS\n"
          ]
        },
        {
          "output_type": "stream",
          "name": "stderr",
          "text": [
            "2021-09-17 14:33:55,302 - magic_google - INFO: https://www.google.com/search?q=annual+report+GAMES+WORKSHOP+GROUP+format%3Apdf&btnG=Search&gbv=1&num=5\n"
          ]
        },
        {
          "output_type": "stream",
          "name": "stdout",
          "text": [
            "GAMES WORKSHOP GROUP\n"
          ]
        },
        {
          "output_type": "stream",
          "name": "stderr",
          "text": [
            "2021-09-17 14:33:57,874 - magic_google - INFO: https://www.google.com/search?q=annual+report+GENMAB+format%3Apdf&btnG=Search&gbv=1&num=5\n"
          ]
        },
        {
          "output_type": "stream",
          "name": "stdout",
          "text": [
            "GENMAB\n"
          ]
        },
        {
          "output_type": "stream",
          "name": "stderr",
          "text": [
            "2021-09-17 14:34:00,487 - magic_google - INFO: https://www.google.com/search?q=annual+report+GENUS+format%3Apdf&btnG=Search&gbv=1&num=5\n"
          ]
        },
        {
          "output_type": "stream",
          "name": "stdout",
          "text": [
            "GENUS\n"
          ]
        },
        {
          "output_type": "stream",
          "name": "stderr",
          "text": [
            "2021-09-17 14:34:03,006 - magic_google - INFO: https://www.google.com/search?q=annual+report+GETINGE+format%3Apdf&btnG=Search&gbv=1&num=5\n"
          ]
        },
        {
          "output_type": "stream",
          "name": "stdout",
          "text": [
            "GETINGE\n"
          ]
        },
        {
          "output_type": "stream",
          "name": "stderr",
          "text": [
            "2021-09-17 14:34:05,555 - magic_google - INFO: https://www.google.com/search?q=annual+report+GLENCORE+format%3Apdf&btnG=Search&gbv=1&num=5\n"
          ]
        },
        {
          "output_type": "stream",
          "name": "stdout",
          "text": [
            "GLENCORE\n"
          ]
        },
        {
          "output_type": "stream",
          "name": "stderr",
          "text": [
            "2021-09-17 14:34:08,237 - magic_google - INFO: https://www.google.com/search?q=annual+report+GN+STORE+format%3Apdf&btnG=Search&gbv=1&num=5\n"
          ]
        },
        {
          "output_type": "stream",
          "name": "stdout",
          "text": [
            "GN STORE\n"
          ]
        },
        {
          "output_type": "stream",
          "name": "stderr",
          "text": [
            "2021-09-17 14:34:10,914 - magic_google - INFO: https://www.google.com/search?q=annual+report+Grafton+Group+format%3Apdf&btnG=Search&gbv=1&num=5\n"
          ]
        },
        {
          "output_type": "stream",
          "name": "stdout",
          "text": [
            "Grafton Group\n"
          ]
        },
        {
          "output_type": "stream",
          "name": "stderr",
          "text": [
            "2021-09-17 14:34:13,621 - magic_google - INFO: https://www.google.com/search?q=annual+report+GRAND+CITY+format%3Apdf&btnG=Search&gbv=1&num=5\n"
          ]
        },
        {
          "output_type": "stream",
          "name": "stdout",
          "text": [
            "GRAND CITY\n"
          ]
        },
        {
          "output_type": "stream",
          "name": "stderr",
          "text": [
            "2021-09-17 14:34:16,394 - magic_google - INFO: https://www.google.com/search?q=annual+report+GROUPE+BRUXELLES+format%3Apdf&btnG=Search&gbv=1&num=5\n"
          ]
        },
        {
          "output_type": "stream",
          "name": "stdout",
          "text": [
            "GROUPE BRUXELLES\n"
          ]
        },
        {
          "output_type": "stream",
          "name": "stderr",
          "text": [
            "2021-09-17 14:34:19,089 - magic_google - INFO: https://www.google.com/search?q=annual+report+HARGREAVES+LANSDOWN+format%3Apdf&btnG=Search&gbv=1&num=5\n"
          ]
        },
        {
          "output_type": "stream",
          "name": "stdout",
          "text": [
            "HARGREAVES LANSDOWN\n"
          ]
        },
        {
          "output_type": "stream",
          "name": "stderr",
          "text": [
            "2021-09-17 14:34:21,764 - magic_google - INFO: https://www.google.com/search?q=annual+report+HEINEKEN+HOLDING+format%3Apdf&btnG=Search&gbv=1&num=5\n"
          ]
        },
        {
          "output_type": "stream",
          "name": "stdout",
          "text": [
            "HEINEKEN HOLDING\n"
          ]
        },
        {
          "output_type": "stream",
          "name": "stderr",
          "text": [
            "2021-09-17 14:34:24,376 - magic_google - INFO: https://www.google.com/search?q=annual+report+HELLOFRESH+format%3Apdf&btnG=Search&gbv=1&num=5\n"
          ]
        },
        {
          "output_type": "stream",
          "name": "stdout",
          "text": [
            "HELLOFRESH\n"
          ]
        },
        {
          "output_type": "stream",
          "name": "stderr",
          "text": [
            "2021-09-17 14:34:27,139 - magic_google - INFO: https://www.google.com/search?q=annual+report+HELVETIA+HOLDING+format%3Apdf&btnG=Search&gbv=1&num=5\n"
          ]
        },
        {
          "output_type": "stream",
          "name": "stdout",
          "text": [
            "HELVETIA HOLDING\n"
          ]
        },
        {
          "output_type": "stream",
          "name": "stderr",
          "text": [
            "2021-09-17 14:34:29,921 - magic_google - INFO: https://www.google.com/search?q=annual+report+Hexagon+format%3Apdf&btnG=Search&gbv=1&num=5\n"
          ]
        },
        {
          "output_type": "stream",
          "name": "stdout",
          "text": [
            "Hexagon\n"
          ]
        },
        {
          "output_type": "stream",
          "name": "stderr",
          "text": [
            "2021-09-17 14:34:32,517 - magic_google - INFO: https://www.google.com/search?q=annual+report+HOMESERVE+format%3Apdf&btnG=Search&gbv=1&num=5\n"
          ]
        },
        {
          "output_type": "stream",
          "name": "stdout",
          "text": [
            "HOMESERVE\n"
          ]
        },
        {
          "output_type": "stream",
          "name": "stderr",
          "text": [
            "2021-09-17 14:34:35,331 - magic_google - INFO: https://www.google.com/search?q=annual+report+HOWDEN+JOINERY+format%3Apdf&btnG=Search&gbv=1&num=5\n"
          ]
        },
        {
          "output_type": "stream",
          "name": "stdout",
          "text": [
            "HOWDEN JOINERY\n"
          ]
        },
        {
          "output_type": "stream",
          "name": "stderr",
          "text": [
            "2021-09-17 14:34:37,931 - magic_google - INFO: https://www.google.com/search?q=annual+report+HUHTAMAKI+format%3Apdf&btnG=Search&gbv=1&num=5\n"
          ]
        },
        {
          "output_type": "stream",
          "name": "stdout",
          "text": [
            "HUHTAMAKI\n"
          ]
        },
        {
          "output_type": "stream",
          "name": "stderr",
          "text": [
            "2021-09-17 14:34:40,548 - magic_google - INFO: https://www.google.com/search?q=annual+report+IDORSIA+format%3Apdf&btnG=Search&gbv=1&num=5\n"
          ]
        },
        {
          "output_type": "stream",
          "name": "stdout",
          "text": [
            "IDORSIA\n"
          ]
        },
        {
          "output_type": "stream",
          "name": "stderr",
          "text": [
            "2021-09-17 14:34:43,190 - magic_google - INFO: https://www.google.com/search?q=annual+report+IMCD+format%3Apdf&btnG=Search&gbv=1&num=5\n"
          ]
        },
        {
          "output_type": "stream",
          "name": "stdout",
          "text": [
            "IMCD\n"
          ]
        },
        {
          "output_type": "stream",
          "name": "stderr",
          "text": [
            "2021-09-17 14:34:45,813 - magic_google - INFO: https://www.google.com/search?q=annual+report+INCHCAPE+format%3Apdf&btnG=Search&gbv=1&num=5\n"
          ]
        },
        {
          "output_type": "stream",
          "name": "stdout",
          "text": [
            "INCHCAPE\n"
          ]
        },
        {
          "output_type": "stream",
          "name": "stderr",
          "text": [
            "2021-09-17 14:34:48,548 - magic_google - INFO: https://www.google.com/search?q=annual+report+Industrivarden+format%3Apdf&btnG=Search&gbv=1&num=5\n"
          ]
        },
        {
          "output_type": "stream",
          "name": "stdout",
          "text": [
            "Industrivarden\n"
          ]
        },
        {
          "output_type": "stream",
          "name": "stderr",
          "text": [
            "2021-09-17 14:34:51,126 - magic_google - INFO: https://www.google.com/search?q=annual+report+INDUTRADE+format%3Apdf&btnG=Search&gbv=1&num=5\n"
          ]
        },
        {
          "output_type": "stream",
          "name": "stdout",
          "text": [
            "INDUTRADE\n"
          ]
        },
        {
          "output_type": "stream",
          "name": "stderr",
          "text": [
            "2021-09-17 14:34:53,859 - magic_google - INFO: https://www.google.com/search?q=annual+report+INFRASTRUTTURE+WIRELESS+format%3Apdf&btnG=Search&gbv=1&num=5\n"
          ]
        },
        {
          "output_type": "stream",
          "name": "stdout",
          "text": [
            "INFRASTRUTTURE WIRELESS\n"
          ]
        },
        {
          "output_type": "stream",
          "name": "stderr",
          "text": [
            "2021-09-17 14:34:56,816 - magic_google - INFO: https://www.google.com/search?q=annual+report+InPost+format%3Apdf&btnG=Search&gbv=1&num=5\n"
          ]
        },
        {
          "output_type": "stream",
          "name": "stdout",
          "text": [
            "InPost\n"
          ]
        },
        {
          "output_type": "stream",
          "name": "stderr",
          "text": [
            "2021-09-17 14:34:59,464 - magic_google - INFO: https://www.google.com/search?q=annual+report+INTERPUMP+GROUP+format%3Apdf&btnG=Search&gbv=1&num=5\n"
          ]
        },
        {
          "output_type": "stream",
          "name": "stdout",
          "text": [
            "INTERPUMP GROUP\n"
          ]
        },
        {
          "output_type": "stream",
          "name": "stderr",
          "text": [
            "2021-09-17 14:35:02,255 - magic_google - INFO: https://www.google.com/search?q=annual+report+INVESTMENT+AB+format%3Apdf&btnG=Search&gbv=1&num=5\n"
          ]
        },
        {
          "output_type": "stream",
          "name": "stdout",
          "text": [
            "INVESTMENT AB\n"
          ]
        },
        {
          "output_type": "stream",
          "name": "stderr",
          "text": [
            "2021-09-17 14:35:04,899 - magic_google - INFO: https://www.google.com/search?q=annual+report+Investor+format%3Apdf&btnG=Search&gbv=1&num=5\n"
          ]
        },
        {
          "output_type": "stream",
          "name": "stdout",
          "text": [
            "Investor\n"
          ]
        },
        {
          "output_type": "stream",
          "name": "stderr",
          "text": [
            "2021-09-17 14:35:07,571 - magic_google - INFO: https://www.google.com/search?q=annual+report+JDE+PEETS+format%3Apdf&btnG=Search&gbv=1&num=5\n"
          ]
        },
        {
          "output_type": "stream",
          "name": "stdout",
          "text": [
            "JDE PEETS\n"
          ]
        },
        {
          "output_type": "stream",
          "name": "stderr",
          "text": [
            "2021-09-17 14:35:10,213 - magic_google - INFO: https://www.google.com/search?q=annual+report+KGHM+POLSKA+format%3Apdf&btnG=Search&gbv=1&num=5\n"
          ]
        },
        {
          "output_type": "stream",
          "name": "stdout",
          "text": [
            "KGHM POLSKA\n"
          ]
        },
        {
          "output_type": "stream",
          "name": "stderr",
          "text": [
            "2021-09-17 14:35:12,794 - magic_google - INFO: https://www.google.com/search?q=annual+report+Kinnevik+format%3Apdf&btnG=Search&gbv=1&num=5\n"
          ]
        },
        {
          "output_type": "stream",
          "name": "stdout",
          "text": [
            "Kinnevik\n"
          ]
        },
        {
          "output_type": "stream",
          "name": "stderr",
          "text": [
            "2021-09-17 14:35:15,456 - magic_google - INFO: https://www.google.com/search?q=annual+report+KNORR+BREMSE+format%3Apdf&btnG=Search&gbv=1&num=5\n"
          ]
        },
        {
          "output_type": "stream",
          "name": "stdout",
          "text": [
            "KNORR BREMSE\n"
          ]
        },
        {
          "output_type": "stream",
          "name": "stderr",
          "text": [
            "2021-09-17 14:35:18,072 - magic_google - INFO: https://www.google.com/search?q=annual+report+KONINKLIJKE+VOPAK+format%3Apdf&btnG=Search&gbv=1&num=5\n"
          ]
        },
        {
          "output_type": "stream",
          "name": "stdout",
          "text": [
            "KONINKLIJKE VOPAK\n"
          ]
        },
        {
          "output_type": "stream",
          "name": "stderr",
          "text": [
            "2021-09-17 14:35:20,721 - magic_google - INFO: https://www.google.com/search?q=annual+report+KUEHNE+%2B+NAGEL+INTERNATIONAL+format%3Apdf&btnG=Search&gbv=1&num=5\n"
          ]
        },
        {
          "output_type": "stream",
          "name": "stdout",
          "text": [
            "KUEHNE + NAGEL INTERNATIONAL\n"
          ]
        },
        {
          "output_type": "stream",
          "name": "stderr",
          "text": [
            "2021-09-17 14:35:23,877 - magic_google - INFO: https://www.google.com/search?q=annual+report+LA+FRANCAISE+DES+JEUX+format%3Apdf&btnG=Search&gbv=1&num=5\n"
          ]
        },
        {
          "output_type": "stream",
          "name": "stdout",
          "text": [
            "LA FRANCAISE DES JEUX\n"
          ]
        },
        {
          "output_type": "stream",
          "name": "stderr",
          "text": [
            "2021-09-17 14:35:26,533 - magic_google - INFO: https://www.google.com/search?q=annual+report+LEG+IMMOBILIEN+format%3Apdf&btnG=Search&gbv=1&num=5\n"
          ]
        },
        {
          "output_type": "stream",
          "name": "stdout",
          "text": [
            "LEG IMMOBILIEN\n"
          ]
        },
        {
          "output_type": "stream",
          "name": "stderr",
          "text": [
            "2021-09-17 14:35:29,076 - magic_google - INFO: https://www.google.com/search?q=annual+report+Lifco+format%3Apdf&btnG=Search&gbv=1&num=5\n"
          ]
        },
        {
          "output_type": "stream",
          "name": "stdout",
          "text": [
            "Lifco\n"
          ]
        },
        {
          "output_type": "stream",
          "name": "stderr",
          "text": [
            "2021-09-17 14:35:31,689 - magic_google - INFO: https://www.google.com/search?q=annual+report+LINDE+format%3Apdf&btnG=Search&gbv=1&num=5\n"
          ]
        },
        {
          "output_type": "stream",
          "name": "stdout",
          "text": [
            "LINDE\n"
          ]
        },
        {
          "output_type": "stream",
          "name": "stderr",
          "text": [
            "2021-09-17 14:35:34,190 - magic_google - INFO: https://www.google.com/search?q=annual+report+LONDONMETRIC+format%3Apdf&btnG=Search&gbv=1&num=5\n"
          ]
        },
        {
          "output_type": "stream",
          "name": "stdout",
          "text": [
            "LONDONMETRIC\n"
          ]
        },
        {
          "output_type": "stream",
          "name": "stderr",
          "text": [
            "2021-09-17 14:35:36,799 - magic_google - INFO: https://www.google.com/search?q=annual+report+LUNDBERGFORETAGEN+format%3Apdf&btnG=Search&gbv=1&num=5\n"
          ]
        },
        {
          "output_type": "stream",
          "name": "stdout",
          "text": [
            "LUNDBERGFORETAGEN\n"
          ]
        },
        {
          "output_type": "stream",
          "name": "stderr",
          "text": [
            "2021-09-17 14:35:39,421 - magic_google - INFO: https://www.google.com/search?q=annual+report+M%26G+format%3Apdf&btnG=Search&gbv=1&num=5\n"
          ]
        },
        {
          "output_type": "stream",
          "name": "stdout",
          "text": [
            "M&G\n"
          ]
        },
        {
          "output_type": "stream",
          "name": "stderr",
          "text": [
            "2021-09-17 14:35:42,208 - magic_google - INFO: https://www.google.com/search?q=annual+report+MAN+GROUP+format%3Apdf&btnG=Search&gbv=1&num=5\n"
          ]
        },
        {
          "output_type": "stream",
          "name": "stdout",
          "text": [
            "MAN GROUP\n"
          ]
        },
        {
          "output_type": "stream",
          "name": "stderr",
          "text": [
            "2021-09-17 14:35:44,931 - magic_google - INFO: https://www.google.com/search?q=annual+report+MEDIOBANCA+format%3Apdf&btnG=Search&gbv=1&num=5\n"
          ]
        },
        {
          "output_type": "stream",
          "name": "stdout",
          "text": [
            "MEDIOBANCA\n"
          ]
        },
        {
          "output_type": "stream",
          "name": "stderr",
          "text": [
            "2021-09-17 14:35:47,519 - magic_google - INFO: https://www.google.com/search?q=annual+report+MEGGITT+format%3Apdf&btnG=Search&gbv=1&num=5\n"
          ]
        },
        {
          "output_type": "stream",
          "name": "stdout",
          "text": [
            "MEGGITT\n"
          ]
        },
        {
          "output_type": "stream",
          "name": "stderr",
          "text": [
            "2021-09-17 14:35:50,246 - magic_google - INFO: https://www.google.com/search?q=annual+report+MELROSE+INDUSTRIES+format%3Apdf&btnG=Search&gbv=1&num=5\n"
          ]
        },
        {
          "output_type": "stream",
          "name": "stdout",
          "text": [
            "MELROSE INDUSTRIES\n"
          ]
        },
        {
          "output_type": "stream",
          "name": "stderr",
          "text": [
            "2021-09-17 14:35:52,829 - magic_google - INFO: https://www.google.com/search?q=annual+report+Millicom+International+Cellular+format%3Apdf&btnG=Search&gbv=1&num=5\n"
          ]
        },
        {
          "output_type": "stream",
          "name": "stdout",
          "text": [
            "Millicom International Cellular\n"
          ]
        },
        {
          "output_type": "stream",
          "name": "stderr",
          "text": [
            "2021-09-17 14:35:55,378 - magic_google - INFO: https://www.google.com/search?q=annual+report+MORPHOSYS+format%3Apdf&btnG=Search&gbv=1&num=5\n"
          ]
        },
        {
          "output_type": "stream",
          "name": "stdout",
          "text": [
            "MORPHOSYS\n"
          ]
        },
        {
          "output_type": "stream",
          "name": "stderr",
          "text": [
            "2021-09-17 14:35:58,039 - magic_google - INFO: https://www.google.com/search?q=annual+report+NEL+format%3Apdf&btnG=Search&gbv=1&num=5\n"
          ]
        },
        {
          "output_type": "stream",
          "name": "stdout",
          "text": [
            "NEL\n"
          ]
        },
        {
          "output_type": "stream",
          "name": "stderr",
          "text": [
            "2021-09-17 14:36:00,637 - magic_google - INFO: https://www.google.com/search?q=annual+report+NEMETSCHEK+format%3Apdf&btnG=Search&gbv=1&num=5\n"
          ]
        },
        {
          "output_type": "stream",
          "name": "stdout",
          "text": [
            "NEMETSCHEK\n"
          ]
        },
        {
          "output_type": "stream",
          "name": "stderr",
          "text": [
            "2021-09-17 14:36:03,475 - magic_google - INFO: https://www.google.com/search?q=annual+report+NETCOMPANY+GROUP+format%3Apdf&btnG=Search&gbv=1&num=5\n"
          ]
        },
        {
          "output_type": "stream",
          "name": "stdout",
          "text": [
            "NETCOMPANY GROUP\n"
          ]
        },
        {
          "output_type": "stream",
          "name": "stderr",
          "text": [
            "2021-09-17 14:36:06,070 - magic_google - INFO: https://www.google.com/search?q=annual+report+NEXI+format%3Apdf&btnG=Search&gbv=1&num=5\n"
          ]
        },
        {
          "output_type": "stream",
          "name": "stdout",
          "text": [
            "NEXI\n"
          ]
        },
        {
          "output_type": "stream",
          "name": "stderr",
          "text": [
            "2021-09-17 14:36:08,667 - magic_google - INFO: https://www.google.com/search?q=annual+report+Nibe+Industrier+format%3Apdf&btnG=Search&gbv=1&num=5\n"
          ]
        },
        {
          "output_type": "stream",
          "name": "stdout",
          "text": [
            "Nibe Industrier\n"
          ]
        },
        {
          "output_type": "stream",
          "name": "stderr",
          "text": [
            "2021-09-17 14:36:11,433 - magic_google - INFO: https://www.google.com/search?q=annual+report+NORDEA+BANK+format%3Apdf&btnG=Search&gbv=1&num=5\n"
          ]
        },
        {
          "output_type": "stream",
          "name": "stdout",
          "text": [
            "NORDEA BANK\n"
          ]
        },
        {
          "output_type": "stream",
          "name": "stderr",
          "text": [
            "2021-09-17 14:36:14,075 - magic_google - INFO: https://www.google.com/search?q=annual+report+Nordic+Entertainment+Group+format%3Apdf&btnG=Search&gbv=1&num=5\n"
          ]
        },
        {
          "output_type": "stream",
          "name": "stdout",
          "text": [
            "Nordic Entertainment Group\n"
          ]
        },
        {
          "output_type": "stream",
          "name": "stderr",
          "text": [
            "2021-09-17 14:36:16,632 - magic_google - INFO: https://www.google.com/search?q=annual+report+OCADO+format%3Apdf&btnG=Search&gbv=1&num=5\n"
          ]
        },
        {
          "output_type": "stream",
          "name": "stdout",
          "text": [
            "OCADO\n"
          ]
        },
        {
          "output_type": "stream",
          "name": "stderr",
          "text": [
            "2021-09-17 14:36:19,283 - magic_google - INFO: https://www.google.com/search?q=annual+report+PARTNERS+format%3Apdf&btnG=Search&gbv=1&num=5\n"
          ]
        },
        {
          "output_type": "stream",
          "name": "stdout",
          "text": [
            "PARTNERS\n"
          ]
        },
        {
          "output_type": "stream",
          "name": "stderr",
          "text": [
            "2021-09-17 14:36:21,923 - magic_google - INFO: https://www.google.com/search?q=annual+report+Pennon+Group+format%3Apdf&btnG=Search&gbv=1&num=5\n"
          ]
        },
        {
          "output_type": "stream",
          "name": "stdout",
          "text": [
            "Pennon Group\n"
          ]
        },
        {
          "output_type": "stream",
          "name": "stderr",
          "text": [
            "2021-09-17 14:36:24,726 - magic_google - INFO: https://www.google.com/search?q=annual+report+Phoenix+Group+Holdings+format%3Apdf&btnG=Search&gbv=1&num=5\n"
          ]
        },
        {
          "output_type": "stream",
          "name": "stdout",
          "text": [
            "Phoenix Group Holdings\n"
          ]
        },
        {
          "output_type": "stream",
          "name": "stderr",
          "text": [
            "2021-09-17 14:36:27,422 - magic_google - INFO: https://www.google.com/search?q=annual+report+POLSKI+KONCERN+NAFTOWY+format%3Apdf&btnG=Search&gbv=1&num=5\n"
          ]
        },
        {
          "output_type": "stream",
          "name": "stdout",
          "text": [
            "POLSKI KONCERN NAFTOWY\n"
          ]
        },
        {
          "output_type": "stream",
          "name": "stderr",
          "text": [
            "2021-09-17 14:36:30,151 - magic_google - INFO: https://www.google.com/search?q=annual+report+Porsche+Automobil+Holding+format%3Apdf&btnG=Search&gbv=1&num=5\n"
          ]
        },
        {
          "output_type": "stream",
          "name": "stdout",
          "text": [
            "Porsche Automobil Holding\n"
          ]
        },
        {
          "output_type": "stream",
          "name": "stderr",
          "text": [
            "2021-09-17 14:36:32,894 - magic_google - INFO: https://www.google.com/search?q=annual+report+POWSZECHNA+KASA+OSZCZEDNOSCI+format%3Apdf&btnG=Search&gbv=1&num=5\n"
          ]
        },
        {
          "output_type": "stream",
          "name": "stdout",
          "text": [
            "POWSZECHNA KASA OSZCZEDNOSCI\n"
          ]
        },
        {
          "output_type": "stream",
          "name": "stderr",
          "text": [
            "2021-09-17 14:36:35,562 - magic_google - INFO: https://www.google.com/search?q=annual+report+PRIMARY+HEALTH+format%3Apdf&btnG=Search&gbv=1&num=5\n"
          ]
        },
        {
          "output_type": "stream",
          "name": "stdout",
          "text": [
            "PRIMARY HEALTH\n"
          ]
        },
        {
          "output_type": "stream",
          "name": "stderr",
          "text": [
            "2021-09-17 14:36:38,245 - magic_google - INFO: https://www.google.com/search?q=annual+report+PROSUS+format%3Apdf&btnG=Search&gbv=1&num=5\n"
          ]
        },
        {
          "output_type": "stream",
          "name": "stdout",
          "text": [
            "PROSUS\n"
          ]
        },
        {
          "output_type": "stream",
          "name": "stderr",
          "text": [
            "2021-09-17 14:36:40,747 - magic_google - INFO: https://www.google.com/search?q=annual+report+PZU+format%3Apdf&btnG=Search&gbv=1&num=5\n"
          ]
        },
        {
          "output_type": "stream",
          "name": "stdout",
          "text": [
            "PZU\n"
          ]
        },
        {
          "output_type": "stream",
          "name": "stderr",
          "text": [
            "2021-09-17 14:36:43,463 - magic_google - INFO: https://www.google.com/search?q=annual+report+QIAGEN+format%3Apdf&btnG=Search&gbv=1&num=5\n"
          ]
        },
        {
          "output_type": "stream",
          "name": "stdout",
          "text": [
            "QIAGEN\n"
          ]
        },
        {
          "output_type": "stream",
          "name": "stderr",
          "text": [
            "2021-09-17 14:36:46,164 - magic_google - INFO: https://www.google.com/search?q=annual+report+QUILTER+format%3Apdf&btnG=Search&gbv=1&num=5\n"
          ]
        },
        {
          "output_type": "stream",
          "name": "stdout",
          "text": [
            "QUILTER\n"
          ]
        },
        {
          "output_type": "stream",
          "name": "stderr",
          "text": [
            "2021-09-17 14:36:48,850 - magic_google - INFO: https://www.google.com/search?q=annual+report+RATIONAL+format%3Apdf&btnG=Search&gbv=1&num=5\n"
          ]
        },
        {
          "output_type": "stream",
          "name": "stdout",
          "text": [
            "RATIONAL\n"
          ]
        },
        {
          "output_type": "stream",
          "name": "stderr",
          "text": [
            "2021-09-17 14:36:51,411 - magic_google - INFO: https://www.google.com/search?q=annual+report+RECORDATI+format%3Apdf&btnG=Search&gbv=1&num=5\n"
          ]
        },
        {
          "output_type": "stream",
          "name": "stdout",
          "text": [
            "RECORDATI\n"
          ]
        },
        {
          "output_type": "stream",
          "name": "stderr",
          "text": [
            "2021-09-17 14:36:54,130 - magic_google - INFO: https://www.google.com/search?q=annual+report+RHEINMETALL+format%3Apdf&btnG=Search&gbv=1&num=5\n"
          ]
        },
        {
          "output_type": "stream",
          "name": "stdout",
          "text": [
            "RHEINMETALL\n"
          ]
        },
        {
          "output_type": "stream",
          "name": "stderr",
          "text": [
            "2021-09-17 14:36:56,708 - magic_google - INFO: https://www.google.com/search?q=annual+report+RICHEMONT+CIE+format%3Apdf&btnG=Search&gbv=1&num=5\n"
          ]
        },
        {
          "output_type": "stream",
          "name": "stdout",
          "text": [
            "RICHEMONT CIE\n"
          ]
        },
        {
          "output_type": "stream",
          "name": "stderr",
          "text": [
            "2021-09-17 14:36:59,404 - magic_google - INFO: https://www.google.com/search?q=annual+report+RIGHTMOVE+format%3Apdf&btnG=Search&gbv=1&num=5\n"
          ]
        },
        {
          "output_type": "stream",
          "name": "stdout",
          "text": [
            "RIGHTMOVE\n"
          ]
        },
        {
          "output_type": "stream",
          "name": "stderr",
          "text": [
            "2021-09-17 14:37:02,166 - magic_google - INFO: https://www.google.com/search?q=annual+report+RIO+format%3Apdf&btnG=Search&gbv=1&num=5\n"
          ]
        },
        {
          "output_type": "stream",
          "name": "stdout",
          "text": [
            "RIO\n"
          ]
        },
        {
          "output_type": "stream",
          "name": "stderr",
          "text": [
            "2021-09-17 14:37:04,833 - magic_google - INFO: https://www.google.com/search?q=annual+report+ROCHE+HOLDING+format%3Apdf&btnG=Search&gbv=1&num=5\n"
          ]
        },
        {
          "output_type": "stream",
          "name": "stdout",
          "text": [
            "ROCHE HOLDING\n"
          ]
        },
        {
          "output_type": "stream",
          "name": "stderr",
          "text": [
            "2021-09-17 14:37:07,572 - magic_google - INFO: https://www.google.com/search?q=annual+report+ROLLS+ROYCE+format%3Apdf&btnG=Search&gbv=1&num=5\n"
          ]
        },
        {
          "output_type": "stream",
          "name": "stdout",
          "text": [
            "ROLLS ROYCE\n"
          ]
        },
        {
          "output_type": "stream",
          "name": "stderr",
          "text": [
            "2021-09-17 14:37:10,227 - magic_google - INFO: https://www.google.com/search?q=annual+report+RUBIS+format%3Apdf&btnG=Search&gbv=1&num=5\n"
          ]
        },
        {
          "output_type": "stream",
          "name": "stdout",
          "text": [
            "RUBIS\n"
          ]
        },
        {
          "output_type": "stream",
          "name": "stderr",
          "text": [
            "2021-09-17 14:37:13,035 - magic_google - INFO: https://www.google.com/search?q=annual+report+S4+Capital+format%3Apdf&btnG=Search&gbv=1&num=5\n"
          ]
        },
        {
          "output_type": "stream",
          "name": "stdout",
          "text": [
            "S4 Capital\n"
          ]
        },
        {
          "output_type": "stream",
          "name": "stderr",
          "text": [
            "2021-09-17 14:37:15,717 - magic_google - INFO: https://www.google.com/search?q=annual+report+Sagax+format%3Apdf&btnG=Search&gbv=1&num=5\n"
          ]
        },
        {
          "output_type": "stream",
          "name": "stdout",
          "text": [
            "Sagax\n"
          ]
        },
        {
          "output_type": "stream",
          "name": "stderr",
          "text": [
            "2021-09-17 14:37:18,358 - magic_google - INFO: https://www.google.com/search?q=annual+report+SAMHALLSBYGGNADSBOLAGET+I+NORDEN+format%3Apdf&btnG=Search&gbv=1&num=5\n"
          ]
        },
        {
          "output_type": "stream",
          "name": "stdout",
          "text": [
            "SAMHALLSBYGGNADSBOLAGET I NORDEN\n"
          ]
        },
        {
          "output_type": "stream",
          "name": "stderr",
          "text": [
            "2021-09-17 14:37:21,050 - magic_google - INFO: https://www.google.com/search?q=annual+report+SAMPO+format%3Apdf&btnG=Search&gbv=1&num=5\n"
          ]
        },
        {
          "output_type": "stream",
          "name": "stdout",
          "text": [
            "SAMPO\n"
          ]
        },
        {
          "output_type": "stream",
          "name": "stderr",
          "text": [
            "2021-09-17 14:37:23,618 - magic_google - INFO: https://www.google.com/search?q=annual+report+Sartorius+format%3Apdf&btnG=Search&gbv=1&num=5\n"
          ]
        },
        {
          "output_type": "stream",
          "name": "stdout",
          "text": [
            "Sartorius\n"
          ]
        },
        {
          "output_type": "stream",
          "name": "stderr",
          "text": [
            "2021-09-17 14:37:26,208 - magic_google - INFO: https://www.google.com/search?q=annual+report+SARTORIUS+STEDIM+format%3Apdf&btnG=Search&gbv=1&num=5\n"
          ]
        },
        {
          "output_type": "stream",
          "name": "stdout",
          "text": [
            "SARTORIUS STEDIM\n"
          ]
        },
        {
          "output_type": "stream",
          "name": "stderr",
          "text": [
            "2021-09-17 14:37:28,774 - magic_google - INFO: https://www.google.com/search?q=annual+report+SCOUT24+format%3Apdf&btnG=Search&gbv=1&num=5\n"
          ]
        },
        {
          "output_type": "stream",
          "name": "stdout",
          "text": [
            "SCOUT24\n"
          ]
        },
        {
          "output_type": "stream",
          "name": "stderr",
          "text": [
            "2021-09-17 14:37:31,381 - magic_google - INFO: https://www.google.com/search?q=annual+report+SECURITAS+format%3Apdf&btnG=Search&gbv=1&num=5\n"
          ]
        },
        {
          "output_type": "stream",
          "name": "stdout",
          "text": [
            "SECURITAS\n"
          ]
        },
        {
          "output_type": "stream",
          "name": "stderr",
          "text": [
            "2021-09-17 14:37:34,038 - magic_google - INFO: https://www.google.com/search?q=annual+report+SES+format%3Apdf&btnG=Search&gbv=1&num=5\n"
          ]
        },
        {
          "output_type": "stream",
          "name": "stdout",
          "text": [
            "SES\n"
          ]
        },
        {
          "output_type": "stream",
          "name": "stderr",
          "text": [
            "2021-09-17 14:37:36,757 - magic_google - INFO: https://www.google.com/search?q=annual+report+Siegfried+Holding+format%3Apdf&btnG=Search&gbv=1&num=5\n"
          ]
        },
        {
          "output_type": "stream",
          "name": "stdout",
          "text": [
            "Siegfried Holding\n"
          ]
        },
        {
          "output_type": "stream",
          "name": "stderr",
          "text": [
            "2021-09-17 14:37:39,423 - magic_google - INFO: https://www.google.com/search?q=annual+report+SIEMENS+format%3Apdf&btnG=Search&gbv=1&num=5\n"
          ]
        },
        {
          "output_type": "stream",
          "name": "stdout",
          "text": [
            "SIEMENS\n"
          ]
        },
        {
          "output_type": "stream",
          "name": "stderr",
          "text": [
            "2021-09-17 14:37:42,356 - magic_google - INFO: https://www.google.com/search?q=annual+report+Sinch+format%3Apdf&btnG=Search&gbv=1&num=5\n"
          ]
        },
        {
          "output_type": "stream",
          "name": "stdout",
          "text": [
            "Sinch\n"
          ]
        },
        {
          "output_type": "stream",
          "name": "stderr",
          "text": [
            "2021-09-17 14:37:45,044 - magic_google - INFO: https://www.google.com/search?q=annual+report+SKF+format%3Apdf&btnG=Search&gbv=1&num=5\n"
          ]
        },
        {
          "output_type": "stream",
          "name": "stdout",
          "text": [
            "SKF\n"
          ]
        },
        {
          "output_type": "stream",
          "name": "stderr",
          "text": [
            "2021-09-17 14:37:47,626 - magic_google - INFO: https://www.google.com/search?q=annual+report+SOFINA+format%3Apdf&btnG=Search&gbv=1&num=5\n"
          ]
        },
        {
          "output_type": "stream",
          "name": "stdout",
          "text": [
            "SOFINA\n"
          ]
        },
        {
          "output_type": "stream",
          "name": "stderr",
          "text": [
            "2021-09-17 14:37:50,247 - magic_google - INFO: https://www.google.com/search?q=annual+report+Softcat+format%3Apdf&btnG=Search&gbv=1&num=5\n"
          ]
        },
        {
          "output_type": "stream",
          "name": "stdout",
          "text": [
            "Softcat\n"
          ]
        },
        {
          "output_type": "stream",
          "name": "stderr",
          "text": [
            "2021-09-17 14:37:52,847 - magic_google - INFO: https://www.google.com/search?q=annual+report+SPECTRIS+format%3Apdf&btnG=Search&gbv=1&num=5\n"
          ]
        },
        {
          "output_type": "stream",
          "name": "stdout",
          "text": [
            "SPECTRIS\n"
          ]
        },
        {
          "output_type": "stream",
          "name": "stderr",
          "text": [
            "2021-09-17 14:37:55,497 - magic_google - INFO: https://www.google.com/search?q=annual+report+SPIE+format%3Apdf&btnG=Search&gbv=1&num=5\n"
          ]
        },
        {
          "output_type": "stream",
          "name": "stdout",
          "text": [
            "SPIE\n"
          ]
        },
        {
          "output_type": "stream",
          "name": "stderr",
          "text": [
            "2021-09-17 14:37:58,158 - magic_google - INFO: https://www.google.com/search?q=annual+report+STADLER+RAIL+format%3Apdf&btnG=Search&gbv=1&num=5\n"
          ]
        },
        {
          "output_type": "stream",
          "name": "stdout",
          "text": [
            "STADLER RAIL\n"
          ]
        },
        {
          "output_type": "stream",
          "name": "stderr",
          "text": [
            "2021-09-17 14:38:00,917 - magic_google - INFO: https://www.google.com/search?q=annual+report+STANDARD+LIFE+format%3Apdf&btnG=Search&gbv=1&num=5\n"
          ]
        },
        {
          "output_type": "stream",
          "name": "stdout",
          "text": [
            "STANDARD LIFE\n"
          ]
        },
        {
          "output_type": "stream",
          "name": "stderr",
          "text": [
            "2021-09-17 14:38:03,554 - magic_google - INFO: https://www.google.com/search?q=annual+report+Stellantis+format%3Apdf&btnG=Search&gbv=1&num=5\n"
          ]
        },
        {
          "output_type": "stream",
          "name": "stdout",
          "text": [
            "Stellantis\n"
          ]
        },
        {
          "output_type": "stream",
          "name": "stderr",
          "text": [
            "2021-09-17 14:38:06,431 - magic_google - INFO: https://www.google.com/search?q=annual+report+SVENSKA+CELLULOSA+format%3Apdf&btnG=Search&gbv=1&num=5\n"
          ]
        },
        {
          "output_type": "stream",
          "name": "stdout",
          "text": [
            "SVENSKA CELLULOSA\n"
          ]
        },
        {
          "output_type": "stream",
          "name": "stderr",
          "text": [
            "2021-09-17 14:38:09,249 - magic_google - INFO: https://www.google.com/search?q=annual+report+SWATCH+GROUP+format%3Apdf&btnG=Search&gbv=1&num=5\n"
          ]
        },
        {
          "output_type": "stream",
          "name": "stdout",
          "text": [
            "SWATCH GROUP\n"
          ]
        },
        {
          "output_type": "stream",
          "name": "stderr",
          "text": [
            "2021-09-17 14:38:11,910 - magic_google - INFO: https://www.google.com/search?q=annual+report+Sweco+format%3Apdf&btnG=Search&gbv=1&num=5\n"
          ]
        },
        {
          "output_type": "stream",
          "name": "stdout",
          "text": [
            "Sweco\n"
          ]
        },
        {
          "output_type": "stream",
          "name": "stderr",
          "text": [
            "2021-09-17 14:38:14,617 - magic_google - INFO: https://www.google.com/search?q=annual+report+Swedish+Match+format%3Apdf&btnG=Search&gbv=1&num=5\n"
          ]
        },
        {
          "output_type": "stream",
          "name": "stdout",
          "text": [
            "Swedish Match\n"
          ]
        },
        {
          "output_type": "stream",
          "name": "stderr",
          "text": [
            "2021-09-17 14:38:17,187 - magic_google - INFO: https://www.google.com/search?q=annual+report+SWEDISH+ORPHAN+BIOVITRUM+format%3Apdf&btnG=Search&gbv=1&num=5\n"
          ]
        },
        {
          "output_type": "stream",
          "name": "stdout",
          "text": [
            "SWEDISH ORPHAN BIOVITRUM\n"
          ]
        },
        {
          "output_type": "stream",
          "name": "stderr",
          "text": [
            "2021-09-17 14:38:19,954 - magic_google - INFO: https://www.google.com/search?q=annual+report+SWISS+PRIME+SITE+format%3Apdf&btnG=Search&gbv=1&num=5\n"
          ]
        },
        {
          "output_type": "stream",
          "name": "stdout",
          "text": [
            "SWISS PRIME SITE\n"
          ]
        },
        {
          "output_type": "stream",
          "name": "stderr",
          "text": [
            "2021-09-17 14:38:22,705 - magic_google - INFO: https://www.google.com/search?q=annual+report+TAG+IMMOBILIEN+format%3Apdf&btnG=Search&gbv=1&num=5\n"
          ]
        },
        {
          "output_type": "stream",
          "name": "stdout",
          "text": [
            "TAG IMMOBILIEN\n"
          ]
        },
        {
          "output_type": "stream",
          "name": "stderr",
          "text": [
            "2021-09-17 14:38:25,379 - magic_google - INFO: https://www.google.com/search?q=annual+report+TAKEAWAY.COM+format%3Apdf&btnG=Search&gbv=1&num=5\n"
          ]
        },
        {
          "output_type": "stream",
          "name": "stdout",
          "text": [
            "TAKEAWAY.COM\n"
          ]
        },
        {
          "output_type": "stream",
          "name": "stderr",
          "text": [
            "2021-09-17 14:38:28,039 - magic_google - INFO: https://www.google.com/search?q=annual+report+TEAMVIEWER+format%3Apdf&btnG=Search&gbv=1&num=5\n"
          ]
        },
        {
          "output_type": "stream",
          "name": "stdout",
          "text": [
            "TEAMVIEWER\n"
          ]
        },
        {
          "output_type": "stream",
          "name": "stderr",
          "text": [
            "2021-09-17 14:38:30,603 - magic_google - INFO: https://www.google.com/search?q=annual+report+TELEPERFORMANCE+format%3Apdf&btnG=Search&gbv=1&num=5\n"
          ]
        },
        {
          "output_type": "stream",
          "name": "stdout",
          "text": [
            "TELEPERFORMANCE\n"
          ]
        },
        {
          "output_type": "stream",
          "name": "stderr",
          "text": [
            "2021-09-17 14:38:33,261 - magic_google - INFO: https://www.google.com/search?q=annual+report+TEMENOS+GROUP+format%3Apdf&btnG=Search&gbv=1&num=5\n"
          ]
        },
        {
          "output_type": "stream",
          "name": "stdout",
          "text": [
            "TEMENOS GROUP\n"
          ]
        },
        {
          "output_type": "stream",
          "name": "stderr",
          "text": [
            "2021-09-17 14:38:35,947 - magic_google - INFO: https://www.google.com/search?q=annual+report+TENARIS+format%3Apdf&btnG=Search&gbv=1&num=5\n"
          ]
        },
        {
          "output_type": "stream",
          "name": "stdout",
          "text": [
            "TENARIS\n"
          ]
        },
        {
          "output_type": "stream",
          "name": "stderr",
          "text": [
            "2021-09-17 14:38:38,513 - magic_google - INFO: https://www.google.com/search?q=annual+report+Tesco+format%3Apdf&btnG=Search&gbv=1&num=5\n"
          ]
        },
        {
          "output_type": "stream",
          "name": "stdout",
          "text": [
            "Tesco\n"
          ]
        },
        {
          "output_type": "stream",
          "name": "stderr",
          "text": [
            "2021-09-17 14:38:41,169 - magic_google - INFO: https://www.google.com/search?q=annual+report+THG+format%3Apdf&btnG=Search&gbv=1&num=5\n"
          ]
        },
        {
          "output_type": "stream",
          "name": "stdout",
          "text": [
            "THG\n"
          ]
        },
        {
          "output_type": "stream",
          "name": "stderr",
          "text": [
            "2021-09-17 14:38:43,801 - magic_google - INFO: https://www.google.com/search?q=annual+report+TOMRA+SYSTEMS+format%3Apdf&btnG=Search&gbv=1&num=5\n"
          ]
        },
        {
          "output_type": "stream",
          "name": "stdout",
          "text": [
            "TOMRA SYSTEMS\n"
          ]
        },
        {
          "output_type": "stream",
          "name": "stderr",
          "text": [
            "2021-09-17 14:38:46,452 - magic_google - INFO: https://www.google.com/search?q=annual+report+Travis+Perkins+format%3Apdf&btnG=Search&gbv=1&num=5\n"
          ]
        },
        {
          "output_type": "stream",
          "name": "stdout",
          "text": [
            "Travis Perkins\n"
          ]
        },
        {
          "output_type": "stream",
          "name": "stderr",
          "text": [
            "2021-09-17 14:38:49,066 - magic_google - INFO: https://www.google.com/search?q=annual+report+TRITAX+BIG+BOX+REIT+format%3Apdf&btnG=Search&gbv=1&num=5\n"
          ]
        },
        {
          "output_type": "stream",
          "name": "stdout",
          "text": [
            "TRITAX BIG BOX REIT\n"
          ]
        },
        {
          "output_type": "stream",
          "name": "stderr",
          "text": [
            "2021-09-17 14:38:51,623 - magic_google - INFO: https://www.google.com/search?q=annual+report+TRYG+format%3Apdf&btnG=Search&gbv=1&num=5\n"
          ]
        },
        {
          "output_type": "stream",
          "name": "stdout",
          "text": [
            "TRYG\n"
          ]
        },
        {
          "output_type": "stream",
          "name": "stderr",
          "text": [
            "2021-09-17 14:38:54,270 - magic_google - INFO: https://www.google.com/search?q=annual+report+UBISOFT+format%3Apdf&btnG=Search&gbv=1&num=5\n"
          ]
        },
        {
          "output_type": "stream",
          "name": "stdout",
          "text": [
            "UBISOFT\n"
          ]
        },
        {
          "output_type": "stream",
          "name": "stderr",
          "text": [
            "2021-09-17 14:38:56,948 - magic_google - INFO: https://www.google.com/search?q=annual+report+UBS+format%3Apdf&btnG=Search&gbv=1&num=5\n"
          ]
        },
        {
          "output_type": "stream",
          "name": "stdout",
          "text": [
            "UBS\n"
          ]
        },
        {
          "output_type": "stream",
          "name": "stderr",
          "text": [
            "2021-09-17 14:38:59,504 - magic_google - INFO: https://www.google.com/search?q=annual+report+UMICORE+format%3Apdf&btnG=Search&gbv=1&num=5\n"
          ]
        },
        {
          "output_type": "stream",
          "name": "stdout",
          "text": [
            "UMICORE\n"
          ]
        },
        {
          "output_type": "stream",
          "name": "stderr",
          "text": [
            "2021-09-17 14:39:02,239 - magic_google - INFO: https://www.google.com/search?q=annual+report+UNITED+INTERNET+format%3Apdf&btnG=Search&gbv=1&num=5\n"
          ]
        },
        {
          "output_type": "stream",
          "name": "stdout",
          "text": [
            "UNITED INTERNET\n"
          ]
        },
        {
          "output_type": "stream",
          "name": "stderr",
          "text": [
            "2021-09-17 14:39:04,943 - magic_google - INFO: https://www.google.com/search?q=annual+report+VAT+GROUP+format%3Apdf&btnG=Search&gbv=1&num=5\n"
          ]
        },
        {
          "output_type": "stream",
          "name": "stdout",
          "text": [
            "VAT GROUP\n"
          ]
        },
        {
          "output_type": "stream",
          "name": "stderr",
          "text": [
            "2021-09-17 14:39:07,613 - magic_google - INFO: https://www.google.com/search?q=annual+report+Vestas+Wind+Systems+format%3Apdf&btnG=Search&gbv=1&num=5\n"
          ]
        },
        {
          "output_type": "stream",
          "name": "stdout",
          "text": [
            "Vestas Wind Systems\n"
          ]
        },
        {
          "output_type": "stream",
          "name": "stderr",
          "text": [
            "2021-09-17 14:39:10,386 - magic_google - INFO: https://www.google.com/search?q=annual+report+VOLVO+format%3Apdf&btnG=Search&gbv=1&num=5\n"
          ]
        },
        {
          "output_type": "stream",
          "name": "stdout",
          "text": [
            "VOLVO\n"
          ]
        },
        {
          "output_type": "stream",
          "name": "stderr",
          "text": [
            "2021-09-17 14:39:12,925 - magic_google - INFO: https://www.google.com/search?q=annual+report+VVO-YHTYMA+format%3Apdf&btnG=Search&gbv=1&num=5\n"
          ]
        },
        {
          "output_type": "stream",
          "name": "stdout",
          "text": [
            "VVO-YHTYMA\n"
          ]
        },
        {
          "output_type": "stream",
          "name": "stderr",
          "text": [
            "2021-09-17 14:39:15,609 - magic_google - INFO: https://www.google.com/search?q=annual+report+WALLENSTAM+format%3Apdf&btnG=Search&gbv=1&num=5\n"
          ]
        },
        {
          "output_type": "stream",
          "name": "stdout",
          "text": [
            "WALLENSTAM\n"
          ]
        },
        {
          "output_type": "stream",
          "name": "stderr",
          "text": [
            "2021-09-17 14:39:18,217 - magic_google - INFO: https://www.google.com/search?q=annual+report+WAREHOUSES+DE+PAUW+format%3Apdf&btnG=Search&gbv=1&num=5\n"
          ]
        },
        {
          "output_type": "stream",
          "name": "stdout",
          "text": [
            "WAREHOUSES DE PAUW\n"
          ]
        },
        {
          "output_type": "stream",
          "name": "stderr",
          "text": [
            "2021-09-17 14:39:20,810 - magic_google - INFO: https://www.google.com/search?q=annual+report+WIENERBERGER+format%3Apdf&btnG=Search&gbv=1&num=5\n"
          ]
        },
        {
          "output_type": "stream",
          "name": "stdout",
          "text": [
            "WIENERBERGER\n"
          ]
        },
        {
          "output_type": "stream",
          "name": "stderr",
          "text": [
            "2021-09-17 14:39:23,506 - magic_google - INFO: https://www.google.com/search?q=annual+report+Wizz+Air+Holdings+format%3Apdf&btnG=Search&gbv=1&num=5\n"
          ]
        },
        {
          "output_type": "stream",
          "name": "stdout",
          "text": [
            "Wizz Air Holdings\n"
          ]
        },
        {
          "output_type": "stream",
          "name": "stderr",
          "text": [
            "2021-09-17 14:39:26,340 - magic_google - INFO: https://www.google.com/search?q=annual+report+Zur+Rose+Group+format%3Apdf&btnG=Search&gbv=1&num=5\n"
          ]
        },
        {
          "output_type": "stream",
          "name": "stdout",
          "text": [
            "Zur Rose Group\n"
          ]
        }
      ]
    },
    {
      "cell_type": "code",
      "metadata": {
        "id": "GKs0w9WiMhjD",
        "outputId": "5c8a3023-641a-46b7-c247-bbef07364985",
        "colab": {
          "base_uri": "https://localhost:8080/",
          "height": 417
        }
      },
      "source": [
        "data"
      ],
      "execution_count": 25,
      "outputs": [
        {
          "output_type": "execute_result",
          "data": {
            "text/html": [
              "<div>\n",
              "<style scoped>\n",
              "    .dataframe tbody tr th:only-of-type {\n",
              "        vertical-align: middle;\n",
              "    }\n",
              "\n",
              "    .dataframe tbody tr th {\n",
              "        vertical-align: top;\n",
              "    }\n",
              "\n",
              "    .dataframe thead th {\n",
              "        text-align: right;\n",
              "    }\n",
              "</style>\n",
              "<table border=\"1\" class=\"dataframe\">\n",
              "  <thead>\n",
              "    <tr style=\"text-align: right;\">\n",
              "      <th></th>\n",
              "      <th>Emetteur_name</th>\n",
              "      <th>Isin</th>\n",
              "      <th>url</th>\n",
              "      <th>year</th>\n",
              "    </tr>\n",
              "  </thead>\n",
              "  <tbody>\n",
              "    <tr>\n",
              "      <th>0</th>\n",
              "      <td>3I GROUP</td>\n",
              "      <td>GB00B1YW4409</td>\n",
              "      <td>https://www.3i.com/media/5214/3i_group_ar_2021...</td>\n",
              "      <td>[2021]</td>\n",
              "    </tr>\n",
              "    <tr>\n",
              "      <th>1</th>\n",
              "      <td>3I GROUP</td>\n",
              "      <td>GB00B1YW4409</td>\n",
              "      <td>https://www.3i.com/media/4659/3i_group_ar_2020...</td>\n",
              "      <td>[2020]</td>\n",
              "    </tr>\n",
              "    <tr>\n",
              "      <th>2</th>\n",
              "      <td>3I GROUP</td>\n",
              "      <td>GB00B1YW4409</td>\n",
              "      <td>https://www.3i.com/media/4106/3i-group_2019_fi...</td>\n",
              "      <td>[2019]</td>\n",
              "    </tr>\n",
              "    <tr>\n",
              "      <th>3</th>\n",
              "      <td>3I GROUP</td>\n",
              "      <td>GB00B1YW4409</td>\n",
              "      <td>http://www.annualreports.com/HostedData/Annual...</td>\n",
              "      <td>[2016]</td>\n",
              "    </tr>\n",
              "    <tr>\n",
              "      <th>4</th>\n",
              "      <td>AARHUSKARLSHAMN</td>\n",
              "      <td>SE0011337708</td>\n",
              "      <td>https://www.aak.com/siteassets/investors/annua...</td>\n",
              "      <td>[]</td>\n",
              "    </tr>\n",
              "    <tr>\n",
              "      <th>...</th>\n",
              "      <td>...</td>\n",
              "      <td>...</td>\n",
              "      <td>...</td>\n",
              "      <td>...</td>\n",
              "    </tr>\n",
              "    <tr>\n",
              "      <th>509</th>\n",
              "      <td>Wizz Air Holdings</td>\n",
              "      <td>JE00BN574F90</td>\n",
              "      <td>https://wizzair.com/static/docs/default-source...</td>\n",
              "      <td>[]</td>\n",
              "    </tr>\n",
              "    <tr>\n",
              "      <th>510</th>\n",
              "      <td>Wizz Air Holdings</td>\n",
              "      <td>JE00BN574F90</td>\n",
              "      <td>https://wizzair.com/static/docs/default-source...</td>\n",
              "      <td>[]</td>\n",
              "    </tr>\n",
              "    <tr>\n",
              "      <th>511</th>\n",
              "      <td>Wizz Air Holdings</td>\n",
              "      <td>JE00BN574F90</td>\n",
              "      <td>https://wizzair.com/static/docs/default-source...</td>\n",
              "      <td>[2018]</td>\n",
              "    </tr>\n",
              "    <tr>\n",
              "      <th>512</th>\n",
              "      <td>Zur Rose Group</td>\n",
              "      <td>CH0042615283</td>\n",
              "      <td>https://gb.zurrosegroup.com/fileadmin/user_upl...</td>\n",
              "      <td>[]</td>\n",
              "    </tr>\n",
              "    <tr>\n",
              "      <th>513</th>\n",
              "      <td>Zur Rose Group</td>\n",
              "      <td>CH0042615283</td>\n",
              "      <td>https://www.zurrosegroup.com/download/companie...</td>\n",
              "      <td>[]</td>\n",
              "    </tr>\n",
              "  </tbody>\n",
              "</table>\n",
              "<p>514 rows × 4 columns</p>\n",
              "</div>"
            ],
            "text/plain": [
              "         Emetteur_name  ...    year\n",
              "0             3I GROUP  ...  [2021]\n",
              "1             3I GROUP  ...  [2020]\n",
              "2             3I GROUP  ...  [2019]\n",
              "3             3I GROUP  ...  [2016]\n",
              "4      AARHUSKARLSHAMN  ...      []\n",
              "..                 ...  ...     ...\n",
              "509  Wizz Air Holdings  ...      []\n",
              "510  Wizz Air Holdings  ...      []\n",
              "511  Wizz Air Holdings  ...  [2018]\n",
              "512     Zur Rose Group  ...      []\n",
              "513     Zur Rose Group  ...      []\n",
              "\n",
              "[514 rows x 4 columns]"
            ]
          },
          "metadata": {},
          "execution_count": 25
        }
      ]
    },
    {
      "cell_type": "code",
      "metadata": {
        "id": "10ogwk9q5afu"
      },
      "source": [
        "data['year']=data['year'].apply(lambda x: x[0] if len(x)>0 else '')\n",
        "data"
      ],
      "execution_count": null,
      "outputs": []
    },
    {
      "cell_type": "code",
      "metadata": {
        "id": "HuMPiEDp5c4M"
      },
      "source": [
        "data.to_csv('Google_AnnualReport_result.csv', index=False)"
      ],
      "execution_count": 32,
      "outputs": []
    },
    {
      "cell_type": "code",
      "metadata": {
        "id": "87vhYpzuN2d1"
      },
      "source": [
        "for i in data.index:\n",
        "  if data.year[i]=='' and re.findall('[-_](20\\d{2})',data.url[i]):\n",
        "    data.loc[i,'year'] = re.findall('[-_](20\\d{2})',data.url[i])[0]\n",
        "    print(data.loc[i,'year'])\n"
      ],
      "execution_count": null,
      "outputs": []
    },
    {
      "cell_type": "code",
      "metadata": {
        "id": "r4nQW2KkOGvn",
        "outputId": "f4babfa9-80cf-4a2f-c446-78c87d1a365c",
        "colab": {
          "base_uri": "https://localhost:8080/",
          "height": 203
        }
      },
      "source": [
        "data = pd.read_csv('Google_AR_Result.csv', sep=';')\n",
        "data.head()"
      ],
      "execution_count": 33,
      "outputs": [
        {
          "output_type": "execute_result",
          "data": {
            "text/html": [
              "<div>\n",
              "<style scoped>\n",
              "    .dataframe tbody tr th:only-of-type {\n",
              "        vertical-align: middle;\n",
              "    }\n",
              "\n",
              "    .dataframe tbody tr th {\n",
              "        vertical-align: top;\n",
              "    }\n",
              "\n",
              "    .dataframe thead th {\n",
              "        text-align: right;\n",
              "    }\n",
              "</style>\n",
              "<table border=\"1\" class=\"dataframe\">\n",
              "  <thead>\n",
              "    <tr style=\"text-align: right;\">\n",
              "      <th></th>\n",
              "      <th>Emetteur_name</th>\n",
              "      <th>Isin</th>\n",
              "      <th>url</th>\n",
              "      <th>year</th>\n",
              "    </tr>\n",
              "  </thead>\n",
              "  <tbody>\n",
              "    <tr>\n",
              "      <th>0</th>\n",
              "      <td>3I GROUP</td>\n",
              "      <td>GB00B1YW4409</td>\n",
              "      <td>https://www.3i.com/media/5214/3i_group_ar_2021...</td>\n",
              "      <td>2021.0</td>\n",
              "    </tr>\n",
              "    <tr>\n",
              "      <th>1</th>\n",
              "      <td>3I GROUP</td>\n",
              "      <td>GB00B1YW4409</td>\n",
              "      <td>https://www.3i.com/media/4659/3i_group_ar_2020...</td>\n",
              "      <td>2020.0</td>\n",
              "    </tr>\n",
              "    <tr>\n",
              "      <th>2</th>\n",
              "      <td>3I GROUP</td>\n",
              "      <td>GB00B1YW4409</td>\n",
              "      <td>https://www.3i.com/media/4106/3i-group_2019_fi...</td>\n",
              "      <td>2019.0</td>\n",
              "    </tr>\n",
              "    <tr>\n",
              "      <th>3</th>\n",
              "      <td>3I GROUP</td>\n",
              "      <td>GB00B1YW4409</td>\n",
              "      <td>http://www.annualreports.com/HostedData/Annual...</td>\n",
              "      <td>2016.0</td>\n",
              "    </tr>\n",
              "    <tr>\n",
              "      <th>4</th>\n",
              "      <td>AARHUSKARLSHAMN</td>\n",
              "      <td>SE0011337708</td>\n",
              "      <td>https://www.aak.com/siteassets/investors/annua...</td>\n",
              "      <td>2019.0</td>\n",
              "    </tr>\n",
              "  </tbody>\n",
              "</table>\n",
              "</div>"
            ],
            "text/plain": [
              "     Emetteur_name  ...    year\n",
              "0         3I GROUP  ...  2021.0\n",
              "1         3I GROUP  ...  2020.0\n",
              "2         3I GROUP  ...  2019.0\n",
              "3         3I GROUP  ...  2016.0\n",
              "4  AARHUSKARLSHAMN  ...  2019.0\n",
              "\n",
              "[5 rows x 4 columns]"
            ]
          },
          "metadata": {},
          "execution_count": 33
        }
      ]
    },
    {
      "cell_type": "code",
      "metadata": {
        "id": "fnel1dPuczuS",
        "outputId": "a4566e09-a126-46dd-cf40-5a86b64a9c5b",
        "colab": {
          "base_uri": "https://localhost:8080/"
        }
      },
      "source": [
        "import urllib.request\n",
        "urllib.request.urlretrieve('https://www.3i.com/media/5214/3i_group_ar_2021.pdf', \"pdf/GB00B1YW4409.pdf\")"
      ],
      "execution_count": 34,
      "outputs": [
        {
          "output_type": "execute_result",
          "data": {
            "text/plain": [
              "('pdf/GB00B1YW4409.pdf', <http.client.HTTPMessage at 0x7f960fbfefd0>)"
            ]
          },
          "metadata": {},
          "execution_count": 34
        }
      ]
    },
    {
      "cell_type": "code",
      "metadata": {
        "id": "vmbnyZwPdQCG",
        "outputId": "557644c9-3f87-478e-d591-df762993b905",
        "colab": {
          "base_uri": "https://localhost:8080/",
          "height": 203
        }
      },
      "source": [
        "data=data.sort_values(['Emetteur_name','year'], ascending=[True,False])\n",
        "data['Export']=None\n",
        "data.head()"
      ],
      "execution_count": 47,
      "outputs": [
        {
          "output_type": "execute_result",
          "data": {
            "text/html": [
              "<div>\n",
              "<style scoped>\n",
              "    .dataframe tbody tr th:only-of-type {\n",
              "        vertical-align: middle;\n",
              "    }\n",
              "\n",
              "    .dataframe tbody tr th {\n",
              "        vertical-align: top;\n",
              "    }\n",
              "\n",
              "    .dataframe thead th {\n",
              "        text-align: right;\n",
              "    }\n",
              "</style>\n",
              "<table border=\"1\" class=\"dataframe\">\n",
              "  <thead>\n",
              "    <tr style=\"text-align: right;\">\n",
              "      <th></th>\n",
              "      <th>Emetteur_name</th>\n",
              "      <th>Isin</th>\n",
              "      <th>url</th>\n",
              "      <th>year</th>\n",
              "      <th>Export</th>\n",
              "    </tr>\n",
              "  </thead>\n",
              "  <tbody>\n",
              "    <tr>\n",
              "      <th>0</th>\n",
              "      <td>3I GROUP</td>\n",
              "      <td>GB00B1YW4409</td>\n",
              "      <td>https://www.3i.com/media/5214/3i_group_ar_2021...</td>\n",
              "      <td>2021.0</td>\n",
              "      <td>None</td>\n",
              "    </tr>\n",
              "    <tr>\n",
              "      <th>1</th>\n",
              "      <td>3I GROUP</td>\n",
              "      <td>GB00B1YW4409</td>\n",
              "      <td>https://www.3i.com/media/4659/3i_group_ar_2020...</td>\n",
              "      <td>2020.0</td>\n",
              "      <td>None</td>\n",
              "    </tr>\n",
              "    <tr>\n",
              "      <th>2</th>\n",
              "      <td>3I GROUP</td>\n",
              "      <td>GB00B1YW4409</td>\n",
              "      <td>https://www.3i.com/media/4106/3i-group_2019_fi...</td>\n",
              "      <td>2019.0</td>\n",
              "      <td>None</td>\n",
              "    </tr>\n",
              "    <tr>\n",
              "      <th>3</th>\n",
              "      <td>3I GROUP</td>\n",
              "      <td>GB00B1YW4409</td>\n",
              "      <td>http://www.annualreports.com/HostedData/Annual...</td>\n",
              "      <td>2016.0</td>\n",
              "      <td>None</td>\n",
              "    </tr>\n",
              "    <tr>\n",
              "      <th>4</th>\n",
              "      <td>AARHUSKARLSHAMN</td>\n",
              "      <td>SE0011337708</td>\n",
              "      <td>https://www.aak.com/siteassets/investors/annua...</td>\n",
              "      <td>2019.0</td>\n",
              "      <td>None</td>\n",
              "    </tr>\n",
              "  </tbody>\n",
              "</table>\n",
              "</div>"
            ],
            "text/plain": [
              "     Emetteur_name          Isin  ...    year  Export\n",
              "0         3I GROUP  GB00B1YW4409  ...  2021.0    None\n",
              "1         3I GROUP  GB00B1YW4409  ...  2020.0    None\n",
              "2         3I GROUP  GB00B1YW4409  ...  2019.0    None\n",
              "3         3I GROUP  GB00B1YW4409  ...  2016.0    None\n",
              "4  AARHUSKARLSHAMN  SE0011337708  ...  2019.0    None\n",
              "\n",
              "[5 rows x 5 columns]"
            ]
          },
          "metadata": {},
          "execution_count": 47
        }
      ]
    },
    {
      "cell_type": "code",
      "metadata": {
        "id": "fNGp9LCpdsUU",
        "colab": {
          "base_uri": "https://localhost:8080/"
        },
        "outputId": "342c48ba-11e7-4044-c58e-c799ed634ffe"
      },
      "source": [
        "for name in data.Emetteur_name.unique():\n",
        "  year = data[data.Emetteur_name==name]['year'].iloc[0]\n",
        "  i = data[data.Emetteur_name==name][data.year==year].index\n",
        "  if year > 2019 and data.loc[i,'Export'].values[0]!=True:\n",
        "    url = data[data.Emetteur_name==name]['url'][i].values[0]\n",
        "    isin = data[data.Emetteur_name==name]['Isin'][i].values[0]\n",
        "    path = \"pdf/{}_{}.pdf\".format(isin,str(int(year)))\n",
        "    try:\n",
        "      urllib.request.urlretrieve(url, path)\n",
        "      data.loc[i,'Export']=True\n",
        "    except:\n",
        "      print(name)\n",
        "      pass"
      ],
      "execution_count": null,
      "outputs": [
        {
          "output_type": "stream",
          "name": "stderr",
          "text": [
            "/usr/local/lib/python3.7/dist-packages/ipykernel_launcher.py:3: UserWarning: Boolean Series key will be reindexed to match DataFrame index.\n",
            "  This is separate from the ipykernel package so we can avoid doing imports until\n",
            "/usr/local/lib/python3.7/dist-packages/ipykernel_launcher.py:3: UserWarning: Boolean Series key will be reindexed to match DataFrame index.\n",
            "  This is separate from the ipykernel package so we can avoid doing imports until\n",
            "/usr/local/lib/python3.7/dist-packages/ipykernel_launcher.py:3: UserWarning: Boolean Series key will be reindexed to match DataFrame index.\n",
            "  This is separate from the ipykernel package so we can avoid doing imports until\n",
            "/usr/local/lib/python3.7/dist-packages/ipykernel_launcher.py:3: UserWarning: Boolean Series key will be reindexed to match DataFrame index.\n",
            "  This is separate from the ipykernel package so we can avoid doing imports until\n",
            "/usr/local/lib/python3.7/dist-packages/ipykernel_launcher.py:3: UserWarning: Boolean Series key will be reindexed to match DataFrame index.\n",
            "  This is separate from the ipykernel package so we can avoid doing imports until\n",
            "/usr/local/lib/python3.7/dist-packages/ipykernel_launcher.py:3: UserWarning: Boolean Series key will be reindexed to match DataFrame index.\n",
            "  This is separate from the ipykernel package so we can avoid doing imports until\n",
            "/usr/local/lib/python3.7/dist-packages/ipykernel_launcher.py:3: UserWarning: Boolean Series key will be reindexed to match DataFrame index.\n",
            "  This is separate from the ipykernel package so we can avoid doing imports until\n"
          ]
        },
        {
          "output_type": "stream",
          "name": "stdout",
          "text": [
            "ADYEN\n"
          ]
        },
        {
          "output_type": "stream",
          "name": "stderr",
          "text": [
            "/usr/local/lib/python3.7/dist-packages/ipykernel_launcher.py:3: UserWarning: Boolean Series key will be reindexed to match DataFrame index.\n",
            "  This is separate from the ipykernel package so we can avoid doing imports until\n",
            "/usr/local/lib/python3.7/dist-packages/ipykernel_launcher.py:3: UserWarning: Boolean Series key will be reindexed to match DataFrame index.\n",
            "  This is separate from the ipykernel package so we can avoid doing imports until\n",
            "/usr/local/lib/python3.7/dist-packages/ipykernel_launcher.py:3: UserWarning: Boolean Series key will be reindexed to match DataFrame index.\n",
            "  This is separate from the ipykernel package so we can avoid doing imports until\n",
            "/usr/local/lib/python3.7/dist-packages/ipykernel_launcher.py:3: UserWarning: Boolean Series key will be reindexed to match DataFrame index.\n",
            "  This is separate from the ipykernel package so we can avoid doing imports until\n",
            "/usr/local/lib/python3.7/dist-packages/ipykernel_launcher.py:3: UserWarning: Boolean Series key will be reindexed to match DataFrame index.\n",
            "  This is separate from the ipykernel package so we can avoid doing imports until\n",
            "/usr/local/lib/python3.7/dist-packages/ipykernel_launcher.py:3: UserWarning: Boolean Series key will be reindexed to match DataFrame index.\n",
            "  This is separate from the ipykernel package so we can avoid doing imports until\n",
            "/usr/local/lib/python3.7/dist-packages/ipykernel_launcher.py:3: UserWarning: Boolean Series key will be reindexed to match DataFrame index.\n",
            "  This is separate from the ipykernel package so we can avoid doing imports until\n",
            "/usr/local/lib/python3.7/dist-packages/ipykernel_launcher.py:3: UserWarning: Boolean Series key will be reindexed to match DataFrame index.\n",
            "  This is separate from the ipykernel package so we can avoid doing imports until\n",
            "/usr/local/lib/python3.7/dist-packages/ipykernel_launcher.py:3: UserWarning: Boolean Series key will be reindexed to match DataFrame index.\n",
            "  This is separate from the ipykernel package so we can avoid doing imports until\n",
            "/usr/local/lib/python3.7/dist-packages/ipykernel_launcher.py:3: UserWarning: Boolean Series key will be reindexed to match DataFrame index.\n",
            "  This is separate from the ipykernel package so we can avoid doing imports until\n"
          ]
        },
        {
          "output_type": "stream",
          "name": "stdout",
          "text": [
            "AROUNDTOWN\n"
          ]
        },
        {
          "output_type": "stream",
          "name": "stderr",
          "text": [
            "/usr/local/lib/python3.7/dist-packages/ipykernel_launcher.py:3: UserWarning: Boolean Series key will be reindexed to match DataFrame index.\n",
            "  This is separate from the ipykernel package so we can avoid doing imports until\n",
            "/usr/local/lib/python3.7/dist-packages/ipykernel_launcher.py:3: UserWarning: Boolean Series key will be reindexed to match DataFrame index.\n",
            "  This is separate from the ipykernel package so we can avoid doing imports until\n",
            "/usr/local/lib/python3.7/dist-packages/ipykernel_launcher.py:3: UserWarning: Boolean Series key will be reindexed to match DataFrame index.\n",
            "  This is separate from the ipykernel package so we can avoid doing imports until\n",
            "/usr/local/lib/python3.7/dist-packages/ipykernel_launcher.py:3: UserWarning: Boolean Series key will be reindexed to match DataFrame index.\n",
            "  This is separate from the ipykernel package so we can avoid doing imports until\n",
            "/usr/local/lib/python3.7/dist-packages/ipykernel_launcher.py:3: UserWarning: Boolean Series key will be reindexed to match DataFrame index.\n",
            "  This is separate from the ipykernel package so we can avoid doing imports until\n",
            "/usr/local/lib/python3.7/dist-packages/ipykernel_launcher.py:3: UserWarning: Boolean Series key will be reindexed to match DataFrame index.\n",
            "  This is separate from the ipykernel package so we can avoid doing imports until\n",
            "/usr/local/lib/python3.7/dist-packages/ipykernel_launcher.py:3: UserWarning: Boolean Series key will be reindexed to match DataFrame index.\n",
            "  This is separate from the ipykernel package so we can avoid doing imports until\n",
            "/usr/local/lib/python3.7/dist-packages/ipykernel_launcher.py:3: UserWarning: Boolean Series key will be reindexed to match DataFrame index.\n",
            "  This is separate from the ipykernel package so we can avoid doing imports until\n",
            "/usr/local/lib/python3.7/dist-packages/ipykernel_launcher.py:3: UserWarning: Boolean Series key will be reindexed to match DataFrame index.\n",
            "  This is separate from the ipykernel package so we can avoid doing imports until\n",
            "/usr/local/lib/python3.7/dist-packages/ipykernel_launcher.py:3: UserWarning: Boolean Series key will be reindexed to match DataFrame index.\n",
            "  This is separate from the ipykernel package so we can avoid doing imports until\n",
            "/usr/local/lib/python3.7/dist-packages/ipykernel_launcher.py:3: UserWarning: Boolean Series key will be reindexed to match DataFrame index.\n",
            "  This is separate from the ipykernel package so we can avoid doing imports until\n",
            "/usr/local/lib/python3.7/dist-packages/ipykernel_launcher.py:3: UserWarning: Boolean Series key will be reindexed to match DataFrame index.\n",
            "  This is separate from the ipykernel package so we can avoid doing imports until\n",
            "/usr/local/lib/python3.7/dist-packages/ipykernel_launcher.py:3: UserWarning: Boolean Series key will be reindexed to match DataFrame index.\n",
            "  This is separate from the ipykernel package so we can avoid doing imports until\n",
            "/usr/local/lib/python3.7/dist-packages/ipykernel_launcher.py:3: UserWarning: Boolean Series key will be reindexed to match DataFrame index.\n",
            "  This is separate from the ipykernel package so we can avoid doing imports until\n",
            "/usr/local/lib/python3.7/dist-packages/ipykernel_launcher.py:3: UserWarning: Boolean Series key will be reindexed to match DataFrame index.\n",
            "  This is separate from the ipykernel package so we can avoid doing imports until\n"
          ]
        }
      ]
    },
    {
      "cell_type": "code",
      "metadata": {
        "id": "PX5fnTR-iGd8"
      },
      "source": [
        "data.head(10)"
      ],
      "execution_count": null,
      "outputs": []
    },
    {
      "cell_type": "code",
      "metadata": {
        "id": "NF4JnFTzijwT"
      },
      "source": [
        ""
      ],
      "execution_count": null,
      "outputs": []
    }
  ]
}