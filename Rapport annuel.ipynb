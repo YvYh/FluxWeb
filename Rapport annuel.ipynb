{
  "nbformat": 4,
  "nbformat_minor": 0,
  "metadata": {
    "colab": {
      "name": "Getting started with BigQuery",
      "provenance": [],
      "collapsed_sections": [],
      "include_colab_link": true
    },
    "kernelspec": {
      "display_name": "Python 3",
      "name": "python3"
    }
  },
  "cells": [
    {
      "cell_type": "markdown",
      "metadata": {
        "id": "view-in-github",
        "colab_type": "text"
      },
      "source": [
        "<a href=\"https://colab.research.google.com/github/YvYh/FluxWeb/blob/main/Rapport%20annuel.ipynb\" target=\"_parent\"><img src=\"https://colab.research.google.com/assets/colab-badge.svg\" alt=\"Open In Colab\"/></a>"
      ]
    },
    {
      "cell_type": "markdown",
      "metadata": {
        "id": "u4HyfJmH45IR"
      },
      "source": [
        "# MagicGoogle"
      ]
    },
    {
      "cell_type": "code",
      "metadata": {
        "id": "YtjbvMfS5Iym",
        "colab": {
          "base_uri": "https://localhost:8080/"
        },
        "outputId": "120d7d9f-9472-4595-87b3-00d8fa77f934"
      },
      "source": [
        "!pip install magic_google"
      ],
      "execution_count": 1,
      "outputs": [
        {
          "output_type": "stream",
          "name": "stdout",
          "text": [
            "Collecting magic_google\n",
            "  Downloading magic_google-0.2.9.tar.gz (4.1 kB)\n",
            "Collecting pyquery>=1.2.17\n",
            "  Downloading pyquery-1.4.3-py3-none-any.whl (22 kB)\n",
            "Requirement already satisfied: requests>=2.12.4 in /usr/local/lib/python3.7/dist-packages (from magic_google) (2.23.0)\n",
            "Collecting cchardet\n",
            "  Downloading cchardet-2.1.7-cp37-cp37m-manylinux2010_x86_64.whl (263 kB)\n",
            "\u001b[K     |████████████████████████████████| 263 kB 7.7 MB/s \n",
            "\u001b[?25hCollecting cssselect>0.7.9\n",
            "  Downloading cssselect-1.1.0-py2.py3-none-any.whl (16 kB)\n",
            "Requirement already satisfied: lxml>=2.1 in /usr/local/lib/python3.7/dist-packages (from pyquery>=1.2.17->magic_google) (4.2.6)\n",
            "Requirement already satisfied: certifi>=2017.4.17 in /usr/local/lib/python3.7/dist-packages (from requests>=2.12.4->magic_google) (2021.5.30)\n",
            "Requirement already satisfied: chardet<4,>=3.0.2 in /usr/local/lib/python3.7/dist-packages (from requests>=2.12.4->magic_google) (3.0.4)\n",
            "Requirement already satisfied: urllib3!=1.25.0,!=1.25.1,<1.26,>=1.21.1 in /usr/local/lib/python3.7/dist-packages (from requests>=2.12.4->magic_google) (1.24.3)\n",
            "Requirement already satisfied: idna<3,>=2.5 in /usr/local/lib/python3.7/dist-packages (from requests>=2.12.4->magic_google) (2.10)\n",
            "Building wheels for collected packages: magic-google\n",
            "  Building wheel for magic-google (setup.py) ... \u001b[?25l\u001b[?25hdone\n",
            "  Created wheel for magic-google: filename=magic_google-0.2.9-py3-none-any.whl size=3821 sha256=ec72eabada7eb743fedcf962ec971c99ca364c2a2738707c98cb2fbf7c46825a\n",
            "  Stored in directory: /root/.cache/pip/wheels/b2/fa/24/a1001a6e6e5ce58d27170a713ae98d0bb93f6948677a2e6d7d\n",
            "Successfully built magic-google\n",
            "Installing collected packages: cssselect, pyquery, cchardet, magic-google\n",
            "Successfully installed cchardet-2.1.7 cssselect-1.1.0 magic-google-0.2.9 pyquery-1.4.3\n"
          ]
        }
      ]
    },
    {
      "cell_type": "code",
      "metadata": {
        "id": "FQCgyCKjKpT4"
      },
      "source": [
        "from magic_google import MagicGoogle\n",
        "import pandas as pd\n",
        "import re\n",
        "import random\n",
        "import time"
      ],
      "execution_count": 2,
      "outputs": []
    },
    {
      "cell_type": "code",
      "metadata": {
        "id": "SvjJsV9z5FPH"
      },
      "source": [
        "PROXIES = None\n",
        "mg = MagicGoogle(PROXIES)\n",
        "\n"
      ],
      "execution_count": 3,
      "outputs": []
    },
    {
      "cell_type": "code",
      "metadata": {
        "id": "bRvCBOiqCY7i"
      },
      "source": [
        "liste_file = 'Liste_Emetteurs_data.csv'\n",
        "\n",
        "liste = pd.read_csv(liste_file,sep=';')\n",
        "\n",
        "def clean_name(name):\n",
        "    name = re.sub(',','',name)\n",
        "    if '(' in name:\n",
        "        name = re.sub('\\(.+\\)','',name).strip()\n",
        "    name = re.sub('\\s+',' ',name)\n",
        "    if ' ' in name:\n",
        "        return ' '.join(re.split('\\s',name)[:-1])\n",
        "    else:\n",
        "        return name\n",
        "    \n",
        "#liste['Emetteur_name'] = liste.Emetteur.apply(clean_name)"
      ],
      "execution_count": 4,
      "outputs": []
    },
    {
      "cell_type": "code",
      "metadata": {
        "id": "wCY1Xe915QR1"
      },
      "source": [
        "data = pd.DataFrame()"
      ],
      "execution_count": 5,
      "outputs": []
    },
    {
      "cell_type": "code",
      "metadata": {
        "colab": {
          "base_uri": "https://localhost:8080/"
        },
        "id": "ZUGR1Y1kBWGL",
        "outputId": "76f3733a-121d-4cd7-bd6c-58f3e8d20f04"
      },
      "source": [
        "for name, isin in liste[['Emetteur_name','Isin']].values:\n",
        "  q = 'annual report {} format:pdf'.format(name)\n",
        "  for url in mg.search_url(query=q, num=3):\n",
        "    if url.endswith('.pdf'):\n",
        "      year = re.findall('[-_](20\\d{2})',url)\n",
        "      data = data.append({'Emetteur_name':name, 'Isin':isin, 'url':url, 'year':year}, ignore_index=True)\n",
        "  print(name)"
      ],
      "execution_count": 6,
      "outputs": [
        {
          "output_type": "stream",
          "name": "stderr",
          "text": [
            "2021-09-21 15:56:35,277 - magic_google - INFO: https://www.google.com/search?q=annual+report+AARHUSKARLSHAMN+format%3Apdf&btnG=Search&gbv=1&num=3\n"
          ]
        },
        {
          "output_type": "stream",
          "name": "stdout",
          "text": [
            "AARHUSKARLSHAMN\n"
          ]
        },
        {
          "output_type": "stream",
          "name": "stderr",
          "text": [
            "2021-09-21 15:56:38,003 - magic_google - INFO: https://www.google.com/search?q=annual+report+ACCOR+format%3Apdf&btnG=Search&gbv=1&num=3\n"
          ]
        },
        {
          "output_type": "stream",
          "name": "stdout",
          "text": [
            "ACCOR\n"
          ]
        },
        {
          "output_type": "stream",
          "name": "stderr",
          "text": [
            "2021-09-21 15:56:40,736 - magic_google - INFO: https://www.google.com/search?q=annual+report+ACKERMANS+VAN+HAAREN+format%3Apdf&btnG=Search&gbv=1&num=3\n"
          ]
        },
        {
          "output_type": "stream",
          "name": "stdout",
          "text": [
            "ACKERMANS VAN HAAREN\n"
          ]
        },
        {
          "output_type": "stream",
          "name": "stderr",
          "text": [
            "2021-09-21 15:56:43,488 - magic_google - INFO: https://www.google.com/search?q=annual+report+AddLife+format%3Apdf&btnG=Search&gbv=1&num=3\n"
          ]
        },
        {
          "output_type": "stream",
          "name": "stdout",
          "text": [
            "AddLife\n"
          ]
        },
        {
          "output_type": "stream",
          "name": "stderr",
          "text": [
            "2021-09-21 15:56:46,009 - magic_google - INFO: https://www.google.com/search?q=annual+report+ADDTECH+format%3Apdf&btnG=Search&gbv=1&num=3\n"
          ]
        },
        {
          "output_type": "stream",
          "name": "stdout",
          "text": [
            "ADDTECH\n"
          ]
        },
        {
          "output_type": "stream",
          "name": "stderr",
          "text": [
            "2021-09-21 15:56:48,609 - magic_google - INFO: https://www.google.com/search?q=annual+report+ADEVINTA+format%3Apdf&btnG=Search&gbv=1&num=3\n"
          ]
        },
        {
          "output_type": "stream",
          "name": "stdout",
          "text": [
            "ADEVINTA\n"
          ]
        },
        {
          "output_type": "stream",
          "name": "stderr",
          "text": [
            "2021-09-21 15:56:51,244 - magic_google - INFO: https://www.google.com/search?q=annual+report+ADMIRAL+format%3Apdf&btnG=Search&gbv=1&num=3\n"
          ]
        },
        {
          "output_type": "stream",
          "name": "stdout",
          "text": [
            "ADMIRAL\n"
          ]
        },
        {
          "output_type": "stream",
          "name": "stderr",
          "text": [
            "2021-09-21 15:56:54,182 - magic_google - INFO: https://www.google.com/search?q=annual+report+AEROPORTS+DE+PARIS+format%3Apdf&btnG=Search&gbv=1&num=3\n"
          ]
        },
        {
          "output_type": "stream",
          "name": "stdout",
          "text": [
            "AEROPORTS DE PARIS\n"
          ]
        },
        {
          "output_type": "stream",
          "name": "stderr",
          "text": [
            "2021-09-21 15:56:56,666 - magic_google - INFO: https://www.google.com/search?q=annual+report+ADYEN+format%3Apdf&btnG=Search&gbv=1&num=3\n"
          ]
        },
        {
          "output_type": "stream",
          "name": "stdout",
          "text": [
            "ADYEN\n"
          ]
        },
        {
          "output_type": "stream",
          "name": "stderr",
          "text": [
            "2021-09-21 15:56:59,151 - magic_google - INFO: https://www.google.com/search?q=annual+report+AEGON+format%3Apdf&btnG=Search&gbv=1&num=3\n"
          ]
        },
        {
          "output_type": "stream",
          "name": "stdout",
          "text": [
            "AEGON\n"
          ]
        },
        {
          "output_type": "stream",
          "name": "stderr",
          "text": [
            "2021-09-21 15:57:01,837 - magic_google - INFO: https://www.google.com/search?q=annual+report+AGEAS+format%3Apdf&btnG=Search&gbv=1&num=3\n"
          ]
        },
        {
          "output_type": "stream",
          "name": "stdout",
          "text": [
            "AGEAS\n"
          ]
        },
        {
          "output_type": "stream",
          "name": "stderr",
          "text": [
            "2021-09-21 15:57:04,417 - magic_google - INFO: https://www.google.com/search?q=annual+report+AIR+LIQUIDE+format%3Apdf&btnG=Search&gbv=1&num=3\n"
          ]
        },
        {
          "output_type": "stream",
          "name": "stdout",
          "text": [
            "AIR LIQUIDE\n"
          ]
        },
        {
          "output_type": "stream",
          "name": "stderr",
          "text": [
            "2021-09-21 15:57:07,017 - magic_google - INFO: https://www.google.com/search?q=annual+report+AKZO+NOBEL+format%3Apdf&btnG=Search&gbv=1&num=3\n"
          ]
        },
        {
          "output_type": "stream",
          "name": "stdout",
          "text": [
            "AKZO NOBEL\n"
          ]
        },
        {
          "output_type": "stream",
          "name": "stderr",
          "text": [
            "2021-09-21 15:57:09,611 - magic_google - INFO: https://www.google.com/search?q=annual+report+ALCON+format%3Apdf&btnG=Search&gbv=1&num=3\n"
          ]
        },
        {
          "output_type": "stream",
          "name": "stdout",
          "text": [
            "ALCON\n"
          ]
        },
        {
          "output_type": "stream",
          "name": "stderr",
          "text": [
            "2021-09-21 15:57:12,309 - magic_google - INFO: https://www.google.com/search?q=annual+report+Allegro.eu+format%3Apdf&btnG=Search&gbv=1&num=3\n"
          ]
        },
        {
          "output_type": "stream",
          "name": "stdout",
          "text": [
            "Allegro.eu\n"
          ]
        },
        {
          "output_type": "stream",
          "name": "stderr",
          "text": [
            "2021-09-21 15:57:15,085 - magic_google - INFO: https://www.google.com/search?q=annual+report+Allfunds+Group+format%3Apdf&btnG=Search&gbv=1&num=3\n"
          ]
        },
        {
          "output_type": "stream",
          "name": "stdout",
          "text": [
            "Allfunds Group\n"
          ]
        },
        {
          "output_type": "stream",
          "name": "stderr",
          "text": [
            "2021-09-21 15:57:17,873 - magic_google - INFO: https://www.google.com/search?q=annual+report+ALLREAL+HOLDING+format%3Apdf&btnG=Search&gbv=1&num=3\n"
          ]
        },
        {
          "output_type": "stream",
          "name": "stdout",
          "text": [
            "ALLREAL HOLDING\n"
          ]
        },
        {
          "output_type": "stream",
          "name": "stderr",
          "text": [
            "2021-09-21 15:57:20,448 - magic_google - INFO: https://www.google.com/search?q=annual+report+AMBU+format%3Apdf&btnG=Search&gbv=1&num=3\n"
          ]
        },
        {
          "output_type": "stream",
          "name": "stdout",
          "text": [
            "AMBU\n"
          ]
        },
        {
          "output_type": "stream",
          "name": "stderr",
          "text": [
            "2021-09-21 15:57:23,011 - magic_google - INFO: https://www.google.com/search?q=annual+report+AMPLIFON+format%3Apdf&btnG=Search&gbv=1&num=3\n"
          ]
        },
        {
          "output_type": "stream",
          "name": "stdout",
          "text": [
            "AMPLIFON\n"
          ]
        },
        {
          "output_type": "stream",
          "name": "stderr",
          "text": [
            "2021-09-21 15:57:25,532 - magic_google - INFO: https://www.google.com/search?q=annual+report+AMUNDI+format%3Apdf&btnG=Search&gbv=1&num=3\n"
          ]
        },
        {
          "output_type": "stream",
          "name": "stdout",
          "text": [
            "AMUNDI\n"
          ]
        },
        {
          "output_type": "stream",
          "name": "stderr",
          "text": [
            "2021-09-21 15:57:28,080 - magic_google - INFO: https://www.google.com/search?q=annual+report+ANDRITZ+format%3Apdf&btnG=Search&gbv=1&num=3\n"
          ]
        },
        {
          "output_type": "stream",
          "name": "stdout",
          "text": [
            "ANDRITZ\n"
          ]
        },
        {
          "output_type": "stream",
          "name": "stderr",
          "text": [
            "2021-09-21 15:57:30,803 - magic_google - INFO: https://www.google.com/search?q=annual+report+AP+MOLLER+format%3Apdf&btnG=Search&gbv=1&num=3\n"
          ]
        },
        {
          "output_type": "stream",
          "name": "stdout",
          "text": [
            "AP MOLLER\n"
          ]
        },
        {
          "output_type": "stream",
          "name": "stderr",
          "text": [
            "2021-09-21 15:57:33,349 - magic_google - INFO: https://www.google.com/search?q=annual+report+ARGENX+format%3Apdf&btnG=Search&gbv=1&num=3\n"
          ]
        },
        {
          "output_type": "stream",
          "name": "stdout",
          "text": [
            "ARGENX\n"
          ]
        },
        {
          "output_type": "stream",
          "name": "stderr",
          "text": [
            "2021-09-21 15:57:36,169 - magic_google - INFO: https://www.google.com/search?q=annual+report+AROUNDTOWN+format%3Apdf&btnG=Search&gbv=1&num=3\n"
          ]
        },
        {
          "output_type": "stream",
          "name": "stdout",
          "text": [
            "AROUNDTOWN\n"
          ]
        },
        {
          "output_type": "stream",
          "name": "stderr",
          "text": [
            "2021-09-21 15:57:38,751 - magic_google - INFO: https://www.google.com/search?q=annual+report+ASHMORE+format%3Apdf&btnG=Search&gbv=1&num=3\n"
          ]
        },
        {
          "output_type": "stream",
          "name": "stdout",
          "text": [
            "ASHMORE\n"
          ]
        },
        {
          "output_type": "stream",
          "name": "stderr",
          "text": [
            "2021-09-21 15:57:41,243 - magic_google - INFO: https://www.google.com/search?q=annual+report+ASHTEAD+format%3Apdf&btnG=Search&gbv=1&num=3\n"
          ]
        },
        {
          "output_type": "stream",
          "name": "stdout",
          "text": [
            "ASHTEAD\n"
          ]
        },
        {
          "output_type": "stream",
          "name": "stderr",
          "text": [
            "2021-09-21 15:57:43,795 - magic_google - INFO: https://www.google.com/search?q=annual+report+ASSURA+format%3Apdf&btnG=Search&gbv=1&num=3\n"
          ]
        },
        {
          "output_type": "stream",
          "name": "stdout",
          "text": [
            "ASSURA\n"
          ]
        },
        {
          "output_type": "stream",
          "name": "stderr",
          "text": [
            "2021-09-21 15:57:46,513 - magic_google - INFO: https://www.google.com/search?q=annual+report+AUTO+TRADER+GROUP+format%3Apdf&btnG=Search&gbv=1&num=3\n"
          ]
        },
        {
          "output_type": "stream",
          "name": "stdout",
          "text": [
            "AUTO TRADER GROUP\n"
          ]
        },
        {
          "output_type": "stream",
          "name": "stderr",
          "text": [
            "2021-09-21 15:57:49,113 - magic_google - INFO: https://www.google.com/search?q=annual+report+Auto1+Group+format%3Apdf&btnG=Search&gbv=1&num=3\n"
          ]
        },
        {
          "output_type": "stream",
          "name": "stdout",
          "text": [
            "Auto1 Group\n"
          ]
        },
        {
          "output_type": "stream",
          "name": "stderr",
          "text": [
            "2021-09-21 15:57:51,889 - magic_google - INFO: https://www.google.com/search?q=annual+report+Avanza+Bank+format%3Apdf&btnG=Search&gbv=1&num=3\n"
          ]
        },
        {
          "output_type": "stream",
          "name": "stdout",
          "text": [
            "Avanza Bank\n"
          ]
        },
        {
          "output_type": "stream",
          "name": "stderr",
          "text": [
            "2021-09-21 15:57:54,588 - magic_google - INFO: https://www.google.com/search?q=annual+report+AVAST+format%3Apdf&btnG=Search&gbv=1&num=3\n"
          ]
        },
        {
          "output_type": "stream",
          "name": "stdout",
          "text": [
            "AVAST\n"
          ]
        },
        {
          "output_type": "stream",
          "name": "stderr",
          "text": [
            "2021-09-21 15:57:57,154 - magic_google - INFO: https://www.google.com/search?q=annual+report+AXA+format%3Apdf&btnG=Search&gbv=1&num=3\n"
          ]
        },
        {
          "output_type": "stream",
          "name": "stdout",
          "text": [
            "AXA\n"
          ]
        },
        {
          "output_type": "stream",
          "name": "stderr",
          "text": [
            "2021-09-21 15:57:59,716 - magic_google - INFO: https://www.google.com/search?q=annual+report+BALOISE+format%3Apdf&btnG=Search&gbv=1&num=3\n"
          ]
        },
        {
          "output_type": "stream",
          "name": "stdout",
          "text": [
            "BALOISE\n"
          ]
        },
        {
          "output_type": "stream",
          "name": "stderr",
          "text": [
            "2021-09-21 15:58:02,224 - magic_google - INFO: https://www.google.com/search?q=annual+report+BANK+PEKAO+format%3Apdf&btnG=Search&gbv=1&num=3\n"
          ]
        },
        {
          "output_type": "stream",
          "name": "stdout",
          "text": [
            "BANK PEKAO\n"
          ]
        },
        {
          "output_type": "stream",
          "name": "stderr",
          "text": [
            "2021-09-21 15:58:04,716 - magic_google - INFO: https://www.google.com/search?q=annual+report+BAWAG+format%3Apdf&btnG=Search&gbv=1&num=3\n"
          ]
        },
        {
          "output_type": "stream",
          "name": "stdout",
          "text": [
            "BAWAG\n"
          ]
        },
        {
          "output_type": "stream",
          "name": "stderr",
          "text": [
            "2021-09-21 15:58:07,542 - magic_google - INFO: https://www.google.com/search?q=annual+report+BE+SEMICONDUCTOR+INDUSTRIES+format%3Apdf&btnG=Search&gbv=1&num=3\n"
          ]
        },
        {
          "output_type": "stream",
          "name": "stdout",
          "text": [
            "BE SEMICONDUCTOR INDUSTRIES\n"
          ]
        },
        {
          "output_type": "stream",
          "name": "stderr",
          "text": [
            "2021-09-21 15:58:10,040 - magic_google - INFO: https://www.google.com/search?q=annual+report+BECHTLE+format%3Apdf&btnG=Search&gbv=1&num=3\n"
          ]
        },
        {
          "output_type": "stream",
          "name": "stdout",
          "text": [
            "BECHTLE\n"
          ]
        },
        {
          "output_type": "stream",
          "name": "stderr",
          "text": [
            "2021-09-21 15:58:12,642 - magic_google - INFO: https://www.google.com/search?q=annual+report+Beijer+format%3Apdf&btnG=Search&gbv=1&num=3\n"
          ]
        },
        {
          "output_type": "stream",
          "name": "stdout",
          "text": [
            "Beijer\n"
          ]
        },
        {
          "output_type": "stream",
          "name": "stderr",
          "text": [
            "2021-09-21 15:58:15,094 - magic_google - INFO: https://www.google.com/search?q=annual+report+Belimo+format%3Apdf&btnG=Search&gbv=1&num=3\n"
          ]
        },
        {
          "output_type": "stream",
          "name": "stdout",
          "text": [
            "Belimo\n"
          ]
        },
        {
          "output_type": "stream",
          "name": "stderr",
          "text": [
            "2021-09-21 15:58:17,789 - magic_google - INFO: https://www.google.com/search?q=annual+report+BELLWAY+format%3Apdf&btnG=Search&gbv=1&num=3\n"
          ]
        },
        {
          "output_type": "stream",
          "name": "stdout",
          "text": [
            "BELLWAY\n"
          ]
        },
        {
          "output_type": "stream",
          "name": "stderr",
          "text": [
            "2021-09-21 15:58:20,423 - magic_google - INFO: https://www.google.com/search?q=annual+report+BHP+format%3Apdf&btnG=Search&gbv=1&num=3\n"
          ]
        },
        {
          "output_type": "stream",
          "name": "stdout",
          "text": [
            "BHP\n"
          ]
        },
        {
          "output_type": "stream",
          "name": "stderr",
          "text": [
            "2021-09-21 15:58:23,159 - magic_google - INFO: https://www.google.com/search?q=annual+report+BM+EUROPEAN+VALUE+RETAIL+format%3Apdf&btnG=Search&gbv=1&num=3\n"
          ]
        },
        {
          "output_type": "stream",
          "name": "stdout",
          "text": [
            "BM EUROPEAN VALUE RETAIL\n"
          ]
        },
        {
          "output_type": "stream",
          "name": "stderr",
          "text": [
            "2021-09-21 15:58:25,769 - magic_google - INFO: https://www.google.com/search?q=annual+report+BP+format%3Apdf&btnG=Search&gbv=1&num=3\n"
          ]
        },
        {
          "output_type": "stream",
          "name": "stdout",
          "text": [
            "BP\n"
          ]
        },
        {
          "output_type": "stream",
          "name": "stderr",
          "text": [
            "2021-09-21 15:58:28,387 - magic_google - INFO: https://www.google.com/search?q=annual+report+Bucher+Industries+format%3Apdf&btnG=Search&gbv=1&num=3\n"
          ]
        },
        {
          "output_type": "stream",
          "name": "stdout",
          "text": [
            "Bucher Industries\n"
          ]
        },
        {
          "output_type": "stream",
          "name": "stderr",
          "text": [
            "2021-09-21 15:58:31,149 - magic_google - INFO: https://www.google.com/search?q=annual+report+CARNIVAL+format%3Apdf&btnG=Search&gbv=1&num=3\n"
          ]
        },
        {
          "output_type": "stream",
          "name": "stdout",
          "text": [
            "CARNIVAL\n"
          ]
        },
        {
          "output_type": "stream",
          "name": "stderr",
          "text": [
            "2021-09-21 15:58:33,850 - magic_google - INFO: https://www.google.com/search?q=annual+report+CD+PROJEKT+format%3Apdf&btnG=Search&gbv=1&num=3\n"
          ]
        },
        {
          "output_type": "stream",
          "name": "stdout",
          "text": [
            "CD PROJEKT\n"
          ]
        },
        {
          "output_type": "stream",
          "name": "stderr",
          "text": [
            "2021-09-21 15:58:36,591 - magic_google - INFO: https://www.google.com/search?q=annual+report+CEMBRA+MONEY+BANK+format%3Apdf&btnG=Search&gbv=1&num=3\n"
          ]
        },
        {
          "output_type": "stream",
          "name": "stdout",
          "text": [
            "CEMBRA MONEY BANK\n"
          ]
        },
        {
          "output_type": "stream",
          "name": "stderr",
          "text": [
            "2021-09-21 15:58:39,349 - magic_google - INFO: https://www.google.com/search?q=annual+report+Christian+Dior+format%3Apdf&btnG=Search&gbv=1&num=3\n"
          ]
        },
        {
          "output_type": "stream",
          "name": "stdout",
          "text": [
            "Christian Dior\n"
          ]
        },
        {
          "output_type": "stream",
          "name": "stderr",
          "text": [
            "2021-09-21 15:58:41,858 - magic_google - INFO: https://www.google.com/search?q=annual+report+COLRUYT+format%3Apdf&btnG=Search&gbv=1&num=3\n"
          ]
        },
        {
          "output_type": "stream",
          "name": "stdout",
          "text": [
            "COLRUYT\n"
          ]
        },
        {
          "output_type": "stream",
          "name": "stderr",
          "text": [
            "2021-09-21 15:58:44,470 - magic_google - INFO: https://www.google.com/search?q=annual+report+COMPASS+format%3Apdf&btnG=Search&gbv=1&num=3\n"
          ]
        },
        {
          "output_type": "stream",
          "name": "stdout",
          "text": [
            "COMPASS\n"
          ]
        },
        {
          "output_type": "stream",
          "name": "stderr",
          "text": [
            "2021-09-21 15:58:47,020 - magic_google - INFO: https://www.google.com/search?q=annual+report+COVESTRO+format%3Apdf&btnG=Search&gbv=1&num=3\n"
          ]
        },
        {
          "output_type": "stream",
          "name": "stdout",
          "text": [
            "COVESTRO\n"
          ]
        },
        {
          "output_type": "stream",
          "name": "stderr",
          "text": [
            "2021-09-21 15:58:49,601 - magic_google - INFO: https://www.google.com/search?q=annual+report+CRODA+INTERNATIONAL+format%3Apdf&btnG=Search&gbv=1&num=3\n"
          ]
        },
        {
          "output_type": "stream",
          "name": "stdout",
          "text": [
            "CRODA INTERNATIONAL\n"
          ]
        },
        {
          "output_type": "stream",
          "name": "stderr",
          "text": [
            "2021-09-21 15:58:52,178 - magic_google - INFO: https://www.google.com/search?q=annual+report+CTS+EVENTIM+format%3Apdf&btnG=Search&gbv=1&num=3\n"
          ]
        },
        {
          "output_type": "stream",
          "name": "stdout",
          "text": [
            "CTS EVENTIM\n"
          ]
        },
        {
          "output_type": "stream",
          "name": "stderr",
          "text": [
            "2021-09-21 15:58:54,779 - magic_google - INFO: https://www.google.com/search?q=annual+report+CYBG+format%3Apdf&btnG=Search&gbv=1&num=3\n"
          ]
        },
        {
          "output_type": "stream",
          "name": "stdout",
          "text": [
            "CYBG\n"
          ]
        },
        {
          "output_type": "stream",
          "name": "stderr",
          "text": [
            "2021-09-21 15:58:57,372 - magic_google - INFO: https://www.google.com/search?q=annual+report+Dassault+Systemes+format%3Apdf&btnG=Search&gbv=1&num=3\n"
          ]
        },
        {
          "output_type": "stream",
          "name": "stdout",
          "text": [
            "Dassault Systemes\n"
          ]
        },
        {
          "output_type": "stream",
          "name": "stderr",
          "text": [
            "2021-09-21 15:59:00,065 - magic_google - INFO: https://www.google.com/search?q=annual+report+DAVIDE+CAMPARI-MILANO+format%3Apdf&btnG=Search&gbv=1&num=3\n"
          ]
        },
        {
          "output_type": "stream",
          "name": "stdout",
          "text": [
            "DAVIDE CAMPARI-MILANO\n"
          ]
        },
        {
          "output_type": "stream",
          "name": "stderr",
          "text": [
            "2021-09-21 15:59:02,764 - magic_google - INFO: https://www.google.com/search?q=annual+report+DECHRA+PHARMACEUTICALS+format%3Apdf&btnG=Search&gbv=1&num=3\n"
          ]
        },
        {
          "output_type": "stream",
          "name": "stdout",
          "text": [
            "DECHRA PHARMACEUTICALS\n"
          ]
        },
        {
          "output_type": "stream",
          "name": "stderr",
          "text": [
            "2021-09-21 15:59:05,395 - magic_google - INFO: https://www.google.com/search?q=annual+report+Deliveroo+format%3Apdf&btnG=Search&gbv=1&num=3\n"
          ]
        },
        {
          "output_type": "stream",
          "name": "stdout",
          "text": [
            "Deliveroo\n"
          ]
        },
        {
          "output_type": "stream",
          "name": "stderr",
          "text": [
            "2021-09-21 15:59:08,073 - magic_google - INFO: https://www.google.com/search?q=annual+report+DELIVERY+HERO+format%3Apdf&btnG=Search&gbv=1&num=3\n"
          ]
        },
        {
          "output_type": "stream",
          "name": "stdout",
          "text": [
            "DELIVERY HERO\n"
          ]
        },
        {
          "output_type": "stream",
          "name": "stderr",
          "text": [
            "2021-09-21 15:59:10,642 - magic_google - INFO: https://www.google.com/search?q=annual+report+DEMANT+format%3Apdf&btnG=Search&gbv=1&num=3\n"
          ]
        },
        {
          "output_type": "stream",
          "name": "stdout",
          "text": [
            "DEMANT\n"
          ]
        },
        {
          "output_type": "stream",
          "name": "stderr",
          "text": [
            "2021-09-21 15:59:13,192 - magic_google - INFO: https://www.google.com/search?q=annual+report+DEUTSCHE+BOERSE+format%3Apdf&btnG=Search&gbv=1&num=3\n"
          ]
        },
        {
          "output_type": "stream",
          "name": "stdout",
          "text": [
            "DEUTSCHE BOERSE\n"
          ]
        },
        {
          "output_type": "stream",
          "name": "stderr",
          "text": [
            "2021-09-21 15:59:15,810 - magic_google - INFO: https://www.google.com/search?q=annual+report+DIALOG+SEMICONDUCTOR+format%3Apdf&btnG=Search&gbv=1&num=3\n"
          ]
        },
        {
          "output_type": "stream",
          "name": "stdout",
          "text": [
            "DIALOG SEMICONDUCTOR\n"
          ]
        },
        {
          "output_type": "stream",
          "name": "stderr",
          "text": [
            "2021-09-21 15:59:18,380 - magic_google - INFO: https://www.google.com/search?q=annual+report+DIASORIN+format%3Apdf&btnG=Search&gbv=1&num=3\n"
          ]
        },
        {
          "output_type": "stream",
          "name": "stdout",
          "text": [
            "DIASORIN\n"
          ]
        },
        {
          "output_type": "stream",
          "name": "stderr",
          "text": [
            "2021-09-21 15:59:20,991 - magic_google - INFO: https://www.google.com/search?q=annual+report+DINO+POLSKA+format%3Apdf&btnG=Search&gbv=1&num=3\n"
          ]
        },
        {
          "output_type": "stream",
          "name": "stdout",
          "text": [
            "DINO POLSKA\n"
          ]
        },
        {
          "output_type": "stream",
          "name": "stderr",
          "text": [
            "2021-09-21 15:59:23,593 - magic_google - INFO: https://www.google.com/search?q=annual+report+DIPLOMA+format%3Apdf&btnG=Search&gbv=1&num=3\n"
          ]
        },
        {
          "output_type": "stream",
          "name": "stdout",
          "text": [
            "DIPLOMA\n"
          ]
        },
        {
          "output_type": "stream",
          "name": "stderr",
          "text": [
            "2021-09-21 15:59:26,182 - magic_google - INFO: https://www.google.com/search?q=annual+report+DNB+Bank+format%3Apdf&btnG=Search&gbv=1&num=3\n"
          ]
        },
        {
          "output_type": "stream",
          "name": "stdout",
          "text": [
            "DNB Bank\n"
          ]
        },
        {
          "output_type": "stream",
          "name": "stderr",
          "text": [
            "2021-09-21 15:59:28,915 - magic_google - INFO: https://www.google.com/search?q=annual+report+DOMETIC+GROUP+format%3Apdf&btnG=Search&gbv=1&num=3\n"
          ]
        },
        {
          "output_type": "stream",
          "name": "stdout",
          "text": [
            "DOMETIC GROUP\n"
          ]
        },
        {
          "output_type": "stream",
          "name": "stderr",
          "text": [
            "2021-09-21 15:59:31,576 - magic_google - INFO: https://www.google.com/search?q=annual+report+Dr.+Martens+format%3Apdf&btnG=Search&gbv=1&num=3\n"
          ]
        },
        {
          "output_type": "stream",
          "name": "stdout",
          "text": [
            "Dr. Martens\n"
          ]
        },
        {
          "output_type": "stream",
          "name": "stderr",
          "text": [
            "2021-09-21 15:59:34,119 - magic_google - INFO: https://www.google.com/search?q=annual+report+Dufry+format%3Apdf&btnG=Search&gbv=1&num=3\n"
          ]
        },
        {
          "output_type": "stream",
          "name": "stdout",
          "text": [
            "Dufry\n"
          ]
        },
        {
          "output_type": "stream",
          "name": "stderr",
          "text": [
            "2021-09-21 15:59:36,712 - magic_google - INFO: https://www.google.com/search?q=annual+report+EDP+Renovaveis+format%3Apdf&btnG=Search&gbv=1&num=3\n"
          ]
        },
        {
          "output_type": "stream",
          "name": "stdout",
          "text": [
            "EDP Renovaveis\n"
          ]
        },
        {
          "output_type": "stream",
          "name": "stderr",
          "text": [
            "2021-09-21 15:59:39,292 - magic_google - INFO: https://www.google.com/search?q=annual+report+EMS-CHEMIE+format%3Apdf&btnG=Search&gbv=1&num=3\n"
          ]
        },
        {
          "output_type": "stream",
          "name": "stdout",
          "text": [
            "EMS-CHEMIE\n"
          ]
        },
        {
          "output_type": "stream",
          "name": "stderr",
          "text": [
            "2021-09-21 15:59:41,958 - magic_google - INFO: https://www.google.com/search?q=annual+report+ENTRA+format%3Apdf&btnG=Search&gbv=1&num=3\n"
          ]
        },
        {
          "output_type": "stream",
          "name": "stdout",
          "text": [
            "ENTRA\n"
          ]
        },
        {
          "output_type": "stream",
          "name": "stderr",
          "text": [
            "2021-09-21 15:59:44,510 - magic_google - INFO: https://www.google.com/search?q=annual+report+Epiroc+format%3Apdf&btnG=Search&gbv=1&num=3\n"
          ]
        },
        {
          "output_type": "stream",
          "name": "stdout",
          "text": [
            "Epiroc\n"
          ]
        },
        {
          "output_type": "stream",
          "name": "stderr",
          "text": [
            "2021-09-21 15:59:47,020 - magic_google - INFO: https://www.google.com/search?q=annual+report+EQT+format%3Apdf&btnG=Search&gbv=1&num=3\n"
          ]
        },
        {
          "output_type": "stream",
          "name": "stdout",
          "text": [
            "EQT\n"
          ]
        },
        {
          "output_type": "stream",
          "name": "stderr",
          "text": [
            "2021-09-21 15:59:49,724 - magic_google - INFO: https://www.google.com/search?q=annual+report+ERSTE+GROUP+BANK+format%3Apdf&btnG=Search&gbv=1&num=3\n"
          ]
        },
        {
          "output_type": "stream",
          "name": "stdout",
          "text": [
            "ERSTE GROUP BANK\n"
          ]
        },
        {
          "output_type": "stream",
          "name": "stderr",
          "text": [
            "2021-09-21 15:59:52,194 - magic_google - INFO: https://www.google.com/search?q=annual+report+ESSILORLUXOTTICA+format%3Apdf&btnG=Search&gbv=1&num=3\n"
          ]
        },
        {
          "output_type": "stream",
          "name": "stdout",
          "text": [
            "ESSILORLUXOTTICA\n"
          ]
        },
        {
          "output_type": "stream",
          "name": "stderr",
          "text": [
            "2021-09-21 15:59:54,807 - magic_google - INFO: https://www.google.com/search?q=annual+report+Eurofins+Scientific+format%3Apdf&btnG=Search&gbv=1&num=3\n"
          ]
        },
        {
          "output_type": "stream",
          "name": "stdout",
          "text": [
            "Eurofins Scientific\n"
          ]
        },
        {
          "output_type": "stream",
          "name": "stderr",
          "text": [
            "2021-09-21 15:59:57,374 - magic_google - INFO: https://www.google.com/search?q=annual+report+EURONEXT+format%3Apdf&btnG=Search&gbv=1&num=3\n"
          ]
        },
        {
          "output_type": "stream",
          "name": "stdout",
          "text": [
            "EURONEXT\n"
          ]
        },
        {
          "output_type": "stream",
          "name": "stderr",
          "text": [
            "2021-09-21 16:00:00,175 - magic_google - INFO: https://www.google.com/search?q=annual+report+EVOLUTION+GAMING+GROUP+format%3Apdf&btnG=Search&gbv=1&num=3\n"
          ]
        },
        {
          "output_type": "stream",
          "name": "stdout",
          "text": [
            "EVOLUTION GAMING GROUP\n"
          ]
        },
        {
          "output_type": "stream",
          "name": "stderr",
          "text": [
            "2021-09-21 16:00:02,676 - magic_google - INFO: https://www.google.com/search?q=annual+report+EVOTEC+format%3Apdf&btnG=Search&gbv=1&num=3\n"
          ]
        },
        {
          "output_type": "stream",
          "name": "stdout",
          "text": [
            "EVOTEC\n"
          ]
        },
        {
          "output_type": "stream",
          "name": "stderr",
          "text": [
            "2021-09-21 16:00:05,318 - magic_google - INFO: https://www.google.com/search?q=annual+report+EXOR+format%3Apdf&btnG=Search&gbv=1&num=3\n"
          ]
        },
        {
          "output_type": "stream",
          "name": "stdout",
          "text": [
            "EXOR\n"
          ]
        },
        {
          "output_type": "stream",
          "name": "stderr",
          "text": [
            "2021-09-21 16:00:07,999 - magic_google - INFO: https://www.google.com/search?q=annual+report+FASTIGHETS+AB+BALDER+format%3Apdf&btnG=Search&gbv=1&num=3\n"
          ]
        },
        {
          "output_type": "stream",
          "name": "stdout",
          "text": [
            "FASTIGHETS AB BALDER\n"
          ]
        },
        {
          "output_type": "stream",
          "name": "stderr",
          "text": [
            "2021-09-21 16:00:10,656 - magic_google - INFO: https://www.google.com/search?q=annual+report+FERGUSON+format%3Apdf&btnG=Search&gbv=1&num=3\n"
          ]
        },
        {
          "output_type": "stream",
          "name": "stdout",
          "text": [
            "FERGUSON\n"
          ]
        },
        {
          "output_type": "stream",
          "name": "stderr",
          "text": [
            "2021-09-21 16:00:13,315 - magic_google - INFO: https://www.google.com/search?q=annual+report+FINECOBANK+BANCA+format%3Apdf&btnG=Search&gbv=1&num=3\n"
          ]
        },
        {
          "output_type": "stream",
          "name": "stdout",
          "text": [
            "FINECOBANK BANCA\n"
          ]
        },
        {
          "output_type": "stream",
          "name": "stderr",
          "text": [
            "2021-09-21 16:00:16,183 - magic_google - INFO: https://www.google.com/search?q=annual+report+FLUGHAFEN+ZUERICH+format%3Apdf&btnG=Search&gbv=1&num=3\n"
          ]
        },
        {
          "output_type": "stream",
          "name": "stdout",
          "text": [
            "FLUGHAFEN ZUERICH\n"
          ]
        },
        {
          "output_type": "stream",
          "name": "stderr",
          "text": [
            "2021-09-21 16:00:18,640 - magic_google - INFO: https://www.google.com/search?q=annual+report+Fluidra+format%3Apdf&btnG=Search&gbv=1&num=3\n"
          ]
        },
        {
          "output_type": "stream",
          "name": "stdout",
          "text": [
            "Fluidra\n"
          ]
        },
        {
          "output_type": "stream",
          "name": "stderr",
          "text": [
            "2021-09-21 16:00:21,354 - magic_google - INFO: https://www.google.com/search?q=annual+report+FLUTTER+ENTERTAINMENT+format%3Apdf&btnG=Search&gbv=1&num=3\n"
          ]
        },
        {
          "output_type": "stream",
          "name": "stdout",
          "text": [
            "FLUTTER ENTERTAINMENT\n"
          ]
        },
        {
          "output_type": "stream",
          "name": "stderr",
          "text": [
            "2021-09-21 16:00:24,298 - magic_google - INFO: https://www.google.com/search?q=annual+report+FREENET+AG+format%3Apdf&btnG=Search&gbv=1&num=3\n"
          ]
        },
        {
          "output_type": "stream",
          "name": "stdout",
          "text": [
            "FREENET AG\n"
          ]
        },
        {
          "output_type": "stream",
          "name": "stderr",
          "text": [
            "2021-09-21 16:00:26,968 - magic_google - INFO: https://www.google.com/search?q=annual+report+FRESENIUS+MEDICAL+CARE+format%3Apdf&btnG=Search&gbv=1&num=3\n"
          ]
        },
        {
          "output_type": "stream",
          "name": "stdout",
          "text": [
            "FRESENIUS MEDICAL CARE\n"
          ]
        },
        {
          "output_type": "stream",
          "name": "stderr",
          "text": [
            "2021-09-21 16:00:29,568 - magic_google - INFO: https://www.google.com/search?q=annual+report+FRESENIUS+format%3Apdf&btnG=Search&gbv=1&num=3\n"
          ]
        },
        {
          "output_type": "stream",
          "name": "stdout",
          "text": [
            "FRESENIUS\n"
          ]
        },
        {
          "output_type": "stream",
          "name": "stderr",
          "text": [
            "2021-09-21 16:00:32,243 - magic_google - INFO: https://www.google.com/search?q=annual+report+FUCHS+PETROLUB+format%3Apdf&btnG=Search&gbv=1&num=3\n"
          ]
        },
        {
          "output_type": "stream",
          "name": "stdout",
          "text": [
            "FUCHS PETROLUB\n"
          ]
        },
        {
          "output_type": "stream",
          "name": "stderr",
          "text": [
            "2021-09-21 16:00:34,847 - magic_google - INFO: https://www.google.com/search?q=annual+report+Future+PLC+format%3Apdf&btnG=Search&gbv=1&num=3\n"
          ]
        },
        {
          "output_type": "stream",
          "name": "stdout",
          "text": [
            "Future PLC\n"
          ]
        },
        {
          "output_type": "stream",
          "name": "stderr",
          "text": [
            "2021-09-21 16:00:37,451 - magic_google - INFO: https://www.google.com/search?q=annual+report+GALAPAGOS+format%3Apdf&btnG=Search&gbv=1&num=3\n"
          ]
        },
        {
          "output_type": "stream",
          "name": "stdout",
          "text": [
            "GALAPAGOS\n"
          ]
        },
        {
          "output_type": "stream",
          "name": "stderr",
          "text": [
            "2021-09-21 16:00:40,106 - magic_google - INFO: https://www.google.com/search?q=annual+report+GAMES+WORKSHOP+GROUP+format%3Apdf&btnG=Search&gbv=1&num=3\n"
          ]
        },
        {
          "output_type": "stream",
          "name": "stdout",
          "text": [
            "GAMES WORKSHOP GROUP\n"
          ]
        },
        {
          "output_type": "stream",
          "name": "stderr",
          "text": [
            "2021-09-21 16:00:42,621 - magic_google - INFO: https://www.google.com/search?q=annual+report+GENMAB+format%3Apdf&btnG=Search&gbv=1&num=3\n"
          ]
        },
        {
          "output_type": "stream",
          "name": "stdout",
          "text": [
            "GENMAB\n"
          ]
        },
        {
          "output_type": "stream",
          "name": "stderr",
          "text": [
            "2021-09-21 16:00:45,271 - magic_google - INFO: https://www.google.com/search?q=annual+report+GENUS+PLC+format%3Apdf&btnG=Search&gbv=1&num=3\n"
          ]
        },
        {
          "output_type": "stream",
          "name": "stdout",
          "text": [
            "GENUS PLC\n"
          ]
        },
        {
          "output_type": "stream",
          "name": "stderr",
          "text": [
            "2021-09-21 16:00:47,797 - magic_google - INFO: https://www.google.com/search?q=annual+report+GLENCORE+format%3Apdf&btnG=Search&gbv=1&num=3\n"
          ]
        },
        {
          "output_type": "stream",
          "name": "stdout",
          "text": [
            "GLENCORE\n"
          ]
        },
        {
          "output_type": "stream",
          "name": "stderr",
          "text": [
            "2021-09-21 16:00:50,468 - magic_google - INFO: https://www.google.com/search?q=annual+report+GN+STORE+NORD+format%3Apdf&btnG=Search&gbv=1&num=3\n"
          ]
        },
        {
          "output_type": "stream",
          "name": "stdout",
          "text": [
            "GN STORE NORD\n"
          ]
        },
        {
          "output_type": "stream",
          "name": "stderr",
          "text": [
            "2021-09-21 16:00:53,117 - magic_google - INFO: https://www.google.com/search?q=annual+report+Grafton+format%3Apdf&btnG=Search&gbv=1&num=3\n"
          ]
        },
        {
          "output_type": "stream",
          "name": "stdout",
          "text": [
            "Grafton\n"
          ]
        },
        {
          "output_type": "stream",
          "name": "stderr",
          "text": [
            "2021-09-21 16:00:55,822 - magic_google - INFO: https://www.google.com/search?q=annual+report+GRAND+CITY+PROPERTIES+format%3Apdf&btnG=Search&gbv=1&num=3\n"
          ]
        },
        {
          "output_type": "stream",
          "name": "stdout",
          "text": [
            "GRAND CITY PROPERTIES\n"
          ]
        },
        {
          "output_type": "stream",
          "name": "stderr",
          "text": [
            "2021-09-21 16:00:58,527 - magic_google - INFO: https://www.google.com/search?q=annual+report+HARGREAVES+LANSDOWN+format%3Apdf&btnG=Search&gbv=1&num=3\n"
          ]
        },
        {
          "output_type": "stream",
          "name": "stdout",
          "text": [
            "HARGREAVES LANSDOWN\n"
          ]
        },
        {
          "output_type": "stream",
          "name": "stderr",
          "text": [
            "2021-09-21 16:01:01,110 - magic_google - INFO: https://www.google.com/search?q=annual+report+HEINEKEN+format%3Apdf&btnG=Search&gbv=1&num=3\n"
          ]
        },
        {
          "output_type": "stream",
          "name": "stdout",
          "text": [
            "HEINEKEN\n"
          ]
        },
        {
          "output_type": "stream",
          "name": "stderr",
          "text": [
            "2021-09-21 16:01:03,682 - magic_google - INFO: https://www.google.com/search?q=annual+report+HELLOFRESH+format%3Apdf&btnG=Search&gbv=1&num=3\n"
          ]
        },
        {
          "output_type": "stream",
          "name": "stdout",
          "text": [
            "HELLOFRESH\n"
          ]
        },
        {
          "output_type": "stream",
          "name": "stderr",
          "text": [
            "2021-09-21 16:01:06,335 - magic_google - INFO: https://www.google.com/search?q=annual+report+HELVETIA+format%3Apdf&btnG=Search&gbv=1&num=3\n"
          ]
        },
        {
          "output_type": "stream",
          "name": "stdout",
          "text": [
            "HELVETIA\n"
          ]
        },
        {
          "output_type": "stream",
          "name": "stderr",
          "text": [
            "2021-09-21 16:01:08,928 - magic_google - INFO: https://www.google.com/search?q=annual+report+Hexagon+format%3Apdf&btnG=Search&gbv=1&num=3\n"
          ]
        },
        {
          "output_type": "stream",
          "name": "stdout",
          "text": [
            "Hexagon\n"
          ]
        },
        {
          "output_type": "stream",
          "name": "stderr",
          "text": [
            "2021-09-21 16:01:11,560 - magic_google - INFO: https://www.google.com/search?q=annual+report+HOMESERVE+format%3Apdf&btnG=Search&gbv=1&num=3\n"
          ]
        },
        {
          "output_type": "stream",
          "name": "stdout",
          "text": [
            "HOMESERVE\n"
          ]
        },
        {
          "output_type": "stream",
          "name": "stderr",
          "text": [
            "2021-09-21 16:01:14,241 - magic_google - INFO: https://www.google.com/search?q=annual+report+HOWDEN+JOINERY+GROUP+format%3Apdf&btnG=Search&gbv=1&num=3\n"
          ]
        },
        {
          "output_type": "stream",
          "name": "stdout",
          "text": [
            "HOWDEN JOINERY GROUP\n"
          ]
        },
        {
          "output_type": "stream",
          "name": "stderr",
          "text": [
            "2021-09-21 16:01:16,803 - magic_google - INFO: https://www.google.com/search?q=annual+report+IDORSIA+format%3Apdf&btnG=Search&gbv=1&num=3\n"
          ]
        },
        {
          "output_type": "stream",
          "name": "stdout",
          "text": [
            "IDORSIA\n"
          ]
        },
        {
          "output_type": "stream",
          "name": "stderr",
          "text": [
            "2021-09-21 16:01:19,329 - magic_google - INFO: https://www.google.com/search?q=annual+report+IMCD+format%3Apdf&btnG=Search&gbv=1&num=3\n"
          ]
        },
        {
          "output_type": "stream",
          "name": "stdout",
          "text": [
            "IMCD\n"
          ]
        },
        {
          "output_type": "stream",
          "name": "stderr",
          "text": [
            "2021-09-21 16:01:21,836 - magic_google - INFO: https://www.google.com/search?q=annual+report+INCHCAPE+format%3Apdf&btnG=Search&gbv=1&num=3\n"
          ]
        },
        {
          "output_type": "stream",
          "name": "stdout",
          "text": [
            "INCHCAPE\n"
          ]
        },
        {
          "output_type": "stream",
          "name": "stderr",
          "text": [
            "2021-09-21 16:01:24,479 - magic_google - INFO: https://www.google.com/search?q=annual+report+Industrivarden+format%3Apdf&btnG=Search&gbv=1&num=3\n"
          ]
        },
        {
          "output_type": "stream",
          "name": "stdout",
          "text": [
            "Industrivarden\n"
          ]
        },
        {
          "output_type": "stream",
          "name": "stderr",
          "text": [
            "2021-09-21 16:01:27,002 - magic_google - INFO: https://www.google.com/search?q=annual+report+INDUTRADE+format%3Apdf&btnG=Search&gbv=1&num=3\n"
          ]
        },
        {
          "output_type": "stream",
          "name": "stdout",
          "text": [
            "INDUTRADE\n"
          ]
        },
        {
          "output_type": "stream",
          "name": "stderr",
          "text": [
            "2021-09-21 16:01:29,969 - magic_google - INFO: https://www.google.com/search?q=annual+report+INFRASTRUTTURE+WIRELESS+ITALIA+format%3Apdf&btnG=Search&gbv=1&num=3\n"
          ]
        },
        {
          "output_type": "stream",
          "name": "stdout",
          "text": [
            "INFRASTRUTTURE WIRELESS ITALIA\n"
          ]
        },
        {
          "output_type": "stream",
          "name": "stderr",
          "text": [
            "2021-09-21 16:01:32,785 - magic_google - INFO: https://www.google.com/search?q=annual+report+InPost+SA+format%3Apdf&btnG=Search&gbv=1&num=3\n"
          ]
        },
        {
          "output_type": "stream",
          "name": "stdout",
          "text": [
            "InPost SA\n"
          ]
        },
        {
          "output_type": "stream",
          "name": "stderr",
          "text": [
            "2021-09-21 16:01:35,428 - magic_google - INFO: https://www.google.com/search?q=annual+report+INTERPUMP+GROUP+format%3Apdf&btnG=Search&gbv=1&num=3\n"
          ]
        },
        {
          "output_type": "stream",
          "name": "stdout",
          "text": [
            "INTERPUMP GROUP\n"
          ]
        },
        {
          "output_type": "stream",
          "name": "stderr",
          "text": [
            "2021-09-21 16:01:38,136 - magic_google - INFO: https://www.google.com/search?q=annual+report+INVESTMENT+AB+LATOUR+format%3Apdf&btnG=Search&gbv=1&num=3\n"
          ]
        },
        {
          "output_type": "stream",
          "name": "stdout",
          "text": [
            "INVESTMENT AB LATOUR\n"
          ]
        },
        {
          "output_type": "stream",
          "name": "stderr",
          "text": [
            "2021-09-21 16:01:40,763 - magic_google - INFO: https://www.google.com/search?q=annual+report+Investor+AB+format%3Apdf&btnG=Search&gbv=1&num=3\n"
          ]
        },
        {
          "output_type": "stream",
          "name": "stdout",
          "text": [
            "Investor AB\n"
          ]
        },
        {
          "output_type": "stream",
          "name": "stderr",
          "text": [
            "2021-09-21 16:01:43,361 - magic_google - INFO: https://www.google.com/search?q=annual+report+JDE+PEETS+format%3Apdf&btnG=Search&gbv=1&num=3\n"
          ]
        },
        {
          "output_type": "stream",
          "name": "stdout",
          "text": [
            "JDE PEETS\n"
          ]
        },
        {
          "output_type": "stream",
          "name": "stderr",
          "text": [
            "2021-09-21 16:01:45,916 - magic_google - INFO: https://www.google.com/search?q=annual+report+KGHM+POLSKA+MIEDZ+format%3Apdf&btnG=Search&gbv=1&num=3\n"
          ]
        },
        {
          "output_type": "stream",
          "name": "stdout",
          "text": [
            "KGHM POLSKA MIEDZ\n"
          ]
        },
        {
          "output_type": "stream",
          "name": "stderr",
          "text": [
            "2021-09-21 16:01:48,429 - magic_google - INFO: https://www.google.com/search?q=annual+report+Kinnevik+format%3Apdf&btnG=Search&gbv=1&num=3\n"
          ]
        },
        {
          "output_type": "stream",
          "name": "stdout",
          "text": [
            "Kinnevik\n"
          ]
        },
        {
          "output_type": "stream",
          "name": "stderr",
          "text": [
            "2021-09-21 16:01:50,997 - magic_google - INFO: https://www.google.com/search?q=annual+report+KNORR+BREMSE+format%3Apdf&btnG=Search&gbv=1&num=3\n"
          ]
        },
        {
          "output_type": "stream",
          "name": "stdout",
          "text": [
            "KNORR BREMSE\n"
          ]
        },
        {
          "output_type": "stream",
          "name": "stderr",
          "text": [
            "2021-09-21 16:01:53,513 - magic_google - INFO: https://www.google.com/search?q=annual+report+KONINKLIJKE+VOPAK+format%3Apdf&btnG=Search&gbv=1&num=3\n"
          ]
        },
        {
          "output_type": "stream",
          "name": "stdout",
          "text": [
            "KONINKLIJKE VOPAK\n"
          ]
        },
        {
          "output_type": "stream",
          "name": "stderr",
          "text": [
            "2021-09-21 16:01:56,192 - magic_google - INFO: https://www.google.com/search?q=annual+report+KUEHNE%2BNAGEL+format%3Apdf&btnG=Search&gbv=1&num=3\n"
          ]
        },
        {
          "output_type": "stream",
          "name": "stdout",
          "text": [
            "KUEHNE+NAGEL\n"
          ]
        },
        {
          "output_type": "stream",
          "name": "stderr",
          "text": [
            "2021-09-21 16:01:58,919 - magic_google - INFO: https://www.google.com/search?q=annual+report+LA+FRANCAISE+DES+JEUX+SAEM+format%3Apdf&btnG=Search&gbv=1&num=3\n"
          ]
        },
        {
          "output_type": "stream",
          "name": "stdout",
          "text": [
            "LA FRANCAISE DES JEUX SAEM\n"
          ]
        },
        {
          "output_type": "stream",
          "name": "stderr",
          "text": [
            "2021-09-21 16:02:01,394 - magic_google - INFO: https://www.google.com/search?q=annual+report+Lifco+format%3Apdf&btnG=Search&gbv=1&num=3\n"
          ]
        },
        {
          "output_type": "stream",
          "name": "stdout",
          "text": [
            "Lifco\n"
          ]
        },
        {
          "output_type": "stream",
          "name": "stderr",
          "text": [
            "2021-09-21 16:02:03,968 - magic_google - INFO: https://www.google.com/search?q=annual+report+LINDE+format%3Apdf&btnG=Search&gbv=1&num=3\n"
          ]
        },
        {
          "output_type": "stream",
          "name": "stdout",
          "text": [
            "LINDE\n"
          ]
        },
        {
          "output_type": "stream",
          "name": "stderr",
          "text": [
            "2021-09-21 16:02:06,458 - magic_google - INFO: https://www.google.com/search?q=annual+report+LONDONMETRIC+PROPERTY+format%3Apdf&btnG=Search&gbv=1&num=3\n"
          ]
        },
        {
          "output_type": "stream",
          "name": "stdout",
          "text": [
            "LONDONMETRIC PROPERTY\n"
          ]
        },
        {
          "output_type": "stream",
          "name": "stderr",
          "text": [
            "2021-09-21 16:02:09,043 - magic_google - INFO: https://www.google.com/search?q=annual+report+LUNDBERGFORETAGEN+format%3Apdf&btnG=Search&gbv=1&num=3\n"
          ]
        },
        {
          "output_type": "stream",
          "name": "stdout",
          "text": [
            "LUNDBERGFORETAGEN\n"
          ]
        },
        {
          "output_type": "stream",
          "name": "stderr",
          "text": [
            "2021-09-21 16:02:11,657 - magic_google - INFO: https://www.google.com/search?q=annual+report+M%26G+format%3Apdf&btnG=Search&gbv=1&num=3\n"
          ]
        },
        {
          "output_type": "stream",
          "name": "stdout",
          "text": [
            "M&G\n"
          ]
        },
        {
          "output_type": "stream",
          "name": "stderr",
          "text": [
            "2021-09-21 16:02:14,376 - magic_google - INFO: https://www.google.com/search?q=annual+report+MAN+GROUP+format%3Apdf&btnG=Search&gbv=1&num=3\n"
          ]
        },
        {
          "output_type": "stream",
          "name": "stdout",
          "text": [
            "MAN GROUP\n"
          ]
        },
        {
          "output_type": "stream",
          "name": "stderr",
          "text": [
            "2021-09-21 16:02:16,950 - magic_google - INFO: https://www.google.com/search?q=annual+report+MEDIOBANCA+format%3Apdf&btnG=Search&gbv=1&num=3\n"
          ]
        },
        {
          "output_type": "stream",
          "name": "stdout",
          "text": [
            "MEDIOBANCA\n"
          ]
        },
        {
          "output_type": "stream",
          "name": "stderr",
          "text": [
            "2021-09-21 16:02:19,506 - magic_google - INFO: https://www.google.com/search?q=annual+report+MEGGITT+format%3Apdf&btnG=Search&gbv=1&num=3\n"
          ]
        },
        {
          "output_type": "stream",
          "name": "stdout",
          "text": [
            "MEGGITT\n"
          ]
        },
        {
          "output_type": "stream",
          "name": "stderr",
          "text": [
            "2021-09-21 16:02:22,109 - magic_google - INFO: https://www.google.com/search?q=annual+report+Millicom+International+Cellular+format%3Apdf&btnG=Search&gbv=1&num=3\n"
          ]
        },
        {
          "output_type": "stream",
          "name": "stdout",
          "text": [
            "Millicom International Cellular\n"
          ]
        },
        {
          "output_type": "stream",
          "name": "stderr",
          "text": [
            "2021-09-21 16:02:24,684 - magic_google - INFO: https://www.google.com/search?q=annual+report+MORPHOSYS+format%3Apdf&btnG=Search&gbv=1&num=3\n"
          ]
        },
        {
          "output_type": "stream",
          "name": "stdout",
          "text": [
            "MORPHOSYS\n"
          ]
        },
        {
          "output_type": "stream",
          "name": "stderr",
          "text": [
            "2021-09-21 16:02:27,360 - magic_google - INFO: https://www.google.com/search?q=annual+report+NEL+ASA+format%3Apdf&btnG=Search&gbv=1&num=3\n"
          ]
        },
        {
          "output_type": "stream",
          "name": "stdout",
          "text": [
            "NEL ASA\n"
          ]
        },
        {
          "output_type": "stream",
          "name": "stderr",
          "text": [
            "2021-09-21 16:02:29,899 - magic_google - INFO: https://www.google.com/search?q=annual+report+NEMETSCHEK+format%3Apdf&btnG=Search&gbv=1&num=3\n"
          ]
        },
        {
          "output_type": "stream",
          "name": "stdout",
          "text": [
            "NEMETSCHEK\n"
          ]
        },
        {
          "output_type": "stream",
          "name": "stderr",
          "text": [
            "2021-09-21 16:02:32,625 - magic_google - INFO: https://www.google.com/search?q=annual+report+NETCOMPANY+GROUP+format%3Apdf&btnG=Search&gbv=1&num=3\n"
          ]
        },
        {
          "output_type": "stream",
          "name": "stdout",
          "text": [
            "NETCOMPANY GROUP\n"
          ]
        },
        {
          "output_type": "stream",
          "name": "stderr",
          "text": [
            "2021-09-21 16:02:35,249 - magic_google - INFO: https://www.google.com/search?q=annual+report+NEXI+format%3Apdf&btnG=Search&gbv=1&num=3\n"
          ]
        },
        {
          "output_type": "stream",
          "name": "stdout",
          "text": [
            "NEXI\n"
          ]
        },
        {
          "output_type": "stream",
          "name": "stderr",
          "text": [
            "2021-09-21 16:02:37,734 - magic_google - INFO: https://www.google.com/search?q=annual+report+Nibe+Industrier+format%3Apdf&btnG=Search&gbv=1&num=3\n"
          ]
        },
        {
          "output_type": "stream",
          "name": "stdout",
          "text": [
            "Nibe Industrier\n"
          ]
        },
        {
          "output_type": "stream",
          "name": "stderr",
          "text": [
            "2021-09-21 16:02:40,404 - magic_google - INFO: https://www.google.com/search?q=annual+report+NORDEA+BANK+format%3Apdf&btnG=Search&gbv=1&num=3\n"
          ]
        },
        {
          "output_type": "stream",
          "name": "stdout",
          "text": [
            "NORDEA BANK\n"
          ]
        },
        {
          "output_type": "stream",
          "name": "stderr",
          "text": [
            "2021-09-21 16:02:43,063 - magic_google - INFO: https://www.google.com/search?q=annual+report+Nordic+Entertainment+format%3Apdf&btnG=Search&gbv=1&num=3\n"
          ]
        },
        {
          "output_type": "stream",
          "name": "stdout",
          "text": [
            "Nordic Entertainment\n"
          ]
        },
        {
          "output_type": "stream",
          "name": "stderr",
          "text": [
            "2021-09-21 16:02:45,673 - magic_google - INFO: https://www.google.com/search?q=annual+report+OCADO+GROUP+format%3Apdf&btnG=Search&gbv=1&num=3\n"
          ]
        },
        {
          "output_type": "stream",
          "name": "stdout",
          "text": [
            "OCADO GROUP\n"
          ]
        },
        {
          "output_type": "stream",
          "name": "stderr",
          "text": [
            "2021-09-21 16:02:48,358 - magic_google - INFO: https://www.google.com/search?q=annual+report+ORANGE+format%3Apdf&btnG=Search&gbv=1&num=3\n"
          ]
        },
        {
          "output_type": "stream",
          "name": "stdout",
          "text": [
            "ORANGE\n"
          ]
        },
        {
          "output_type": "stream",
          "name": "stderr",
          "text": [
            "2021-09-21 16:02:51,080 - magic_google - INFO: https://www.google.com/search?q=annual+report+PARTNERS+GROUP+format%3Apdf&btnG=Search&gbv=1&num=3\n"
          ]
        },
        {
          "output_type": "stream",
          "name": "stdout",
          "text": [
            "PARTNERS GROUP\n"
          ]
        },
        {
          "output_type": "stream",
          "name": "stderr",
          "text": [
            "2021-09-21 16:02:53,775 - magic_google - INFO: https://www.google.com/search?q=annual+report+Phoenix+Group+format%3Apdf&btnG=Search&gbv=1&num=3\n"
          ]
        },
        {
          "output_type": "stream",
          "name": "stdout",
          "text": [
            "Phoenix Group\n"
          ]
        },
        {
          "output_type": "stream",
          "name": "stderr",
          "text": [
            "2021-09-21 16:02:56,511 - magic_google - INFO: https://www.google.com/search?q=annual+report+POLSKI+KONCERN+NAFTOWY+ORLEN+format%3Apdf&btnG=Search&gbv=1&num=3\n"
          ]
        },
        {
          "output_type": "stream",
          "name": "stdout",
          "text": [
            "POLSKI KONCERN NAFTOWY ORLEN\n"
          ]
        },
        {
          "output_type": "stream",
          "name": "stderr",
          "text": [
            "2021-09-21 16:02:59,278 - magic_google - INFO: https://www.google.com/search?q=annual+report+Porsche+Automobil+format%3Apdf&btnG=Search&gbv=1&num=3\n"
          ]
        },
        {
          "output_type": "stream",
          "name": "stdout",
          "text": [
            "Porsche Automobil\n"
          ]
        },
        {
          "output_type": "stream",
          "name": "stderr",
          "text": [
            "2021-09-21 16:03:01,820 - magic_google - INFO: https://www.google.com/search?q=annual+report+POWSZECHNA+KASA+OSZCZEDNOSCI+format%3Apdf&btnG=Search&gbv=1&num=3\n"
          ]
        },
        {
          "output_type": "stream",
          "name": "stdout",
          "text": [
            "POWSZECHNA KASA OSZCZEDNOSCI\n"
          ]
        },
        {
          "output_type": "stream",
          "name": "stderr",
          "text": [
            "2021-09-21 16:03:04,515 - magic_google - INFO: https://www.google.com/search?q=annual+report+PRIMARY+HEALTH+PROPERTIES+format%3Apdf&btnG=Search&gbv=1&num=3\n"
          ]
        },
        {
          "output_type": "stream",
          "name": "stdout",
          "text": [
            "PRIMARY HEALTH PROPERTIES\n"
          ]
        },
        {
          "output_type": "stream",
          "name": "stderr",
          "text": [
            "2021-09-21 16:03:07,051 - magic_google - INFO: https://www.google.com/search?q=annual+report+PROSUS+format%3Apdf&btnG=Search&gbv=1&num=3\n"
          ]
        },
        {
          "output_type": "stream",
          "name": "stdout",
          "text": [
            "PROSUS\n"
          ]
        },
        {
          "output_type": "stream",
          "name": "stderr",
          "text": [
            "2021-09-21 16:03:09,581 - magic_google - INFO: https://www.google.com/search?q=annual+report+PZU+format%3Apdf&btnG=Search&gbv=1&num=3\n"
          ]
        },
        {
          "output_type": "stream",
          "name": "stdout",
          "text": [
            "PZU\n"
          ]
        },
        {
          "output_type": "stream",
          "name": "stderr",
          "text": [
            "2021-09-21 16:03:12,152 - magic_google - INFO: https://www.google.com/search?q=annual+report+QIAGEN+format%3Apdf&btnG=Search&gbv=1&num=3\n"
          ]
        },
        {
          "output_type": "stream",
          "name": "stdout",
          "text": [
            "QIAGEN\n"
          ]
        },
        {
          "output_type": "stream",
          "name": "stderr",
          "text": [
            "2021-09-21 16:03:14,846 - magic_google - INFO: https://www.google.com/search?q=annual+report+QUILTER+format%3Apdf&btnG=Search&gbv=1&num=3\n"
          ]
        },
        {
          "output_type": "stream",
          "name": "stdout",
          "text": [
            "QUILTER\n"
          ]
        },
        {
          "output_type": "stream",
          "name": "stderr",
          "text": [
            "2021-09-21 16:03:17,392 - magic_google - INFO: https://www.google.com/search?q=annual+report+RECORDATI+format%3Apdf&btnG=Search&gbv=1&num=3\n"
          ]
        },
        {
          "output_type": "stream",
          "name": "stdout",
          "text": [
            "RECORDATI\n"
          ]
        },
        {
          "output_type": "stream",
          "name": "stderr",
          "text": [
            "2021-09-21 16:03:20,134 - magic_google - INFO: https://www.google.com/search?q=annual+report+RHEINMETALL+format%3Apdf&btnG=Search&gbv=1&num=3\n"
          ]
        },
        {
          "output_type": "stream",
          "name": "stdout",
          "text": [
            "RHEINMETALL\n"
          ]
        },
        {
          "output_type": "stream",
          "name": "stderr",
          "text": [
            "2021-09-21 16:03:22,755 - magic_google - INFO: https://www.google.com/search?q=annual+report+RICHEMONT+format%3Apdf&btnG=Search&gbv=1&num=3\n"
          ]
        },
        {
          "output_type": "stream",
          "name": "stdout",
          "text": [
            "RICHEMONT\n"
          ]
        },
        {
          "output_type": "stream",
          "name": "stderr",
          "text": [
            "2021-09-21 16:03:25,353 - magic_google - INFO: https://www.google.com/search?q=annual+report+RIGHTMOVE+PLC+format%3Apdf&btnG=Search&gbv=1&num=3\n"
          ]
        },
        {
          "output_type": "stream",
          "name": "stdout",
          "text": [
            "RIGHTMOVE PLC\n"
          ]
        },
        {
          "output_type": "stream",
          "name": "stderr",
          "text": [
            "2021-09-21 16:03:27,973 - magic_google - INFO: https://www.google.com/search?q=annual+report+RIO+TINTO+format%3Apdf&btnG=Search&gbv=1&num=3\n"
          ]
        },
        {
          "output_type": "stream",
          "name": "stdout",
          "text": [
            "RIO TINTO\n"
          ]
        },
        {
          "output_type": "stream",
          "name": "stderr",
          "text": [
            "2021-09-21 16:03:30,565 - magic_google - INFO: https://www.google.com/search?q=annual+report+ROCHE+HOLDING+format%3Apdf&btnG=Search&gbv=1&num=3\n"
          ]
        },
        {
          "output_type": "stream",
          "name": "stdout",
          "text": [
            "ROCHE HOLDING\n"
          ]
        },
        {
          "output_type": "stream",
          "name": "stderr",
          "text": [
            "2021-09-21 16:03:33,251 - magic_google - INFO: https://www.google.com/search?q=annual+report+ROLLS+ROYCE+GROUP+format%3Apdf&btnG=Search&gbv=1&num=3\n"
          ]
        },
        {
          "output_type": "stream",
          "name": "stdout",
          "text": [
            "ROLLS ROYCE GROUP\n"
          ]
        },
        {
          "output_type": "stream",
          "name": "stderr",
          "text": [
            "2021-09-21 16:03:35,828 - magic_google - INFO: https://www.google.com/search?q=annual+report+RUBIS+format%3Apdf&btnG=Search&gbv=1&num=3\n"
          ]
        },
        {
          "output_type": "stream",
          "name": "stdout",
          "text": [
            "RUBIS\n"
          ]
        },
        {
          "output_type": "stream",
          "name": "stderr",
          "text": [
            "2021-09-21 16:03:38,530 - magic_google - INFO: https://www.google.com/search?q=annual+report+S4+Capital+format%3Apdf&btnG=Search&gbv=1&num=3\n"
          ]
        },
        {
          "output_type": "stream",
          "name": "stdout",
          "text": [
            "S4 Capital\n"
          ]
        },
        {
          "output_type": "stream",
          "name": "stderr",
          "text": [
            "2021-09-21 16:03:41,124 - magic_google - INFO: https://www.google.com/search?q=annual+report+Sagax+format%3Apdf&btnG=Search&gbv=1&num=3\n"
          ]
        },
        {
          "output_type": "stream",
          "name": "stdout",
          "text": [
            "Sagax\n"
          ]
        },
        {
          "output_type": "stream",
          "name": "stderr",
          "text": [
            "2021-09-21 16:03:43,751 - magic_google - INFO: https://www.google.com/search?q=annual+report+SAINT+GOBAIN+format%3Apdf&btnG=Search&gbv=1&num=3\n"
          ]
        },
        {
          "output_type": "stream",
          "name": "stdout",
          "text": [
            "SAINT GOBAIN\n"
          ]
        },
        {
          "output_type": "stream",
          "name": "stderr",
          "text": [
            "2021-09-21 16:03:46,333 - magic_google - INFO: https://www.google.com/search?q=annual+report+SAMHALLSBYGGNADSBOLAGET+I+NORDEN+AB+format%3Apdf&btnG=Search&gbv=1&num=3\n"
          ]
        },
        {
          "output_type": "stream",
          "name": "stdout",
          "text": [
            "SAMHALLSBYGGNADSBOLAGET I NORDEN AB\n"
          ]
        },
        {
          "output_type": "stream",
          "name": "stderr",
          "text": [
            "2021-09-21 16:03:48,925 - magic_google - INFO: https://www.google.com/search?q=annual+report+SAMPO+format%3Apdf&btnG=Search&gbv=1&num=3\n"
          ]
        },
        {
          "output_type": "stream",
          "name": "stdout",
          "text": [
            "SAMPO\n"
          ]
        },
        {
          "output_type": "stream",
          "name": "stderr",
          "text": [
            "2021-09-21 16:03:51,506 - magic_google - INFO: https://www.google.com/search?q=annual+report+Sartorius+format%3Apdf&btnG=Search&gbv=1&num=3\n"
          ]
        },
        {
          "output_type": "stream",
          "name": "stdout",
          "text": [
            "Sartorius\n"
          ]
        },
        {
          "output_type": "stream",
          "name": "stderr",
          "text": [
            "2021-09-21 16:03:54,075 - magic_google - INFO: https://www.google.com/search?q=annual+report+SARTORIUS+STEDIM+BIOTECH+format%3Apdf&btnG=Search&gbv=1&num=3\n"
          ]
        },
        {
          "output_type": "stream",
          "name": "stdout",
          "text": [
            "SARTORIUS STEDIM BIOTECH\n"
          ]
        },
        {
          "output_type": "stream",
          "name": "stderr",
          "text": [
            "2021-09-21 16:03:56,660 - magic_google - INFO: https://www.google.com/search?q=annual+report+SCOUT24+format%3Apdf&btnG=Search&gbv=1&num=3\n"
          ]
        },
        {
          "output_type": "stream",
          "name": "stdout",
          "text": [
            "SCOUT24\n"
          ]
        },
        {
          "output_type": "stream",
          "name": "stderr",
          "text": [
            "2021-09-21 16:03:59,276 - magic_google - INFO: https://www.google.com/search?q=annual+report+SECURITAS+AB+format%3Apdf&btnG=Search&gbv=1&num=3\n"
          ]
        },
        {
          "output_type": "stream",
          "name": "stdout",
          "text": [
            "SECURITAS AB\n"
          ]
        },
        {
          "output_type": "stream",
          "name": "stderr",
          "text": [
            "2021-09-21 16:04:02,055 - magic_google - INFO: https://www.google.com/search?q=annual+report+SES+SA+format%3Apdf&btnG=Search&gbv=1&num=3\n"
          ]
        },
        {
          "output_type": "stream",
          "name": "stdout",
          "text": [
            "SES SA\n"
          ]
        },
        {
          "output_type": "stream",
          "name": "stderr",
          "text": [
            "2021-09-21 16:04:04,732 - magic_google - INFO: https://www.google.com/search?q=annual+report+SHELL+format%3Apdf&btnG=Search&gbv=1&num=3\n"
          ]
        },
        {
          "output_type": "stream",
          "name": "stdout",
          "text": [
            "SHELL\n"
          ]
        },
        {
          "output_type": "stream",
          "name": "stderr",
          "text": [
            "2021-09-21 16:04:07,538 - magic_google - INFO: https://www.google.com/search?q=annual+report+Siegfried+Holding+AG+format%3Apdf&btnG=Search&gbv=1&num=3\n"
          ]
        },
        {
          "output_type": "stream",
          "name": "stdout",
          "text": [
            "Siegfried Holding AG\n"
          ]
        },
        {
          "output_type": "stream",
          "name": "stderr",
          "text": [
            "2021-09-21 16:04:10,198 - magic_google - INFO: https://www.google.com/search?q=annual+report+SIEMENS+HEALTHINEERS+format%3Apdf&btnG=Search&gbv=1&num=3\n"
          ]
        },
        {
          "output_type": "stream",
          "name": "stdout",
          "text": [
            "SIEMENS HEALTHINEERS\n"
          ]
        },
        {
          "output_type": "stream",
          "name": "stderr",
          "text": [
            "2021-09-21 16:04:12,711 - magic_google - INFO: https://www.google.com/search?q=annual+report+Sinch+format%3Apdf&btnG=Search&gbv=1&num=3\n"
          ]
        },
        {
          "output_type": "stream",
          "name": "stdout",
          "text": [
            "Sinch\n"
          ]
        },
        {
          "output_type": "stream",
          "name": "stderr",
          "text": [
            "2021-09-21 16:04:15,332 - magic_google - INFO: https://www.google.com/search?q=annual+report+SKF+format%3Apdf&btnG=Search&gbv=1&num=3\n"
          ]
        },
        {
          "output_type": "stream",
          "name": "stdout",
          "text": [
            "SKF\n"
          ]
        },
        {
          "output_type": "stream",
          "name": "stderr",
          "text": [
            "2021-09-21 16:04:17,844 - magic_google - INFO: https://www.google.com/search?q=annual+report+SOFINA+format%3Apdf&btnG=Search&gbv=1&num=3\n"
          ]
        },
        {
          "output_type": "stream",
          "name": "stdout",
          "text": [
            "SOFINA\n"
          ]
        },
        {
          "output_type": "stream",
          "name": "stderr",
          "text": [
            "2021-09-21 16:04:20,390 - magic_google - INFO: https://www.google.com/search?q=annual+report+Softcat+format%3Apdf&btnG=Search&gbv=1&num=3\n"
          ]
        },
        {
          "output_type": "stream",
          "name": "stdout",
          "text": [
            "Softcat\n"
          ]
        },
        {
          "output_type": "stream",
          "name": "stderr",
          "text": [
            "2021-09-21 16:04:22,955 - magic_google - INFO: https://www.google.com/search?q=annual+report+SPECTRIS+format%3Apdf&btnG=Search&gbv=1&num=3\n"
          ]
        },
        {
          "output_type": "stream",
          "name": "stdout",
          "text": [
            "SPECTRIS\n"
          ]
        },
        {
          "output_type": "stream",
          "name": "stderr",
          "text": [
            "2021-09-21 16:04:25,578 - magic_google - INFO: https://www.google.com/search?q=annual+report+SPIE+format%3Apdf&btnG=Search&gbv=1&num=3\n"
          ]
        },
        {
          "output_type": "stream",
          "name": "stdout",
          "text": [
            "SPIE\n"
          ]
        },
        {
          "output_type": "stream",
          "name": "stderr",
          "text": [
            "2021-09-21 16:04:28,135 - magic_google - INFO: https://www.google.com/search?q=annual+report+STADLER+RAIL+format%3Apdf&btnG=Search&gbv=1&num=3\n"
          ]
        },
        {
          "output_type": "stream",
          "name": "stdout",
          "text": [
            "STADLER RAIL\n"
          ]
        },
        {
          "output_type": "stream",
          "name": "stderr",
          "text": [
            "2021-09-21 16:04:30,769 - magic_google - INFO: https://www.google.com/search?q=annual+report+STANDARD+LIFE+format%3Apdf&btnG=Search&gbv=1&num=3\n"
          ]
        },
        {
          "output_type": "stream",
          "name": "stdout",
          "text": [
            "STANDARD LIFE\n"
          ]
        },
        {
          "output_type": "stream",
          "name": "stderr",
          "text": [
            "2021-09-21 16:04:33,320 - magic_google - INFO: https://www.google.com/search?q=annual+report+Stellantis+format%3Apdf&btnG=Search&gbv=1&num=3\n"
          ]
        },
        {
          "output_type": "stream",
          "name": "stdout",
          "text": [
            "Stellantis\n"
          ]
        },
        {
          "output_type": "stream",
          "name": "stderr",
          "text": [
            "2021-09-21 16:04:35,947 - magic_google - INFO: https://www.google.com/search?q=annual+report+SUEZ+format%3Apdf&btnG=Search&gbv=1&num=3\n"
          ]
        },
        {
          "output_type": "stream",
          "name": "stdout",
          "text": [
            "SUEZ\n"
          ]
        },
        {
          "output_type": "stream",
          "name": "stderr",
          "text": [
            "2021-09-21 16:04:38,610 - magic_google - INFO: https://www.google.com/search?q=annual+report+SVENSKA+CELLULOSA+AB+format%3Apdf&btnG=Search&gbv=1&num=3\n"
          ]
        },
        {
          "output_type": "stream",
          "name": "stdout",
          "text": [
            "SVENSKA CELLULOSA AB\n"
          ]
        },
        {
          "output_type": "stream",
          "name": "stderr",
          "text": [
            "2021-09-21 16:04:41,317 - magic_google - INFO: https://www.google.com/search?q=annual+report+SWATCH+format%3Apdf&btnG=Search&gbv=1&num=3\n"
          ]
        },
        {
          "output_type": "stream",
          "name": "stdout",
          "text": [
            "SWATCH\n"
          ]
        },
        {
          "output_type": "stream",
          "name": "stderr",
          "text": [
            "2021-09-21 16:04:44,028 - magic_google - INFO: https://www.google.com/search?q=annual+report+Swedish+Match+format%3Apdf&btnG=Search&gbv=1&num=3\n"
          ]
        },
        {
          "output_type": "stream",
          "name": "stdout",
          "text": [
            "Swedish Match\n"
          ]
        },
        {
          "output_type": "stream",
          "name": "stderr",
          "text": [
            "2021-09-21 16:04:46,558 - magic_google - INFO: https://www.google.com/search?q=annual+report+SWEDISH+ORPHAN+BIOVITRUM+format%3Apdf&btnG=Search&gbv=1&num=3\n"
          ]
        },
        {
          "output_type": "stream",
          "name": "stdout",
          "text": [
            "SWEDISH ORPHAN BIOVITRUM\n"
          ]
        },
        {
          "output_type": "stream",
          "name": "stderr",
          "text": [
            "2021-09-21 16:04:49,262 - magic_google - INFO: https://www.google.com/search?q=annual+report+SWISS+PRIME+SITE+format%3Apdf&btnG=Search&gbv=1&num=3\n"
          ]
        },
        {
          "output_type": "stream",
          "name": "stdout",
          "text": [
            "SWISS PRIME SITE\n"
          ]
        },
        {
          "output_type": "stream",
          "name": "stderr",
          "text": [
            "2021-09-21 16:04:51,920 - magic_google - INFO: https://www.google.com/search?q=annual+report+TAG+IMMOBILIEN+format%3Apdf&btnG=Search&gbv=1&num=3\n"
          ]
        },
        {
          "output_type": "stream",
          "name": "stdout",
          "text": [
            "TAG IMMOBILIEN\n"
          ]
        },
        {
          "output_type": "stream",
          "name": "stderr",
          "text": [
            "2021-09-21 16:04:54,643 - magic_google - INFO: https://www.google.com/search?q=annual+report+TAKEAWAY.COM+format%3Apdf&btnG=Search&gbv=1&num=3\n"
          ]
        },
        {
          "output_type": "stream",
          "name": "stdout",
          "text": [
            "TAKEAWAY.COM\n"
          ]
        },
        {
          "output_type": "stream",
          "name": "stderr",
          "text": [
            "2021-09-21 16:04:57,331 - magic_google - INFO: https://www.google.com/search?q=annual+report+TEAMVIEWER+format%3Apdf&btnG=Search&gbv=1&num=3\n"
          ]
        },
        {
          "output_type": "stream",
          "name": "stdout",
          "text": [
            "TEAMVIEWER\n"
          ]
        },
        {
          "output_type": "stream",
          "name": "stderr",
          "text": [
            "2021-09-21 16:04:59,884 - magic_google - INFO: https://www.google.com/search?q=annual+report+TELEPERFORMANCE+format%3Apdf&btnG=Search&gbv=1&num=3\n"
          ]
        },
        {
          "output_type": "stream",
          "name": "stdout",
          "text": [
            "TELEPERFORMANCE\n"
          ]
        },
        {
          "output_type": "stream",
          "name": "stderr",
          "text": [
            "2021-09-21 16:05:02,468 - magic_google - INFO: https://www.google.com/search?q=annual+report+TEMENOS+GROUP+format%3Apdf&btnG=Search&gbv=1&num=3\n"
          ]
        },
        {
          "output_type": "stream",
          "name": "stdout",
          "text": [
            "TEMENOS GROUP\n"
          ]
        },
        {
          "output_type": "stream",
          "name": "stderr",
          "text": [
            "2021-09-21 16:05:05,055 - magic_google - INFO: https://www.google.com/search?q=annual+report+TENARIS+format%3Apdf&btnG=Search&gbv=1&num=3\n"
          ]
        },
        {
          "output_type": "stream",
          "name": "stdout",
          "text": [
            "TENARIS\n"
          ]
        },
        {
          "output_type": "stream",
          "name": "stderr",
          "text": [
            "2021-09-21 16:05:07,641 - magic_google - INFO: https://www.google.com/search?q=annual+report+Tesco+format%3Apdf&btnG=Search&gbv=1&num=3\n"
          ]
        },
        {
          "output_type": "stream",
          "name": "stdout",
          "text": [
            "Tesco\n"
          ]
        },
        {
          "output_type": "stream",
          "name": "stderr",
          "text": [
            "2021-09-21 16:05:10,204 - magic_google - INFO: https://www.google.com/search?q=annual+report+THG+format%3Apdf&btnG=Search&gbv=1&num=3\n"
          ]
        },
        {
          "output_type": "stream",
          "name": "stdout",
          "text": [
            "THG\n"
          ]
        },
        {
          "output_type": "stream",
          "name": "stderr",
          "text": [
            "2021-09-21 16:05:12,759 - magic_google - INFO: https://www.google.com/search?q=annual+report+TOMRA+SYSTEMS+format%3Apdf&btnG=Search&gbv=1&num=3\n"
          ]
        },
        {
          "output_type": "stream",
          "name": "stdout",
          "text": [
            "TOMRA SYSTEMS\n"
          ]
        },
        {
          "output_type": "stream",
          "name": "stderr",
          "text": [
            "2021-09-21 16:05:15,403 - magic_google - INFO: https://www.google.com/search?q=annual+report+Travis+Perkins+format%3Apdf&btnG=Search&gbv=1&num=3\n"
          ]
        },
        {
          "output_type": "stream",
          "name": "stdout",
          "text": [
            "Travis Perkins\n"
          ]
        },
        {
          "output_type": "stream",
          "name": "stderr",
          "text": [
            "2021-09-21 16:05:18,066 - magic_google - INFO: https://www.google.com/search?q=annual+report+TRITAX+BIG+BOX+REIT+format%3Apdf&btnG=Search&gbv=1&num=3\n"
          ]
        },
        {
          "output_type": "stream",
          "name": "stdout",
          "text": [
            "TRITAX BIG BOX REIT\n"
          ]
        },
        {
          "output_type": "stream",
          "name": "stderr",
          "text": [
            "2021-09-21 16:05:20,776 - magic_google - INFO: https://www.google.com/search?q=annual+report+TRYG+format%3Apdf&btnG=Search&gbv=1&num=3\n"
          ]
        },
        {
          "output_type": "stream",
          "name": "stdout",
          "text": [
            "TRYG\n"
          ]
        },
        {
          "output_type": "stream",
          "name": "stderr",
          "text": [
            "2021-09-21 16:05:23,496 - magic_google - INFO: https://www.google.com/search?q=annual+report+TUI+format%3Apdf&btnG=Search&gbv=1&num=3\n"
          ]
        },
        {
          "output_type": "stream",
          "name": "stdout",
          "text": [
            "TUI\n"
          ]
        },
        {
          "output_type": "stream",
          "name": "stderr",
          "text": [
            "2021-09-21 16:05:26,109 - magic_google - INFO: https://www.google.com/search?q=annual+report+UBISOFT+format%3Apdf&btnG=Search&gbv=1&num=3\n"
          ]
        },
        {
          "output_type": "stream",
          "name": "stdout",
          "text": [
            "UBISOFT\n"
          ]
        },
        {
          "output_type": "stream",
          "name": "stderr",
          "text": [
            "2021-09-21 16:05:28,838 - magic_google - INFO: https://www.google.com/search?q=annual+report+UBS+format%3Apdf&btnG=Search&gbv=1&num=3\n"
          ]
        },
        {
          "output_type": "stream",
          "name": "stdout",
          "text": [
            "UBS\n"
          ]
        },
        {
          "output_type": "stream",
          "name": "stderr",
          "text": [
            "2021-09-21 16:05:31,528 - magic_google - INFO: https://www.google.com/search?q=annual+report+UNITED+INTERNET+format%3Apdf&btnG=Search&gbv=1&num=3\n"
          ]
        },
        {
          "output_type": "stream",
          "name": "stdout",
          "text": [
            "UNITED INTERNET\n"
          ]
        },
        {
          "output_type": "stream",
          "name": "stderr",
          "text": [
            "2021-09-21 16:05:34,241 - magic_google - INFO: https://www.google.com/search?q=annual+report+VAT+GROUP+format%3Apdf&btnG=Search&gbv=1&num=3\n"
          ]
        },
        {
          "output_type": "stream",
          "name": "stdout",
          "text": [
            "VAT GROUP\n"
          ]
        },
        {
          "output_type": "stream",
          "name": "stderr",
          "text": [
            "2021-09-21 16:05:36,832 - magic_google - INFO: https://www.google.com/search?q=annual+report+Vestas+Wind+Systems+format%3Apdf&btnG=Search&gbv=1&num=3\n"
          ]
        },
        {
          "output_type": "stream",
          "name": "stdout",
          "text": [
            "Vestas Wind Systems\n"
          ]
        },
        {
          "output_type": "stream",
          "name": "stderr",
          "text": [
            "2021-09-21 16:05:39,412 - magic_google - INFO: https://www.google.com/search?q=annual+report+VVO-YHTYMA+format%3Apdf&btnG=Search&gbv=1&num=3\n"
          ]
        },
        {
          "output_type": "stream",
          "name": "stdout",
          "text": [
            "VVO-YHTYMA\n"
          ]
        },
        {
          "output_type": "stream",
          "name": "stderr",
          "text": [
            "2021-09-21 16:05:42,115 - magic_google - INFO: https://www.google.com/search?q=annual+report+WALLENSTAM+format%3Apdf&btnG=Search&gbv=1&num=3\n"
          ]
        },
        {
          "output_type": "stream",
          "name": "stdout",
          "text": [
            "WALLENSTAM\n"
          ]
        },
        {
          "output_type": "stream",
          "name": "stderr",
          "text": [
            "2021-09-21 16:05:44,728 - magic_google - INFO: https://www.google.com/search?q=annual+report+WAREHOUSES+DE+PAUW+format%3Apdf&btnG=Search&gbv=1&num=3\n"
          ]
        },
        {
          "output_type": "stream",
          "name": "stdout",
          "text": [
            "WAREHOUSES DE PAUW\n"
          ]
        },
        {
          "output_type": "stream",
          "name": "stderr",
          "text": [
            "2021-09-21 16:05:47,289 - magic_google - INFO: https://www.google.com/search?q=annual+report+WIENERBERGER+format%3Apdf&btnG=Search&gbv=1&num=3\n"
          ]
        },
        {
          "output_type": "stream",
          "name": "stdout",
          "text": [
            "WIENERBERGER\n"
          ]
        },
        {
          "output_type": "stream",
          "name": "stderr",
          "text": [
            "2021-09-21 16:05:49,899 - magic_google - INFO: https://www.google.com/search?q=annual+report+Wizz+Air+Holdings+format%3Apdf&btnG=Search&gbv=1&num=3\n"
          ]
        },
        {
          "output_type": "stream",
          "name": "stdout",
          "text": [
            "Wizz Air Holdings\n"
          ]
        },
        {
          "output_type": "stream",
          "name": "stderr",
          "text": [
            "2021-09-21 16:05:52,801 - magic_google - INFO: https://www.google.com/search?q=annual+report+Zur+Rose+Group+format%3Apdf&btnG=Search&gbv=1&num=3\n"
          ]
        },
        {
          "output_type": "stream",
          "name": "stdout",
          "text": [
            "Zur Rose Group\n"
          ]
        }
      ]
    },
    {
      "cell_type": "code",
      "metadata": {
        "colab": {
          "base_uri": "https://localhost:8080/",
          "height": 417
        },
        "id": "GKs0w9WiMhjD",
        "outputId": "c080cc65-a966-4456-b2fc-10105ac07c12"
      },
      "source": [
        "data"
      ],
      "execution_count": 7,
      "outputs": [
        {
          "output_type": "execute_result",
          "data": {
            "text/html": [
              "<div>\n",
              "<style scoped>\n",
              "    .dataframe tbody tr th:only-of-type {\n",
              "        vertical-align: middle;\n",
              "    }\n",
              "\n",
              "    .dataframe tbody tr th {\n",
              "        vertical-align: top;\n",
              "    }\n",
              "\n",
              "    .dataframe thead th {\n",
              "        text-align: right;\n",
              "    }\n",
              "</style>\n",
              "<table border=\"1\" class=\"dataframe\">\n",
              "  <thead>\n",
              "    <tr style=\"text-align: right;\">\n",
              "      <th></th>\n",
              "      <th>Emetteur_name</th>\n",
              "      <th>Isin</th>\n",
              "      <th>url</th>\n",
              "      <th>year</th>\n",
              "    </tr>\n",
              "  </thead>\n",
              "  <tbody>\n",
              "    <tr>\n",
              "      <th>0</th>\n",
              "      <td>AARHUSKARLSHAMN</td>\n",
              "      <td>SE0011337708</td>\n",
              "      <td>https://www.aak.com/siteassets/investors/annua...</td>\n",
              "      <td>[2019]</td>\n",
              "    </tr>\n",
              "    <tr>\n",
              "      <th>1</th>\n",
              "      <td>ACCOR</td>\n",
              "      <td>FR0000120404</td>\n",
              "      <td>https://group.accor.com/-/media/Corporate/Inve...</td>\n",
              "      <td>[]</td>\n",
              "    </tr>\n",
              "    <tr>\n",
              "      <th>2</th>\n",
              "      <td>ACKERMANS VAN HAAREN</td>\n",
              "      <td>BE0003764785</td>\n",
              "      <td>https://www.avh.be/sites/avh/files/2021-03/ann...</td>\n",
              "      <td>[2020]</td>\n",
              "    </tr>\n",
              "    <tr>\n",
              "      <th>3</th>\n",
              "      <td>ACKERMANS VAN HAAREN</td>\n",
              "      <td>BE0003764785</td>\n",
              "      <td>https://www.avh.be/sites/avh/files/17-3865_jaa...</td>\n",
              "      <td>[2017]</td>\n",
              "    </tr>\n",
              "    <tr>\n",
              "      <th>4</th>\n",
              "      <td>AddLife</td>\n",
              "      <td>SE0014401378</td>\n",
              "      <td>https://www.annualreports.com/HostedData/Annua...</td>\n",
              "      <td>[2018]</td>\n",
              "    </tr>\n",
              "    <tr>\n",
              "      <th>...</th>\n",
              "      <td>...</td>\n",
              "      <td>...</td>\n",
              "      <td>...</td>\n",
              "      <td>...</td>\n",
              "    </tr>\n",
              "    <tr>\n",
              "      <th>300</th>\n",
              "      <td>WIENERBERGER</td>\n",
              "      <td>AT0000831706</td>\n",
              "      <td>https://www.wienerberger.com/content/dam/corp/...</td>\n",
              "      <td>[]</td>\n",
              "    </tr>\n",
              "    <tr>\n",
              "      <th>301</th>\n",
              "      <td>WIENERBERGER</td>\n",
              "      <td>AT0000831706</td>\n",
              "      <td>https://www.wienerberger.com/content/dam/corp/...</td>\n",
              "      <td>[]</td>\n",
              "    </tr>\n",
              "    <tr>\n",
              "      <th>302</th>\n",
              "      <td>Wizz Air Holdings</td>\n",
              "      <td>JE00BN574F90</td>\n",
              "      <td>https://wizzair.com/static/docs/default-source...</td>\n",
              "      <td>[2021]</td>\n",
              "    </tr>\n",
              "    <tr>\n",
              "      <th>303</th>\n",
              "      <td>Wizz Air Holdings</td>\n",
              "      <td>JE00BN574F90</td>\n",
              "      <td>https://wizzair.com/static/docs/default-source...</td>\n",
              "      <td>[2020]</td>\n",
              "    </tr>\n",
              "    <tr>\n",
              "      <th>304</th>\n",
              "      <td>Zur Rose Group</td>\n",
              "      <td>CH0042615283</td>\n",
              "      <td>https://gb.zurrosegroup.com/fileadmin/user_upl...</td>\n",
              "      <td>[]</td>\n",
              "    </tr>\n",
              "  </tbody>\n",
              "</table>\n",
              "<p>305 rows × 4 columns</p>\n",
              "</div>"
            ],
            "text/plain": [
              "            Emetteur_name  ...    year\n",
              "0         AARHUSKARLSHAMN  ...  [2019]\n",
              "1                   ACCOR  ...      []\n",
              "2    ACKERMANS VAN HAAREN  ...  [2020]\n",
              "3    ACKERMANS VAN HAAREN  ...  [2017]\n",
              "4                 AddLife  ...  [2018]\n",
              "..                    ...  ...     ...\n",
              "300          WIENERBERGER  ...      []\n",
              "301          WIENERBERGER  ...      []\n",
              "302     Wizz Air Holdings  ...  [2021]\n",
              "303     Wizz Air Holdings  ...  [2020]\n",
              "304        Zur Rose Group  ...      []\n",
              "\n",
              "[305 rows x 4 columns]"
            ]
          },
          "metadata": {},
          "execution_count": 7
        }
      ]
    },
    {
      "cell_type": "code",
      "metadata": {
        "id": "10ogwk9q5afu",
        "outputId": "669a45be-6d50-4e1b-eb92-8296f5d0f89e",
        "colab": {
          "base_uri": "https://localhost:8080/",
          "height": 417
        }
      },
      "source": [
        "data['year']=data['year'].apply(lambda x: x[0] if len(x)>0 else '')\n",
        "data"
      ],
      "execution_count": 8,
      "outputs": [
        {
          "output_type": "execute_result",
          "data": {
            "text/html": [
              "<div>\n",
              "<style scoped>\n",
              "    .dataframe tbody tr th:only-of-type {\n",
              "        vertical-align: middle;\n",
              "    }\n",
              "\n",
              "    .dataframe tbody tr th {\n",
              "        vertical-align: top;\n",
              "    }\n",
              "\n",
              "    .dataframe thead th {\n",
              "        text-align: right;\n",
              "    }\n",
              "</style>\n",
              "<table border=\"1\" class=\"dataframe\">\n",
              "  <thead>\n",
              "    <tr style=\"text-align: right;\">\n",
              "      <th></th>\n",
              "      <th>Emetteur_name</th>\n",
              "      <th>Isin</th>\n",
              "      <th>url</th>\n",
              "      <th>year</th>\n",
              "    </tr>\n",
              "  </thead>\n",
              "  <tbody>\n",
              "    <tr>\n",
              "      <th>0</th>\n",
              "      <td>AARHUSKARLSHAMN</td>\n",
              "      <td>SE0011337708</td>\n",
              "      <td>https://www.aak.com/siteassets/investors/annua...</td>\n",
              "      <td>2019</td>\n",
              "    </tr>\n",
              "    <tr>\n",
              "      <th>1</th>\n",
              "      <td>ACCOR</td>\n",
              "      <td>FR0000120404</td>\n",
              "      <td>https://group.accor.com/-/media/Corporate/Inve...</td>\n",
              "      <td></td>\n",
              "    </tr>\n",
              "    <tr>\n",
              "      <th>2</th>\n",
              "      <td>ACKERMANS VAN HAAREN</td>\n",
              "      <td>BE0003764785</td>\n",
              "      <td>https://www.avh.be/sites/avh/files/2021-03/ann...</td>\n",
              "      <td>2020</td>\n",
              "    </tr>\n",
              "    <tr>\n",
              "      <th>3</th>\n",
              "      <td>ACKERMANS VAN HAAREN</td>\n",
              "      <td>BE0003764785</td>\n",
              "      <td>https://www.avh.be/sites/avh/files/17-3865_jaa...</td>\n",
              "      <td>2017</td>\n",
              "    </tr>\n",
              "    <tr>\n",
              "      <th>4</th>\n",
              "      <td>AddLife</td>\n",
              "      <td>SE0014401378</td>\n",
              "      <td>https://www.annualreports.com/HostedData/Annua...</td>\n",
              "      <td>2018</td>\n",
              "    </tr>\n",
              "    <tr>\n",
              "      <th>...</th>\n",
              "      <td>...</td>\n",
              "      <td>...</td>\n",
              "      <td>...</td>\n",
              "      <td>...</td>\n",
              "    </tr>\n",
              "    <tr>\n",
              "      <th>300</th>\n",
              "      <td>WIENERBERGER</td>\n",
              "      <td>AT0000831706</td>\n",
              "      <td>https://www.wienerberger.com/content/dam/corp/...</td>\n",
              "      <td></td>\n",
              "    </tr>\n",
              "    <tr>\n",
              "      <th>301</th>\n",
              "      <td>WIENERBERGER</td>\n",
              "      <td>AT0000831706</td>\n",
              "      <td>https://www.wienerberger.com/content/dam/corp/...</td>\n",
              "      <td></td>\n",
              "    </tr>\n",
              "    <tr>\n",
              "      <th>302</th>\n",
              "      <td>Wizz Air Holdings</td>\n",
              "      <td>JE00BN574F90</td>\n",
              "      <td>https://wizzair.com/static/docs/default-source...</td>\n",
              "      <td>2021</td>\n",
              "    </tr>\n",
              "    <tr>\n",
              "      <th>303</th>\n",
              "      <td>Wizz Air Holdings</td>\n",
              "      <td>JE00BN574F90</td>\n",
              "      <td>https://wizzair.com/static/docs/default-source...</td>\n",
              "      <td>2020</td>\n",
              "    </tr>\n",
              "    <tr>\n",
              "      <th>304</th>\n",
              "      <td>Zur Rose Group</td>\n",
              "      <td>CH0042615283</td>\n",
              "      <td>https://gb.zurrosegroup.com/fileadmin/user_upl...</td>\n",
              "      <td></td>\n",
              "    </tr>\n",
              "  </tbody>\n",
              "</table>\n",
              "<p>305 rows × 4 columns</p>\n",
              "</div>"
            ],
            "text/plain": [
              "            Emetteur_name  ...  year\n",
              "0         AARHUSKARLSHAMN  ...  2019\n",
              "1                   ACCOR  ...      \n",
              "2    ACKERMANS VAN HAAREN  ...  2020\n",
              "3    ACKERMANS VAN HAAREN  ...  2017\n",
              "4                 AddLife  ...  2018\n",
              "..                    ...  ...   ...\n",
              "300          WIENERBERGER  ...      \n",
              "301          WIENERBERGER  ...      \n",
              "302     Wizz Air Holdings  ...  2021\n",
              "303     Wizz Air Holdings  ...  2020\n",
              "304        Zur Rose Group  ...      \n",
              "\n",
              "[305 rows x 4 columns]"
            ]
          },
          "metadata": {},
          "execution_count": 8
        }
      ]
    },
    {
      "cell_type": "code",
      "metadata": {
        "id": "HuMPiEDp5c4M"
      },
      "source": [
        "data.to_csv('Google_AnnualReport_result2.csv', index=False)"
      ],
      "execution_count": 9,
      "outputs": []
    },
    {
      "cell_type": "code",
      "metadata": {
        "id": "87vhYpzuN2d1"
      },
      "source": [
        "for i in data.index:\n",
        "  if data.year[i]=='' and re.findall('[-_](20\\d{2})',data.url[i]):\n",
        "    data.loc[i,'year'] = re.findall('[-_](20\\d{2})',data.url[i])[0]\n",
        "    print(data.loc[i,'year'])\n"
      ],
      "execution_count": null,
      "outputs": []
    },
    {
      "cell_type": "code",
      "metadata": {
        "colab": {
          "base_uri": "https://localhost:8080/",
          "height": 203
        },
        "id": "r4nQW2KkOGvn",
        "outputId": "f4babfa9-80cf-4a2f-c446-78c87d1a365c"
      },
      "source": [
        "data = pd.read_csv('Google_AR_Result.csv', sep=';')\n",
        "data.head()"
      ],
      "execution_count": null,
      "outputs": [
        {
          "output_type": "execute_result",
          "data": {
            "text/html": [
              "<div>\n",
              "<style scoped>\n",
              "    .dataframe tbody tr th:only-of-type {\n",
              "        vertical-align: middle;\n",
              "    }\n",
              "\n",
              "    .dataframe tbody tr th {\n",
              "        vertical-align: top;\n",
              "    }\n",
              "\n",
              "    .dataframe thead th {\n",
              "        text-align: right;\n",
              "    }\n",
              "</style>\n",
              "<table border=\"1\" class=\"dataframe\">\n",
              "  <thead>\n",
              "    <tr style=\"text-align: right;\">\n",
              "      <th></th>\n",
              "      <th>Emetteur_name</th>\n",
              "      <th>Isin</th>\n",
              "      <th>url</th>\n",
              "      <th>year</th>\n",
              "    </tr>\n",
              "  </thead>\n",
              "  <tbody>\n",
              "    <tr>\n",
              "      <th>0</th>\n",
              "      <td>3I GROUP</td>\n",
              "      <td>GB00B1YW4409</td>\n",
              "      <td>https://www.3i.com/media/5214/3i_group_ar_2021...</td>\n",
              "      <td>2021.0</td>\n",
              "    </tr>\n",
              "    <tr>\n",
              "      <th>1</th>\n",
              "      <td>3I GROUP</td>\n",
              "      <td>GB00B1YW4409</td>\n",
              "      <td>https://www.3i.com/media/4659/3i_group_ar_2020...</td>\n",
              "      <td>2020.0</td>\n",
              "    </tr>\n",
              "    <tr>\n",
              "      <th>2</th>\n",
              "      <td>3I GROUP</td>\n",
              "      <td>GB00B1YW4409</td>\n",
              "      <td>https://www.3i.com/media/4106/3i-group_2019_fi...</td>\n",
              "      <td>2019.0</td>\n",
              "    </tr>\n",
              "    <tr>\n",
              "      <th>3</th>\n",
              "      <td>3I GROUP</td>\n",
              "      <td>GB00B1YW4409</td>\n",
              "      <td>http://www.annualreports.com/HostedData/Annual...</td>\n",
              "      <td>2016.0</td>\n",
              "    </tr>\n",
              "    <tr>\n",
              "      <th>4</th>\n",
              "      <td>AARHUSKARLSHAMN</td>\n",
              "      <td>SE0011337708</td>\n",
              "      <td>https://www.aak.com/siteassets/investors/annua...</td>\n",
              "      <td>2019.0</td>\n",
              "    </tr>\n",
              "  </tbody>\n",
              "</table>\n",
              "</div>"
            ],
            "text/plain": [
              "     Emetteur_name  ...    year\n",
              "0         3I GROUP  ...  2021.0\n",
              "1         3I GROUP  ...  2020.0\n",
              "2         3I GROUP  ...  2019.0\n",
              "3         3I GROUP  ...  2016.0\n",
              "4  AARHUSKARLSHAMN  ...  2019.0\n",
              "\n",
              "[5 rows x 4 columns]"
            ]
          },
          "metadata": {},
          "execution_count": 33
        }
      ]
    },
    {
      "cell_type": "code",
      "metadata": {
        "id": "fnel1dPuczuS"
      },
      "source": [
        "import urllib.request"
      ],
      "execution_count": 14,
      "outputs": []
    },
    {
      "cell_type": "code",
      "metadata": {
        "colab": {
          "base_uri": "https://localhost:8080/",
          "height": 203
        },
        "id": "vmbnyZwPdQCG",
        "outputId": "3701c11a-6a1d-475c-e38f-862126df8e72"
      },
      "source": [
        "data=data.sort_values(['Emetteur_name','year'], ascending=[True,False])\n",
        "data['Export']=None\n",
        "data.head()"
      ],
      "execution_count": 11,
      "outputs": [
        {
          "output_type": "execute_result",
          "data": {
            "text/html": [
              "<div>\n",
              "<style scoped>\n",
              "    .dataframe tbody tr th:only-of-type {\n",
              "        vertical-align: middle;\n",
              "    }\n",
              "\n",
              "    .dataframe tbody tr th {\n",
              "        vertical-align: top;\n",
              "    }\n",
              "\n",
              "    .dataframe thead th {\n",
              "        text-align: right;\n",
              "    }\n",
              "</style>\n",
              "<table border=\"1\" class=\"dataframe\">\n",
              "  <thead>\n",
              "    <tr style=\"text-align: right;\">\n",
              "      <th></th>\n",
              "      <th>Emetteur_name</th>\n",
              "      <th>Isin</th>\n",
              "      <th>url</th>\n",
              "      <th>year</th>\n",
              "      <th>Export</th>\n",
              "    </tr>\n",
              "  </thead>\n",
              "  <tbody>\n",
              "    <tr>\n",
              "      <th>0</th>\n",
              "      <td>AARHUSKARLSHAMN</td>\n",
              "      <td>SE0011337708</td>\n",
              "      <td>https://www.aak.com/siteassets/investors/annua...</td>\n",
              "      <td>2019</td>\n",
              "      <td>None</td>\n",
              "    </tr>\n",
              "    <tr>\n",
              "      <th>1</th>\n",
              "      <td>ACCOR</td>\n",
              "      <td>FR0000120404</td>\n",
              "      <td>https://group.accor.com/-/media/Corporate/Inve...</td>\n",
              "      <td></td>\n",
              "      <td>None</td>\n",
              "    </tr>\n",
              "    <tr>\n",
              "      <th>2</th>\n",
              "      <td>ACKERMANS VAN HAAREN</td>\n",
              "      <td>BE0003764785</td>\n",
              "      <td>https://www.avh.be/sites/avh/files/2021-03/ann...</td>\n",
              "      <td>2020</td>\n",
              "      <td>None</td>\n",
              "    </tr>\n",
              "    <tr>\n",
              "      <th>3</th>\n",
              "      <td>ACKERMANS VAN HAAREN</td>\n",
              "      <td>BE0003764785</td>\n",
              "      <td>https://www.avh.be/sites/avh/files/17-3865_jaa...</td>\n",
              "      <td>2017</td>\n",
              "      <td>None</td>\n",
              "    </tr>\n",
              "    <tr>\n",
              "      <th>7</th>\n",
              "      <td>ADDTECH</td>\n",
              "      <td>SE0014781795</td>\n",
              "      <td>https://www.annualreports.com/HostedData/Annua...</td>\n",
              "      <td>2016</td>\n",
              "      <td>None</td>\n",
              "    </tr>\n",
              "  </tbody>\n",
              "</table>\n",
              "</div>"
            ],
            "text/plain": [
              "          Emetteur_name          Isin  ...  year Export\n",
              "0       AARHUSKARLSHAMN  SE0011337708  ...  2019   None\n",
              "1                 ACCOR  FR0000120404  ...         None\n",
              "2  ACKERMANS VAN HAAREN  BE0003764785  ...  2020   None\n",
              "3  ACKERMANS VAN HAAREN  BE0003764785  ...  2017   None\n",
              "7               ADDTECH  SE0014781795  ...  2016   None\n",
              "\n",
              "[5 rows x 5 columns]"
            ]
          },
          "metadata": {},
          "execution_count": 11
        }
      ]
    },
    {
      "cell_type": "code",
      "metadata": {
        "id": "fNGp9LCpdsUU",
        "colab": {
          "base_uri": "https://localhost:8080/"
        },
        "outputId": "224d4f63-70b6-4ee0-bd51-00777dee6234"
      },
      "source": [
        "for name in data.Emetteur_name.unique():\n",
        "  year = data[data.Emetteur_name==name]['year'].iloc[0]\n",
        "  i = data[data.Emetteur_name==name][data.year==year].index\n",
        "  if (year=='' or int(year) > 2019) and data.loc[i,'Export'].values[0]!=True:\n",
        "    url = data[data.Emetteur_name==name]['url'][i].values[0]\n",
        "    isin = data[data.Emetteur_name==name]['Isin'][i].values[0]\n",
        "    if year=='':\n",
        "      year = '0000'\n",
        "    path = \"pdf/{}_{}.pdf\".format(isin,str(int(year)))\n",
        "    try:\n",
        "      urllib.request.urlretrieve(url, path)\n",
        "      data.loc[i,'Export']=True\n",
        "    except:\n",
        "      print(name, url)\n",
        "      pass"
      ],
      "execution_count": 17,
      "outputs": [
        {
          "output_type": "stream",
          "name": "stderr",
          "text": [
            "/usr/local/lib/python3.7/dist-packages/ipykernel_launcher.py:3: UserWarning: Boolean Series key will be reindexed to match DataFrame index.\n",
            "  This is separate from the ipykernel package so we can avoid doing imports until\n"
          ]
        },
        {
          "output_type": "stream",
          "name": "stdout",
          "text": [
            "ACCOR https://group.accor.com/-/media/Corporate/Investors/Documents-de-reference/2020_Integrated_report_def.pdf\n",
            "ACKERMANS VAN HAAREN https://www.avh.be/sites/avh/files/2021-03/annual-report/avh-annual-report-2020-en.pdf\n",
            "ADMIRAL https://admiralgroup.co.uk/sites/default/files_public/annual-report/2020/03/2019-full-year-results-annual-report.pdf\n",
            "ADYEN https://www.adyen.com/dam/jcr:c3ba7caf-5ec7-4f1f-a6f5-8da59f1db1b4/Annual%2520Report%25202020.pdf\n",
            "AEGON https://www.aegon.com/contentassets/88a9aa9e0e484dec9791c3bb5945512b/aegon-integrated-annual-report-2020.pdf\n",
            "AGEAS https://reporting2020.ageas.com/Annual_Report_2020_EN.pdf\n",
            "ALLREAL HOLDING https://reporting.allreal.ch/fileadmin/user_upload/redakteure/GB2020/PDF/EN/Allreal-Kompletter-Geschaeftsbericht-2020-EN.pdf\n",
            "AMBU https://www.ambu.com/Admin/Public/DWSDownload.aspx?File=Files%2FFiles%2FAmbu%2FFinancial+Reports%2F2019-2020%2FQ4_Annual_Report_2019_20.pdf\n",
            "AMPLIFON https://corporate.amplifon.com/content/dam/amplifon/archive/en/investors/financial-reports/2021/Annual-Report-2020-final-eng.pdf\n",
            "ANDRITZ https://www.andritz.com/resource/blob/405592/c1ad6ae76c8654dc0dfd6f160ba14ab3/andritz-annual-report-2020-data.pdf\n",
            "AP MOLLER https://apmoller.com/wp-content/uploads/2021/03/APMH-Annual-Report-2020.pdf\n",
            "ASHMORE http://www.ashmoregroup.com/sites/default/files/reports/Ashmore_2020_online_Annual_Report.pdf\n",
            "ASHTEAD https://www.ashtead-group.com/files/downloads/reports/Ashtead_Group_plc_Annual_Report_and_Accounts_2021.pdf\n",
            "AVAST https://investors.avast.com/media/1401/annual-report-2020.pdf\n",
            "AXA https://www-axa-com.cdn.axa-contento-118412.eu/www-axa-com/9c7ee270-9a34-459c-8d5a-3328e2c22d98_axa_pr_ddr_20210322.pdf\n",
            "Auto1 Group https://ir.auto1-group.com/download/companies/57876a/Annual%20Reports/FULL_AUTO1_Group_Annual_Report_EN.pdf\n",
            "Avanza Bank https://investors.avanza.se/files/mfn/99151806-0dd9-4191-b60f-035a4d4fd9ea/avanza-bank-holding-ab-publ-preliminary-financial-statement-2020.pdf\n",
            "BAWAG https://www.bawaggroup.com/linkableblob/BAWAGGROUP/521368/7ad26cb2120032fecd93579ccf3f435a/full-year-financial-report-2020-data.pdf\n",
            "BECHTLE https://www.bechtle.com/dam/jcr:69e53f1d-4c01-4666-b129-0b4fe9419739/bechtle-annual-report-2020.pdf\n",
            "BHP https://www.bhp.com/-/media/documents/investors/annual-reports/2020/200915_bhpannualreport2020.pdf\n",
            "COMPASS https://www.compass-group.com/content/dam/compass-group/corporate/Investors/Annual-reports/CompassGroupPLC_AnnualReport2020_FINAL.pdf\n",
            "DELIVERY HERO https://ir.deliveryhero.com/download/companies/delivery/Annual%20Reports/DE000A2E4K43-JA-2020-EQ-E-00.pdf\n",
            "Deliveroo https://dealroom.co/uploaded/2021/04/Deliveroo-IPO-10-March-2021.pdf\n",
            "EMS-CHEMIE https://www.ems-group.com/fileadmin/ems-gruppe/documents/GB/GB_EN_2021.pdf\n",
            "ESSILORLUXOTTICA https://www.essilorluxottica.com/sites/default/files/documents/2020-07/2020_Interim%20Financial%20Report_EssilorLuxottica.pdf\n",
            "Future PLC https://investor.futureplc.com/wp-content/uploads/2020/12/AR2020-FINAL.pdf\n",
            "GAMES WORKSHOP GROUP https://investor.games-workshop.com/wp-content/uploads/2020/07/2019-20-Annual-Report-FINAL-with-cover.pdf\n",
            "GRAND CITY PROPERTIES https://www.grandcityproperties.com/fileadmin/user_upload/04_sustainability/Reports/GCP_Non-Financial_Report_2020_final.pdf\n",
            "Grafton https://www.graftonplc.com/media/53adeqyy/grafton-annual-report-2020-final.pdf\n",
            "IMCD https://www.imcdgroup.com/-/media/imcd/imcd-group/investors/reports-and-presentations/company-reports/2020/imcd-annual-report-2020-online.pdf\n",
            "INDUTRADE https://www.indutrade.com/globalassets/press-kit/annual-reports-eng/eng_indutrade_ar-210319.pdf\n",
            "MEGGITT https://www.meggitt.com/wp-content/uploads/2021/03/Meggitt-AR-2020-Web-PDF.pdf\n",
            "NORDEA BANK https://www.nordea.com/en/doc/annual-report-nordea-direct-2020.pdf\n",
            "Nibe Industrier https://www.nibe.com/download/18.3654164317826b42b9a2772/1617977219971/GB-AR-2020-WB.pdf\n",
            "POLSKI KONCERN NAFTOWY ORLEN https://www.sec.gov/Archives/edgar/vprr/0500/05007452.pdf\n",
            "PROSUS https://www.prosusreport2020.com/ui/pdfs/prosus2020_annual_report.pdf\n",
            "QIAGEN https://corporate.qiagen.com/files/doc_downloads/other_reports/2020-IFRS-Annual-Report.pdf\n",
            "ROCHE HOLDING https://www.roche.com/dam/jcr:a88d5ba3-cfbd-46c7-977c-be01db67f116/en/RHI_Annual_Report_2020.pdf\n",
            "SECURITAS AB https://securitasmedia.com/securitas-epi/_2020%20Annual%20Report.pdf\n",
            "SES SA https://www.ses.com/sites/default/files/2021-03/210322_SES-AR2020_final.pdf\n",
            "SVENSKA CELLULOSA AB https://www.sca.com/globalassets/sca-engelska/investors/annual-reports/sca_2020_eng.pdf\n",
            "Softcat https://www.softcat.com/3416/1417/4247/Softcat_plc_Annual_Report_and_Accounts_2020.pdf\n",
            "TEMENOS GROUP https://www.temenos.com/wp-content/uploads/2020/03/2019-Annual-Report-2020-mar-25.pdf\n"
          ]
        }
      ]
    },
    {
      "cell_type": "code",
      "metadata": {
        "id": "PX5fnTR-iGd8"
      },
      "source": [
        "data.to_csv('Google_AR_Result2.csv', index=False)"
      ],
      "execution_count": 18,
      "outputs": []
    },
    {
      "cell_type": "code",
      "metadata": {
        "colab": {
          "base_uri": "https://localhost:8080/"
        },
        "id": "NF4JnFTzijwT",
        "outputId": "42903629-d39a-495f-a7cd-7914ce514855"
      },
      "source": [
        "!zip -r /content/pdf2.zip /content/pdf"
      ],
      "execution_count": 19,
      "outputs": [
        {
          "output_type": "stream",
          "name": "stdout",
          "text": [
            "  adding: content/pdf/ (stored 0%)\n",
            "  adding: content/pdf/GB0007980591_2020.pdf (deflated 14%)\n",
            "  adding: content/pdf/SE0015812219_0.pdf (deflated 35%)\n",
            "  adding: content/pdf/FR0000054470_0.pdf (deflated 2%)\n",
            "  adding: content/pdf/GB00B3MBS747_0.pdf (deflated 11%)\n",
            "  adding: content/pdf/CH0008038389_2020.pdf (deflated 13%)\n",
            "  adding: content/pdf/GB00BL6NGV24_2021.pdf (deflated 4%)\n",
            "  adding: content/pdf/IE00BWT6H894_2020.pdf (deflated 13%)\n",
            "  adding: content/pdf/SE0015949201_0.pdf (deflated 34%)\n",
            "  adding: content/pdf/DE000A161408_2020.pdf (deflated 13%)\n",
            "  adding: content/pdf/IT0000062957_2020.pdf (deflated 3%)\n",
            "  adding: content/pdf/PLDINPL00011_2020.pdf (deflated 20%)\n",
            "  adding: content/pdf/FR0013154002_2020.pdf (deflated 1%)\n",
            "  adding: content/pdf/AT0000831706_0.pdf (deflated 23%)\n",
            "  adding: content/pdf/GB00BKFB1C65_0.pdf (deflated 25%)\n",
            "  adding: content/pdf/CH0002178181_0.pdf (deflated 18%)\n",
            "  adding: content/pdf/NL00150001Q9_2020.pdf (deflated 32%)\n",
            "  adding: content/pdf/NO0010081235_0.pdf (deflated 19%)\n",
            "  adding: content/pdf/IT0003492391_2020.pdf (deflated 5%)\n",
            "  adding: content/pdf/SE0001174970_0.pdf (deflated 21%)\n",
            "  adding: content/pdf/NL0000008977_2020.pdf (deflated 38%)\n",
            "  adding: content/pdf/SE0015961909_2020.pdf (deflated 25%)\n",
            "  adding: content/pdf/SE0015658109_2020.pdf (deflated 7%)\n",
            "  adding: content/pdf/SE0005127818_0.pdf (deflated 31%)\n",
            "  adding: content/pdf/SE0000108227_0.pdf (deflated 38%)\n",
            "  adding: content/pdf/NO0010161896_2020.pdf (deflated 2%)\n",
            "  adding: content/pdf/GB00BFZZM640_2020.pdf (deflated 26%)\n",
            "  adding: content/pdf/IT0001078911_0.pdf (deflated 10%)\n",
            "  adding: content/pdf/GB0002074580_0.pdf (deflated 38%)\n",
            "  adding: content/pdf/DE0005785802_2020.pdf (deflated 3%)\n",
            "  adding: content/pdf/CH0042615283_0.pdf (deflated 11%)\n",
            "  adding: content/pdf/SE0007074844_2020.pdf (deflated 1%)\n",
            "  adding: content/pdf/SE0015949748_0.pdf (deflated 29%)\n",
            "  adding: content/pdf/FR0000133308_2020.pdf (deflated 17%)\n",
            "  adding: content/pdf/DE000PAH0038_0.pdf (deflated 6%)\n",
            "  adding: content/pdf/FR0013269123_2020.pdf (deflated 5%)\n",
            "  adding: content/pdf/JE00BN574F90_2021.pdf (deflated 8%)\n",
            "  adding: content/pdf/IT0003828271_2020.pdf (deflated 12%)\n",
            "  adding: content/pdf/IT0005366767_0.pdf (deflated 8%)\n",
            "  adding: content/pdf/SE0012116390_0.pdf (deflated 8%)\n",
            "  adding: content/pdf/SE0000190126_0.pdf (deflated 52%)\n",
            "  adding: content/pdf/DK0061539921_0.pdf (deflated 17%)\n",
            "  adding: content/pdf/CH1101098163_2020.pdf (deflated 24%)\n",
            "  adding: content/pdf/FR0014000MR3_2020.pdf (deflated 21%)\n",
            "  adding: content/pdf/NL0012059018_2020.pdf (deflated 2%)\n",
            "  adding: content/pdf/IT0000072170_2020.pdf (deflated 10%)\n",
            "  adding: content/pdf/CH0024608827_2020.pdf (deflated 36%)\n",
            "  adding: content/pdf/SE0007691613_0.pdf (deflated 27%)\n",
            "  adding: content/pdf/FR0000130403_2020.pdf (deflated 4%)\n",
            "  adding: content/pdf/DE0007165631_2020.pdf (deflated 1%)\n",
            "  adding: content/pdf/DE0005664809_0.pdf (deflated 8%)\n",
            "  adding: content/pdf/BE0974349814_0.pdf (deflated 7%)\n",
            "  adding: content/pdf/GB00BYRJ5J14_2020.pdf (deflated 7%)\n",
            "  adding: content/pdf/NL0014332678_2020.pdf (deflated 18%)\n",
            "  adding: content/pdf/SE0000112724_2020.pdf (deflated 35%)\n",
            "  adding: content/pdf/DE0005785604_2020.pdf (deflated 3%)\n",
            "  adding: content/pdf/DK0010272632_2020.pdf (deflated 5%)\n",
            "  adding: content/pdf/DE0006452907_2020.pdf (deflated 35%)\n",
            "  adding: content/pdf/JE00BJVNSS43_2020.pdf (deflated 35%)\n",
            "  adding: content/pdf/SE0010100958_0.pdf (deflated 30%)\n",
            "  adding: content/pdf/PLPKO0000016_0.pdf (deflated 10%)\n",
            "  adding: content/pdf/SE0015810247_2020.pdf (deflated 4%)\n",
            "  adding: content/pdf/CH0210483332_2021.pdf (deflated 8%)\n",
            "  adding: content/pdf/LU2290522684_2020.pdf (deflated 35%)\n",
            "  adding: content/pdf/GB00B63H8491_0.pdf (deflated 22%)\n",
            "  adding: content/pdf/FR0000051807_2020.pdf (deflated 42%)\n",
            "  adding: content/pdf/SE0000455057_2020.pdf (deflated 36%)\n",
            "  adding: content/pdf/CH0363463438_2020.pdf (deflated 56%)\n",
            "  adding: content/pdf/GB00B4WFW713_2020.pdf (deflated 18%)\n"
          ]
        }
      ]
    },
    {
      "cell_type": "code",
      "metadata": {
        "id": "16cG6heokESZ"
      },
      "source": [
        ""
      ],
      "execution_count": null,
      "outputs": []
    }
  ]
}