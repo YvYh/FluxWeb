{
  "nbformat": 4,
  "nbformat_minor": 0,
  "metadata": {
    "colab": {
      "name": "Getting started with BigQuery",
      "provenance": [],
      "collapsed_sections": [],
      "include_colab_link": true
    },
    "kernelspec": {
      "display_name": "Python 3",
      "name": "python3"
    }
  },
  "cells": [
    {
      "cell_type": "markdown",
      "metadata": {
        "id": "view-in-github",
        "colab_type": "text"
      },
      "source": [
        "<a href=\"https://colab.research.google.com/github/YvYh/FluxWeb/blob/main/Test%20Crawler.ipynb\" target=\"_parent\"><img src=\"https://colab.research.google.com/assets/colab-badge.svg\" alt=\"Open In Colab\"/></a>"
      ]
    },
    {
      "cell_type": "code",
      "metadata": {
        "id": "qt9LfrMejZ6d"
      },
      "source": [
        "from bs4 import BeautifulSoup\n",
        "import pandas as pd\n",
        "from urllib.request import urlopen,Request"
      ],
      "execution_count": 10,
      "outputs": []
    },
    {
      "cell_type": "code",
      "metadata": {
        "id": "jedFlAoKj59R"
      },
      "source": [
        "emetteur='Belimo'\n",
        "mot='ghg'\n",
        "key=emetteur+'+'+mot"
      ],
      "execution_count": 11,
      "outputs": []
    },
    {
      "cell_type": "code",
      "metadata": {
        "id": "UTD8-3z4R95x",
        "outputId": "037ab148-e42a-43bc-cac8-83481b527c0c",
        "colab": {
          "base_uri": "https://localhost:8080/",
          "height": 35
        }
      },
      "source": [
        "url = \"https://www.google.com/search?q=\"+key\n",
        "url"
      ],
      "execution_count": 12,
      "outputs": [
        {
          "output_type": "execute_result",
          "data": {
            "application/vnd.google.colaboratory.intrinsic+json": {
              "type": "string"
            },
            "text/plain": [
              "'https://www.google.com/search?q=Belimo+ghg'"
            ]
          },
          "metadata": {
            "tags": []
          },
          "execution_count": 12
        }
      ]
    },
    {
      "cell_type": "code",
      "metadata": {
        "id": "fr6xWk2Wjk-b"
      },
      "source": [
        "url = \"https://www.google.com/search?q=\"+key\n",
        "headers = {'User-Agent': 'Mozilla/5.0 (Windows NT 6.1) AppleWebKit/537.36 (KHTML, like Gecko) Chrome/41.0.2228.0 Safari/537.3'}\n",
        "req = Request(url=url, headers=headers) \n",
        "html = urlopen(req).read().decode('utf-8')\n",
        "site = BeautifulSoup(html,\"html\")"
      ],
      "execution_count": 11,
      "outputs": []
    },
    {
      "cell_type": "code",
      "metadata": {
        "colab": {
          "base_uri": "https://localhost:8080/",
          "height": 195
        },
        "id": "wWEQlfhOkD96",
        "outputId": "36f7e1f0-b05e-4ef6-96ab-ec95c63fab50"
      },
      "source": [
        "result = site.find('div', id='search')\n",
        "for bloc in result.find_all('span'):\n",
        "  print(' '.joint(bloc.strings))"
      ],
      "execution_count": 12,
      "outputs": [
        {
          "output_type": "error",
          "ename": "AttributeError",
          "evalue": "ignored",
          "traceback": [
            "\u001b[0;31m---------------------------------------------------------------------------\u001b[0m",
            "\u001b[0;31mAttributeError\u001b[0m                            Traceback (most recent call last)",
            "\u001b[0;32m<ipython-input-12-b877ccf2af30>\u001b[0m in \u001b[0;36m<module>\u001b[0;34m()\u001b[0m\n\u001b[1;32m      1\u001b[0m \u001b[0mresult\u001b[0m \u001b[0;34m=\u001b[0m \u001b[0msite\u001b[0m\u001b[0;34m.\u001b[0m\u001b[0mfind\u001b[0m\u001b[0;34m(\u001b[0m\u001b[0;34m'div'\u001b[0m\u001b[0;34m,\u001b[0m \u001b[0mid\u001b[0m\u001b[0;34m=\u001b[0m\u001b[0;34m'search'\u001b[0m\u001b[0;34m)\u001b[0m\u001b[0;34m\u001b[0m\u001b[0;34m\u001b[0m\u001b[0m\n\u001b[0;32m----> 2\u001b[0;31m \u001b[0;32mfor\u001b[0m \u001b[0mbloc\u001b[0m \u001b[0;32min\u001b[0m \u001b[0mresult\u001b[0m\u001b[0;34m.\u001b[0m\u001b[0mfind_all\u001b[0m\u001b[0;34m(\u001b[0m\u001b[0;34m'span'\u001b[0m\u001b[0;34m)\u001b[0m\u001b[0;34m:\u001b[0m\u001b[0;34m\u001b[0m\u001b[0;34m\u001b[0m\u001b[0m\n\u001b[0m\u001b[1;32m      3\u001b[0m   \u001b[0mprint\u001b[0m\u001b[0;34m(\u001b[0m\u001b[0;34m' '\u001b[0m\u001b[0;34m.\u001b[0m\u001b[0mjoint\u001b[0m\u001b[0;34m(\u001b[0m\u001b[0mbloc\u001b[0m\u001b[0;34m.\u001b[0m\u001b[0mstrings\u001b[0m\u001b[0;34m)\u001b[0m\u001b[0;34m)\u001b[0m\u001b[0;34m\u001b[0m\u001b[0;34m\u001b[0m\u001b[0m\n",
            "\u001b[0;31mAttributeError\u001b[0m: 'NoneType' object has no attribute 'find_all'"
          ]
        }
      ]
    },
    {
      "cell_type": "code",
      "metadata": {
        "colab": {
          "base_uri": "https://localhost:8080/"
        },
        "id": "y5BAVtdflrR-",
        "outputId": "4bc6dec9-fa08-4d98-a6b1-48dc8730f84e"
      },
      "source": [
        "site = BeautifulSoup(html,\"lxml\")\n",
        "site"
      ],
      "execution_count": 16,
      "outputs": [
        {
          "output_type": "execute_result",
          "data": {
            "text/plain": [
              "<!DOCTYPE html>\n",
              "<html lang=\"en\"><head><meta charset=\"utf-8\"/><meta content=\"origin\" name=\"referrer\"/><meta content=\"/images/branding/googleg/1x/googleg_standard_color_128dp.png\" itemprop=\"image\"/><title>Belimo ghg - Google Search</title><script nonce=\"Yt1U/LIJ5Mabu+bzvxjS2g==\">(function(){\n",
              "document.documentElement.addEventListener(\"submit\",function(b){var a;if(a=b.target){var c=a.getAttribute(\"data-submitfalse\");a=\"1\"==c||\"q\"==c&&!a.elements.q.value?!0:!1}else a=!1;a&&(b.preventDefault(),b.stopPropagation())},!0);document.documentElement.addEventListener(\"click\",function(b){var a;a:{for(a=b.target;a&&a!=document.documentElement;a=a.parentElement)if(\"A\"==a.tagName){a=\"1\"==a.getAttribute(\"data-nohref\");break a}a=!1}a&&b.preventDefault()},!0);}).call(this);(function(){\n",
              "var a=window.performance;window.start=Date.now();a:{var b=window;if(a){var c=a.timing;if(c){var d=c.navigationStart,f=c.responseStart;if(f>d&&f<=window.start){window.start=f;b.wsrt=f-d;break a}}a.now&&(b.wsrt=Math.floor(a.now()))}}window.google=window.google||{};var h=function(g){g&&g.target.setAttribute(\"data-iml\",Date.now())};document.documentElement.addEventListener(\"load\",h,!0);google.rglh=function(){document.documentElement.removeEventListener(\"load\",h,!0)};}).call(this);(function(){\n",
              "var c=[],e=0;window.ping=function(b){-1==b.indexOf(\"&zx\")&&(b+=\"&zx=\"+Date.now());var a=new Image,d=e++;c[d]=a;a.onerror=a.onload=a.onabort=function(){delete c[d]};a.src=b};}).call(this);</script><style>body{margin:0 auto;max-width:736px;padding:0 8px;}a{color:#1967D2;text-decoration:none;-webkit-tap-highlight-color:rgba(0,0,0,.10)}a:visited{color:#4B11A8}a:hover{text-decoration:underline}img{border:0}html{font-family:Roboto,Helvetica Neue,Arial,sans-serif;font-size:14px;line-height:20px;-webkit-text-size-adjust:100%;color:#3c4043;word-wrap:break-word;background-color:#fff}.bRsWnc{background-color:#fff;border-top:1px solid #dadce0;height:39px;overflow:hidden}.N6RWV{height:51px;-webkit-overflow-scrolling:touch;overflow-x:auto;overflow-y:hidden}.Uv67qb{-webkit-box-pack:justify;font-size:12px;line-height:37px;justify-content:space-between;justify-content:space-between}.Uv67qb a,.Uv67qb span{color:#70757a;display:block;flex:none;padding:0 16px;text-align:center;text-transform:uppercase;}span.OXXup{border-bottom:2px solid #4285f4;color:#4285f4;font-weight:bold}a.eZt8xd:visited{color:#70757a}.FElbsf{border-left:1px solid rgba(0,0,0,.12)}header article{overflow:visible}.Pg70bf{height:39px;display:-webkit-box;display:flex;display:flex;width:100%}.H0PQec{position:relative;flex:1}.sbc{display:flex;width:100%}.Pg70bf input{margin:2px 4px 2px 8px;}.x{width:26px;color:#70757a;font:27px/38px arial, sans-serif;line-height:40px;}#qdClwb{flex:0 0 auto;width:39px;height:39px;border-bottom:0;padding:0;border-top-right-radius:8px;background-color:#1a73e8;border:1px solid #1558d6;background-image:url('data:image/svg+xml,\\00003csvg height=\"37px\" width=\"37px\" xmlns=\"http://www.w3.org/2000/svg\">\\00003cg fill=\"none\" stroke=\"%23fff\">\\00003cellipse cx=\"16.5\" cy=\"16\" rx=\"5.4\" ry=\"5.4\" stroke-width=\"2px\">\\00003c/ellipse>\\00003cpath d=\"M22 21.3l4.3 4.3\" stroke-linecap=\"round\" stroke-width=\"2px\">\\00003c/path>\\00003c/g>\\00003c/svg>');}.sc{font-size:;position:absolute;top:39px;left:0;right:0;box-shadow:0px 2px 5px rgba(0,0,0,.2);z-index:2;background-color:#fff}.sc>div{padding:10px 10px;padding-left:16px;padding-left:14px;border-top:1px solid #dfe1e5}.scs{background-color:#f8f9fa;}.noHIxc{display:block;font-size:16px;padding:0 0 0 8px;flex:1;height:35px;outline:none;border:none;width:100%;-webkit-tap-highlight-color:rgba(0,0,0,.00);overflow:hidden;}.sbc input[type=text]{background:none}.sml .cOl4Id{display:none}.l{display:none}.l svg{margin-top:9px}.sml header{background:none}.sml .l{display:block;padding:0 8px}.bz1lBb{background:#fff;border-radius:8px 8px 0 0;box-shadow:0 1px 6px rgba(32, 33, 36, 0.18);margin-top:10px}.KP7LCb{border-radius:0 0 8px 8px;box-shadow:0 2px 3px rgba(32, 33, 36, 0.18);margin-bottom:10px;overflow:hidden}.cOl4Id{text-align:center;padding:14px 0 3px 0;height:35px}.S591j{height:100%}footer{text-align:center;margin-top:18px}footer a,footer a:visited,.smiUbb{color:#70757a}.xeDNfc{margin:0 13px}#EOlPnc{margin-top:36px}#EOlPnc>div{margin:20px}.Srfpq{color:#70757a}</style></head><body jsmodel=\"TvHxbe\"><header id=\"hdr\"><script nonce=\"Yt1U/LIJ5Mabu+bzvxjS2g==\">(function(){\n",
              "var k=this||self,l=function(){},m=function(a){var b=typeof a;return\"object\"==b&&null!=a||\"function\"==b},n=function(a,b){function c(){}c.prototype=b.prototype;a.l=b.prototype;a.prototype=new c;a.prototype.constructor=a;a.o=function(d,e,f){for(var g=Array(arguments.length-2),h=2;h<arguments.length;h++)g[h-2]=arguments[h];return b.prototype[e].apply(d,g)}};var p=Array.prototype.indexOf?function(a,b){return Array.prototype.indexOf.call(a,b,void 0)}:function(a,b){if(\"string\"===typeof a)return\"string\"!==typeof b||1!=b.length?-1:a.indexOf(b,0);for(var c=0;c<a.length;c++)if(c in a&&a[c]===b)return c;return-1};var q=function(a){return\"string\"==typeof a.className?a.className:a.getAttribute&&a.getAttribute(\"class\")||\"\"},r=function(a,b){\"string\"==typeof a.className?a.className=b:a.setAttribute&&a.setAttribute(\"class\",b)},t=function(a,b){a.classList?b=a.classList.contains(b):(a=a.classList?a.classList:q(a).match(/\\S+/g)||[],b=0<=p(a,b));return b},w=function(){var a=u,b=v;a.classList?a.classList.remove(b):t(a,b)&&r(a,Array.prototype.filter.call(a.classList?a.classList:q(a).match(/\\S+/g)||[],function(c){return c!=\n",
              "b}).join(\" \"))};var x;a:{var y=k.navigator;if(y){var z=y.userAgent;if(z){x=z;break a}}x=\"\"};var A=function(a){A[\" \"](a);return a};A[\" \"]=l;var B=-1!=x.indexOf(\"Gecko\")&&!(-1!=x.toLowerCase().indexOf(\"webkit\")&&-1==x.indexOf(\"Edge\"))&&!(-1!=x.indexOf(\"Trident\")||-1!=x.indexOf(\"MSIE\"))&&-1==x.indexOf(\"Edge\");var C=function(){if(!k.addEventListener||!Object.defineProperty)return!1;var a=!1,b=Object.defineProperty({},\"passive\",{get:function(){a=!0}});try{k.addEventListener(\"test\",l,b),k.removeEventListener(\"test\",l,b)}catch(c){}return a}();var D=function(a,b){this.type=a;this.target=b};D.prototype.g=function(){};var F=function(a){D.call(this,a?a.type:\"\");this.relatedTarget=this.target=null;this.button=this.screenY=this.screenX=this.clientY=this.clientX=0;this.key=\"\";this.keyCode=0;this.metaKey=this.shiftKey=this.altKey=this.ctrlKey=!1;this.state=null;this.pointerId=0;this.pointerType=\"\";this.h=null;if(a){var b=this.type=a.type,c=a.changedTouches&&a.changedTouches.length?a.changedTouches[0]:null;this.target=a.target||a.srcElement;var d=a.relatedTarget;if(d){if(B){a:{try{A(d.nodeName);var e=!0;break a}catch(f){}e=\n",
              "!1}e||(d=null)}}else\"mouseover\"==b?d=a.fromElement:\"mouseout\"==b&&(d=a.toElement);this.relatedTarget=d;c?(this.clientX=void 0!==c.clientX?c.clientX:c.pageX,this.clientY=void 0!==c.clientY?c.clientY:c.pageY,this.screenX=c.screenX||0,this.screenY=c.screenY||0):(this.clientX=void 0!==a.clientX?a.clientX:a.pageX,this.clientY=void 0!==a.clientY?a.clientY:a.pageY,this.screenX=a.screenX||0,this.screenY=a.screenY||0);this.button=a.button;this.keyCode=a.keyCode||0;this.key=a.key||\"\";this.ctrlKey=a.ctrlKey;this.altKey=a.altKey;this.shiftKey=a.shiftKey;this.metaKey=a.metaKey;this.pointerId=a.pointerId||0;this.pointerType=\"string\"===typeof a.pointerType?a.pointerType:E[a.pointerType]||\"\";this.state=a.state;this.h=a;a.defaultPrevented&&F.l.g.call(this)}};n(F,D);var E={2:\"touch\",3:\"pen\",4:\"mouse\"};F.prototype.g=function(){F.l.g.call(this);var a=this.h;a.preventDefault?a.preventDefault():a.returnValue=!1};var G=\"closure_listenable_\"+(1E6*Math.random()|0);var H=0;var I=function(a,b,c,d,e){this.listener=a;this.g=null;this.src=b;this.type=c;this.capture=!!d;this.i=e;this.key=++H;this.h=this.j=!1},J=function(a){a.h=!0;a.listener=null;a.g=null;a.src=null;a.i=null};var K=function(a){this.src=a;this.g={};this.h=0};K.prototype.add=function(a,b,c,d,e){var f=a.toString();a=this.g[f];a||(a=this.g[f]=[],this.h++);var g;a:{for(g=0;g<a.length;++g){var h=a[g];if(!h.h&&h.listener==b&&h.capture==!!d&&h.i==e)break a}g=-1}-1<g?(b=a[g],c||(b.j=!1)):(b=new I(b,this.src,f,!!d,e),b.j=c,a.push(b));return b};var L=\"closure_lm_\"+(1E6*Math.random()|0),M={},N=0,P=function(a,b,c,d,e){if(d&&d.once)return O(a,b,c,d,e);if(Array.isArray(b)){for(var f=0;f<b.length;f++)P(a,b[f],c,d,e);return null}c=Q(c);return a&&a[G]?a.g(b,c,m(d)?!!d.capture:!!d,e):R(a,b,c,!1,d,e)},R=function(a,b,c,d,e,f){if(!b)throw Error(\"a\");var g=m(e)?!!e.capture:!!e,h=S(a);h||(a[L]=h=new K(a));c=h.add(b,c,d,g,f);if(c.g)return c;d=T();c.g=d;d.src=a;d.listener=c;if(a.addEventListener)C||(e=g),void 0===e&&(e=!1),a.addEventListener(b.toString(),d,e);else if(a.attachEvent)a.attachEvent(U(b.toString()),d);else if(a.addListener&&a.removeListener)a.addListener(d);else throw Error(\"b\");N++;return c},T=function(){var a=V,b=function(c){return a.call(b.src,b.listener,c)};return b},O=function(a,b,c,d,e){if(Array.isArray(b)){for(var f=0;f<b.length;f++)O(a,b[f],c,d,e);return null}c=Q(c);return a&&a[G]?a.h(b,c,m(d)?!!d.capture:!!d,e):R(a,b,c,!0,d,e)},W=function(a){if(\"number\"!==typeof a&&a&&!a.h){var b=a.src;if(b&&b[G])b.i(a);else{var c=a.type,d=a.g;b.removeEventListener?b.removeEventListener(c,d,a.capture):b.detachEvent?b.detachEvent(U(c),d):b.addListener&&b.removeListener&&b.removeListener(d);N--;if(c=S(b)){d=a.type;if(d in c.g){var e=c.g[d],f=p(e,a),g;(g=0<=f)&&Array.prototype.splice.call(e,f,1);g&&(J(a),0==c.g[d].length&&(delete c.g[d],c.h--))}0==c.h&&(c.src=null,b[L]=null)}else J(a)}}},U=function(a){return a in M?M[a]:M[a]=\"on\"+a},V=function(a,b){if(a.h)a=!0;else{b=new F(b,this);var c=a.listener,d=a.i||a.src;a.j&&W(a);a=c.call(d,b)}return a},S=function(a){a=a[L];return a instanceof K?a:null},X=\"__closure_events_fn_\"+(1E9*Math.random()>>>0),Q=function(a){if(\"function\"===typeof a)return a;a[X]||(a[X]=function(b){return a.handleEvent(b)});return a[X]};var v,u=document.documentElement,Y;function aa(){W(Y);Y=O(u,\"mousedown\",function(){w();Z()},{capture:!0})}function Z(){W(Y);Y=P(u,\"keydown\",function(a){if(9===a.keyCode){a=u;var b=v;if(a.classList)a.classList.add(b);else if(!t(a,b)){var c=q(a);r(a,c+(0<c.length?\" \"+b:b))}aa()}})};v=\"zAoYTe\";Z();}).call(this);(function(){var c=500;(function(){\n",
              "window.screen&&window.screen.width<=c&&window.screen.height<=c&&document.getElementById(\"hdr\").classList.add(\"sml\");}).call(this);})();</script><div class=\"cOl4Id\"><a href=\"/?sa=X&amp;ved=0ahUKEwjrpqTAnabyAhXPQzABHeqyB6QQOwgC\"><svg aria-label=\"Google\" fill=\"none\" height=\"36\" stroke=\"#4285f4\" stroke-width=\"18\" viewbox=\"0 0 520 174\" width=\"92\"><path d=\"M69 70.4l61 0m-9 3.5a56 57 0 1 1-17-47\" stroke-width=\"19px\"></path><ellipse cx=\"179\" cy=\"90\" rx=\"33\" ry=\"34\" stroke=\"#ea4335\"></ellipse><ellipse cx=\"270\" cy=\"90\" rx=\"33\" ry=\"34\" stroke=\"#fbbc04\"></ellipse><ellipse cx=\"358\" cy=\"90\" rx=\"32\" ry=\"34\" stroke-width=\"17px\"></ellipse><path d=\"M391 49l0 73l-2 0a 22 22-30 0 1-59 24\"></path><path d=\"M423 5l0 130\" style=\"stroke:#34a853\"></path><path d=\"M509 110a32 35-3 1 1 3-29M517 76l-63 24\" stroke=\"#ea4335\" stroke-width=\"16px\"></path></svg></a></div><div class=\"bz1lBb\"><form class=\"Pg70bf\" id=\"sf\"><a class=\"l\" href=\"/?output=search&amp;sa=X&amp;ved=0ahUKEwjrpqTAnabyAhXPQzABHeqyB6QQPAgE\"><svg aria-label=\"Google\" fill=\"none\" height=\"22\" stroke=\"#4285f4\" stroke-width=\"18\" viewbox=\"0 0 520 174\" width=\"66\"><ellipse cx=\"179\" cy=\"90\" rx=\"33\" ry=\"34\" stroke=\"#ea4335\"></ellipse><ellipse cx=\"270\" cy=\"90\" rx=\"33\" ry=\"34\" stroke=\"#fbbc04\"></ellipse><ellipse cx=\"359\" cy=\"90\" rx=\"31\" ry=\"34\"></ellipse><path d=\"M69 70l61 0m-9 4a56 57 0 1 1-17-47M391 49l0 72l-2 0a 16 17 24 0 1-58 24\"></path><path d=\"M423 5l0 130\" stroke=\"#34a853\"></path><path d=\"M509 110a32 35-3 1 1 3-29M517 76l-63 24\" stroke=\"#ea4335\"></path></svg></a><div class=\"H0PQec\"><div class=\"sbc esbc\"><input autocapitalize=\"none\" autocomplete=\"off\" class=\"noHIxc\" name=\"q\" spellcheck=\"false\" type=\"text\" value=\"Belimo ghg\"/><input name=\"oq\" type=\"hidden\"/><input name=\"aqs\" type=\"hidden\"/><div class=\"x\">×</div><div class=\"sc\"></div></div></div><button id=\"qdClwb\" type=\"submit\"></button></form></div><noscript><meta content=\"0;url=/search?q=Belimo+ghg&amp;gbv=1&amp;sei=zlISYeuHJc-HwbkP6uWeoAo\" http-equiv=\"refresh\"/><style>table,div,span,p{display:none}</style><div style=\"display:block\">Please click <a href=\"/search?q=Belimo+ghg&amp;gbv=1&amp;sei=zlISYeuHJc-HwbkP6uWeoAo\">here</a> if you are not redirected within a few seconds.</div></noscript></header><div id=\"main\"><div><div class=\"KP7LCb\"> <div class=\"bRsWnc\"> <div class=\"N6RWV\"> <div class=\"Pg70bf Uv67qb\"> <span class=\"OXXup\">All</span><a class=\"eZt8xd\" href=\"/search?q=Belimo+ghg&amp;source=lnms&amp;tbm=shop&amp;sa=X&amp;ved=0ahUKEwjrpqTAnabyAhXPQzABHeqyB6QQ_AUICCgB\">Shopping</a><a class=\"eZt8xd\" href=\"/search?q=Belimo+ghg&amp;source=lnms&amp;tbm=nws&amp;sa=X&amp;ved=0ahUKEwjrpqTAnabyAhXPQzABHeqyB6QQ_AUICSgC\">News</a><a class=\"eZt8xd\" href=\"/search?q=Belimo+ghg&amp;source=lnms&amp;tbm=isch&amp;sa=X&amp;ved=0ahUKEwjrpqTAnabyAhXPQzABHeqyB6QQ_AUICigD\">Images</a> <a href=\"https://maps.google.com/maps?q=Belimo+ghg&amp;um=1&amp;ie=UTF-8&amp;sa=X&amp;ved=0ahUKEwjrpqTAnabyAhXPQzABHeqyB6QQ_AUICygE\">Maps</a> <a href=\"/search?q=Belimo+ghg&amp;source=lnms&amp;tbm=vid&amp;sa=X&amp;ved=0ahUKEwjrpqTAnabyAhXPQzABHeqyB6QQ_AUIDCgF\">Videos</a> <a href=\"/search?q=Belimo+ghg&amp;source=lnms&amp;tbm=bks&amp;sa=X&amp;ved=0ahUKEwjrpqTAnabyAhXPQzABHeqyB6QQ_AUIDSgG\">Books</a> <div class=\"FElbsf\"><a href=\"/advanced_search\" id=\"st-toggle\" role=\"button\" style=\"white-space:nowrap\">Search tools</a></div> </div> </div> </div> </div><div class=\"Pg70bf wEsjbd ZINbbc xpd O9g5cc uUPGi\" id=\"st-card\" style=\"display:none\"><style>.wEsjbd{background-color:#fff;height:44px;white-space:nowrap}.coPU8c{height:60px;-webkit-overflow-scrolling:touch;overflow-x:auto;overflow-y:hidden}.Xj2aue{height:44px;overflow:hidden}.RnNGze{margin:11px 16px}.wEsjbd div,.wEsjbd a,.wEsjbd li{outline-width:0;outline:none}</style><div class=\"Xj2aue\"><div class=\"coPU8c\"><div class=\"RnNGze\"><style>.PA9J5{display:inline-block}.RXaOfd{display:inline-block;height:22px;position:relative;padding-top:0;padding-bottom:0;padding-right:16px;padding-left:0;line-height:22px;cursor:pointer;text-transform:uppercase;font-size:12px;color:#70757a}.sa1toc{display:none;position:absolute;background:#fff;border:1px solid #d6d6d6;box-shadow:0 2px 4px rgba(0,0,0,0.3);margin:0;white-space:nowrap;z-index:103;line-height:17px;padding-top:5px;padding-bottom:5px;padding-left:0}.PA9J5:hover .sa1toc{display:block}.mGSy8d a:active,.RXaOfd:active{color:#4285f4}</style><div class=\"PA9J5\"><div class=\"RXaOfd\" role=\"button\" tabindex=\"0\"><style>.TWMOUc{display:inline-block;padding-right:14px;white-space:nowrap}.vQYuGf{font-weight:bold}.OmTIzf{border-color:#909090 transparent;border-style:solid;border-width:4px 4px 0 4px;width:0;height:0;margin-left:-10px;top:50%;margin-top:-2px;position:absolute}.RXaOfd:active .OmTIzf{border-color:#4285f4 transparent}</style><div class=\"TWMOUc\">Any time</div><span class=\"OmTIzf\"></span></div><ul class=\"sa1toc ozatM\"><style>.ozatM{font-size:12px;text-transform:uppercase}.ozatM .yNFsl,.ozatM li{list-style-type:none;list-style-position:outside;list-style-image:none}.yNFsl.SkUj4c,.yNFsl a{color:rgba(0,0,0,0.54);text-decoration:none;padding:6px 44px 6px 14px;line-height:17px;display:block}.SkUj4c{background-image:url(//ssl.gstatic.com/ui/v1/menu/checkmark2.png);background-position:right center;background-repeat:no-repeat}.SkUj4c:active{background-color:#f8f9fa}</style><li class=\"yNFsl SkUj4c\">Any time</li><li class=\"yNFsl\"><a href=\"/search?q=Belimo+ghg&amp;source=lnt&amp;tbs=qdr:h&amp;sa=X&amp;ved=0ahUKEwjrpqTAnabyAhXPQzABHeqyB6QQpwUIDw\">Past hour</a></li><li class=\"yNFsl\"><a href=\"/search?q=Belimo+ghg&amp;source=lnt&amp;tbs=qdr:d&amp;sa=X&amp;ved=0ahUKEwjrpqTAnabyAhXPQzABHeqyB6QQpwUIEA\">Past 24 hours</a></li><li class=\"yNFsl\"><a href=\"/search?q=Belimo+ghg&amp;source=lnt&amp;tbs=qdr:w&amp;sa=X&amp;ved=0ahUKEwjrpqTAnabyAhXPQzABHeqyB6QQpwUIEQ\">Past week</a></li><li class=\"yNFsl\"><a href=\"/search?q=Belimo+ghg&amp;source=lnt&amp;tbs=qdr:m&amp;sa=X&amp;ved=0ahUKEwjrpqTAnabyAhXPQzABHeqyB6QQpwUIEg\">Past month</a></li><li class=\"yNFsl\"><a href=\"/search?q=Belimo+ghg&amp;source=lnt&amp;tbs=qdr:y&amp;sa=X&amp;ved=0ahUKEwjrpqTAnabyAhXPQzABHeqyB6QQpwUIEw\">Past year</a></li></ul></div><div class=\"PA9J5\"><div class=\"RXaOfd\" role=\"button\" tabindex=\"0\"><div class=\"TWMOUc\">All results</div><span class=\"OmTIzf\"></span></div><ul class=\"sa1toc ozatM\"><li class=\"yNFsl SkUj4c\">All results</li><li class=\"yNFsl\"><a href=\"/search?q=Belimo+ghg&amp;source=lnt&amp;tbs=li:1&amp;sa=X&amp;ved=0ahUKEwjrpqTAnabyAhXPQzABHeqyB6QQpwUIFQ\">Verbatim</a></li></ul></div></div></div></div><script nonce=\"Yt1U/LIJ5Mabu+bzvxjS2g==\">(function(){\n",
              "var a=document.getElementById(\"st-toggle\"),b=document.getElementById(\"st-card\");a&&b&&a.addEventListener(\"click\",function(c){b.style.display=b.style.display?\"\":\"none\";c.preventDefault()},!1);}).call(this);</script></div></div><style>.ZINbbc{background-color:#fff;margin-bottom:10px;box-shadow:0 1px 6px rgba(32, 33, 36, 0.28);border-radius:8px}.uUPGi{font-size:14px;line-height:20px;}.O9g5cc>*:first-child{border-top-left-radius:8px;border-top-right-radius:8px}.O9g5cc>*:last-child{border-bottom-left-radius:8px;border-bottom-right-radius:8px}.O9g5cc>.qxDOhb>*:first-child{border-top-left-radius:8px;border-top-right-radius:8px}.O9g5cc>.qxDOhb>*:last-child{border-bottom-left-radius:8px;border-bottom-right-radius:8px}.rl7ilb{display:block;clear:both}.kCrYT{padding:12px 16px 12px}a.fdYsqf{color:#4B11A8}.zBAuLc{font-weight:normal;line-height:normal;margin:0;padding:0}.BNeawe{white-space:pre-line;word-wrap:break-word}.vvjwJb{color:#1967D2;font-size:16px;line-height:20px}a:visited .vvjwJb,.vvjwJb a:visited{color:#4B11A8}.vvjwJb.HrGdeb{color:#fff}a:visited .vvjwJb.HrGdeb,.vvjwJb.HrGdeb a:visited{color:rgba(255,255,255,.70)}.UPmit{font-size:14px;line-height:20px}.UPmit.HrGdeb{color:rgba(255,255,255,.70)}.UPmit.AP7Wnd{color:#0d652d}.x54gtf{height:1px;background-color:#dfe1e5;margin:0 16px}.Q0HXG{height:1px;background-color:#dfe1e5}.Ap5OSd{padding-bottom:12px}.s3v9rd{font-size:14px;line-height:20px}.s3v9rd.HrGdeb{color:#fff}.s3v9rd.AP7Wnd{color:#202124}.mSx1Ee{padding-left:48px;margin:0}.v9i61e{padding-bottom:8px}.lcJF1d{border-radius:8px;margin-left:16px;float:right;}.EYOsld{display:inline-block;position:relative}.SXn0g{overflow:hidden}.GXKcHe{display:inline-block}.p1CInd{position:relative}.HMoqlc{background-color:rgba(0,0,0,.12)}.qW7zYd{bottom:0;left:0;margin:auto;position:absolute;right:0;top:0}.X8r0X{background-image:url(data:image/svg+xml;base64,PHN2ZyB4bWxucz0iaHR0cDovL3d3dy53My5vcmcvMjAwMC9zdmciIHdpZHRoPSI0OCIgaGVpZ2h0PSI0OCIgdmlld0JveD0iMCAwIDQ4IDQ4IiBmaWxsPSIjZmZmIj48cGF0aCBkPSJNMjQgNEMxMi45NSA0IDQgMTIuOTUgNCAyNHM4Ljk1IDIwIDIwIDIwIDIwLTguOTUgMjAtMjBTMzUuMDUgNCAyNCA0em0tNCAyOVYxNWwxMiA5LTEyIDl6Ii8+PC9zdmc+);background-repeat:no-repeat;background-position:center}.SiONwe{background:rgba(32, 33, 36, 0.5);position:absolute;border-radius:4px;padding:2px 6px}.r0bn4c.tr0dw{color:rgba(255,255,255,.70)}.r0bn4c.rQMQod{color:#70757a}.U8ml0d{text-decoration:line-through}.XLloXe{color:#1967D2;font-size:14px;line-height:20px}a:visited .XLloXe,.XLloXe a:visited{color:#4B11A8}.XLloXe.HrGdeb{color:#fff}a:visited .XLloXe.HrGdeb,.XLloXe.HrGdeb a:visited{color:rgba(255,255,255,.70)}.rLshyf,.BmP5tf{padding-top:12px;padding-bottom:12px}.YOx3Ab{padding-left:16px;}.w1C3Le,.BmP5tf,.G5NbBd,.CS4w5b{padding-left:16px;padding-right:16px;}.G5NbBd{padding-bottom:12px}.CS4w5b{padding-top:12px}.nMymef{display:flex}.G5eFlf{flex:1;display:block}.nMymef span{text-align:center}</style><div><!--SW_C_X--></div><div></div><div><div class=\"ZINbbc xpd O9g5cc uUPGi\"><div class=\"kCrYT\"><a href=\"/url?q=https://www.belimo.com/us/en_US/about/belimo/corporate-social-responsibility.html&amp;sa=U&amp;ved=2ahUKEwjrpqTAnabyAhXPQzABHeqyB6QQFnoECAcQAQ&amp;usg=AOvVaw2iMOUyIES6ge8epY1b2vZu\"><h3 class=\"zBAuLc\"><div class=\"BNeawe vvjwJb AP7Wnd\">Belimo Is Committed to Sustainability</div></h3><div class=\"BNeawe UPmit AP7Wnd\">www.belimo.com › en_US › about › belimo › corporate-social-responsibility</div></a></div><div class=\"x54gtf\"></div><div class=\"kCrYT\"><div><div class=\"BNeawe s3v9rd AP7Wnd\"><div><div><div class=\"BNeawe s3v9rd AP7Wnd\">By offsetting a portion of Belimo's energy needs with solar, 857 tons of greenhouse gas emissions will be avoided, equivalent to powering roughly 100 homes ...</div></div></div></div></div></div></div></div><div><div class=\"ZINbbc xpd O9g5cc uUPGi\"><div class=\"kCrYT\"><a href=\"/url?q=https://www.belimo.com/us/en_US/about/belimo/mission.html&amp;sa=U&amp;ved=2ahUKEwjrpqTAnabyAhXPQzABHeqyB6QQFnoECAgQAQ&amp;usg=AOvVaw2eeYl7OW-EPrmp6sYpyW0E\"><h3 class=\"zBAuLc\"><div class=\"BNeawe vvjwJb AP7Wnd\">Mission and Values | Belimo</div></h3><div class=\"BNeawe UPmit AP7Wnd\">www.belimo.com › en_US › about › belimo › mission</div></a></div><div class=\"x54gtf\"></div><div class=\"kCrYT\"><div><div class=\"BNeawe s3v9rd AP7Wnd\"><div><div><div class=\"BNeawe s3v9rd AP7Wnd\">With our energy-saving devices, we help to reduce greenhouse gas emissions. Safety: Belimo fire and safety actuators save lives and help minimize damage to ...</div></div></div></div></div></div></div></div><div><div class=\"ZINbbc xpd O9g5cc uUPGi\"><div class=\"kCrYT\"><a href=\"/url?q=https://www.belimo.com/dam/epaper/epaper-Belimo_Annual_Report_2020/index.html&amp;sa=U&amp;ved=2ahUKEwjrpqTAnabyAhXPQzABHeqyB6QQFnoECAUQAQ&amp;usg=AOvVaw15JUDQqMjjS2d7LG-1f6nN\"><h3 class=\"zBAuLc\"><div class=\"BNeawe vvjwJb AP7Wnd\">Belimo Annual Report 2020</div></h3><div class=\"BNeawe UPmit AP7Wnd\">www.belimo.com › dam › epaper › epaper-Belimo_Annual_Report_2020</div></a></div><div class=\"x54gtf\"></div><div class=\"kCrYT\"><div><div class=\"BNeawe s3v9rd AP7Wnd\"><div><div><div class=\"BNeawe s3v9rd AP7Wnd\">With our energy-saving devices, we help reduce greenhouse gas emissions: bit.ly/3jjw3bQ Safety: Belimo fire and safety actua- tors save lives and help ...</div></div></div></div></div></div></div></div><div><div class=\"ZINbbc xpd O9g5cc uUPGi\"><div class=\"kCrYT\"><a href=\"/url?q=https://www.belimo.com/mam/corporate-communications/investor-relations/financial-reports/2020/Sustainability_Report_2019.pdf&amp;sa=U&amp;ved=2ahUKEwjrpqTAnabyAhXPQzABHeqyB6QQFnoECAkQAQ&amp;usg=AOvVaw2rjBa5YsxrfjMz84Thop4k\"><h3 class=\"zBAuLc\"><div class=\"BNeawe vvjwJb AP7Wnd\">[PDF] Sustainability Report (Extract Annual Report 2019) - Belimo</div></h3><div class=\"BNeawe UPmit AP7Wnd\">www.belimo.com › corporate-communications › investor-relations</div></a></div><div class=\"x54gtf\"></div><div class=\"kCrYT\"><div><div class=\"BNeawe s3v9rd AP7Wnd\"><div><div><div class=\"BNeawe s3v9rd AP7Wnd\">305-2 Energy indirect (Scope 2) GHG emissions. 416 Customer health and safety. 72. Energy Efficiency in Operations. 302 Energy.</div></div></div></div></div></div></div></div><div><div class=\"ZINbbc xpd O9g5cc uUPGi\"><div class=\"kCrYT\"><a href=\"/url?q=https://www.belimo.com/mam/corporate-communications/pictures-graphics/teasers/belimo-com/cesim/Belimo_Talks/Belimo_Presentation_Solving_Low_Delta_T_Syndrome_EN.pdf&amp;sa=U&amp;ved=2ahUKEwjrpqTAnabyAhXPQzABHeqyB6QQFnoECAAQAQ&amp;usg=AOvVaw3tcqigfJUXE172jQBclafc\"><h3 class=\"zBAuLc\"><div class=\"BNeawe vvjwJb AP7Wnd\">[PDF] Solving Low Delta T Syndrome for Better Energy Efficiency - Belimo</div></h3><div class=\"BNeawe UPmit AP7Wnd\">www.belimo.com › teasers › belimo-com › cesim › Belimo_Talks › B...</div></a></div><div class=\"x54gtf\"></div><div class=\"kCrYT\"><div><div class=\"BNeawe s3v9rd AP7Wnd\"><div><div><div class=\"BNeawe s3v9rd AP7Wnd\">The Paris Agreement forces us to limit global warming and lower greenhouse gases ... 25% of global water. • 40% of global resources they emit 1/3 of GHG ...</div></div></div></div></div></div></div></div><div><div class=\"ZINbbc xpd O9g5cc uUPGi\"><div class=\"kCrYT\"><a href=\"/url?q=https://www.brainboxai.com/news/brainbox-ai-and-belimo-explore-an-ecosystem-collaboration-to-benefit-commercial-real-estate-across-the-world/&amp;sa=U&amp;ved=2ahUKEwjrpqTAnabyAhXPQzABHeqyB6QQFnoECAMQAQ&amp;usg=AOvVaw1T1wyzyBHCnnLlIYFdz7LO\"><h3 class=\"zBAuLc\"><div class=\"BNeawe vvjwJb AP7Wnd\">BrainBox AI and Belimo Explore an Ecosystem ... - BrainBox AI</div></h3><div class=\"BNeawe UPmit AP7Wnd\">www.brainboxai.com › news › brainbox-ai-and-belimo-explore-an-ecosyst...</div></a></div><div class=\"x54gtf\"></div><div class=\"kCrYT\"><div><div class=\"BNeawe s3v9rd AP7Wnd\"><div><div><div class=\"BNeawe s3v9rd AP7Wnd\">BrainBox AI and Belimo are excited to explore their ecosystem collaboration with targeted, undisclosed, commercial buildings in North America and Asia ...</div></div></div></div></div></div></div></div><div><div class=\"ZINbbc xpd O9g5cc uUPGi\"><div class=\"kCrYT\"><a href=\"/url?q=https://www.youtube.com/watch%3Fv%3DNaYCm-q2nLs&amp;sa=U&amp;ved=2ahUKEwjrpqTAnabyAhXPQzABHeqyB6QQtwJ6BAgEEAE&amp;usg=AOvVaw0Xzg-DSDjBJqTM9d83-jhf\"><h3 class=\"zBAuLc\"><div class=\"BNeawe vvjwJb AP7Wnd\">Belimo Energy Valve™ Decreasing Carbon Footprint &amp; Increasing ...</div></h3><div class=\"BNeawe UPmit AP7Wnd\">www.youtube.com › watch</div></a></div><div class=\"x54gtf\"></div><div class=\"kCrYT\"><a href=\"/url?q=https://www.youtube.com/watch%3Fv%3DNaYCm-q2nLs&amp;sa=U&amp;ved=2ahUKEwjrpqTAnabyAhXPQzABHeqyB6QQuAJ6BAgEEAI&amp;usg=AOvVaw0g9gsyAZZto_DZ9dldgcvG\"><div class=\"lcJF1d SXn0g GXKcHe p1CInd\"><div style=\"width:120px;height:67px;position:static\"><img alt=\"Video for Belimo ghg\" class=\"EYOsld\" data-deferred=\"1\" id=\"dimg_1\" src=\"data:image/gif;base64,R0lGODlhAQABAIAAAP///////yH5BAEKAAEALAAAAAABAAEAAAICTAEAOw==\" style=\"width:120px;height:67px\"/></div><div class=\"qW7zYd HMoqlc\"></div><div class=\"qW7zYd X8r0X\" style=\"background-size:36px\"></div></div></a><div><div class=\"BNeawe s3v9rd AP7Wnd\"><div><div><div class=\"Ap5OSd\"><div class=\"BNeawe s3v9rd AP7Wnd\"><span class=\"r0bn4c rQMQod\">Aug 19, 2020</span><span class=\"r0bn4c rQMQod\"> · </span>In this recorded webinar understand how state and global energy initiatives are driving the need ...Duration: <span class=\"r0bn4c rQMQod\">40:16</span><br/>Posted: <span class=\"r0bn4c rQMQod\">Aug 19, 2020</span></div></div><div><div class=\"BNeawe s3v9rd AP7Wnd\">Missing:  <span class=\"U8ml0d rQMQod\">ghg</span> | Must include:<span class=\"BNeawe\"><a href=\"/search?q=Belimo+%22ghg%22&amp;sa=X&amp;ved=2ahUKEwjrpqTAnabyAhXPQzABHeqyB6QQ5t4CegQIBBAG\"><span class=\"XLloXe AP7Wnd\">ghg</span></a></span></div></div></div></div></div></div><div class=\"rl7ilb\"></div></div></div></div><div><div class=\"ZINbbc xpd O9g5cc uUPGi\"><div class=\"kCrYT\"><a href=\"/url?q=https://www.matlabexpo.com/content/dam/mathworks/mathworks-dot-com/images/events/matlabexpo/ch/2017/innovations-in-comfort-energy-efficiency-in-buildings-leveraging-system-design-methods-data-analytics.pdf&amp;sa=U&amp;ved=2ahUKEwjrpqTAnabyAhXPQzABHeqyB6QQFnoECAIQAQ&amp;usg=AOvVaw2thmSv-80V3HVulyrNvvtv\"><h3 class=\"zBAuLc\"><div class=\"BNeawe vvjwJb AP7Wnd\">[PDF] Innovations in Comfort and Energy Efficiency in ... - MATLAB EXPO</div></h3><div class=\"BNeawe UPmit AP7Wnd\">www.matlabexpo.com › mathworks › images › events › matlabexpo</div></a></div><div class=\"x54gtf\"></div><div class=\"kCrYT\"><div><div class=\"BNeawe s3v9rd AP7Wnd\"><div><div><div class=\"BNeawe s3v9rd AP7Wnd\"><span class=\"r0bn4c rQMQod\">Jun 22, 2017</span><span class=\"r0bn4c rQMQod\"> · </span>2016 Belimo Automation AG / Peter Schmidlin CINO ... 25% of global water. • 40% of global resources they emit 1/3 of GHG ...</div></div></div></div></div></div></div></div><div><div class=\"ZINbbc xpd O9g5cc uUPGi\"><div class=\"kCrYT\"><a href=\"/url?q=https://www.achrnews.com/events/2786-reducing-hvac-ghg-emissions-electrification-decarbonization&amp;sa=U&amp;ved=2ahUKEwjrpqTAnabyAhXPQzABHeqyB6QQFnoECAEQAQ&amp;usg=AOvVaw2Xw-ZtTSZXEvEOLtCOReah\"><h3 class=\"zBAuLc\"><div class=\"BNeawe vvjwJb AP7Wnd\">Reducing HVAC GHG Emissions: Electrification &amp; Decarbonization ...</div></h3><div class=\"BNeawe UPmit AP7Wnd\">www.achrnews.com › events › 2786-reducing-hvac-ghg-emissions-electrifi...</div></a></div><div class=\"x54gtf\"></div><div class=\"kCrYT\"><div><div class=\"BNeawe s3v9rd AP7Wnd\"><div><div><div class=\"BNeawe s3v9rd AP7Wnd\">Reducing HVAC GHG Emissions: Electrification &amp; Decarbonization ... Indoor Air Quality and HVAC Strategies - Free Belimo Webinar - September 2, 2021 -.</div></div></div></div></div></div></div></div><div><div class=\"ZINbbc xpd O9g5cc uUPGi\"><div class=\"kCrYT\"><a href=\"/url?q=https://hub.sensefolio.com/company.php%3Fcompany%3DBELIMO%2520Holding%2520AG&amp;sa=U&amp;ved=2ahUKEwjrpqTAnabyAhXPQzABHeqyB6QQFnoECAYQAQ&amp;usg=AOvVaw1btMtbAp8JeQD4jXGFrntN\"><h3 class=\"zBAuLc\"><div class=\"BNeawe vvjwJb AP7Wnd\">BELIMO Holding AG () - Sensefolio ESG Score - Sensefolio Hub</div></h3><div class=\"BNeawe UPmit AP7Wnd\">hub.sensefolio.com › company › company=BELIMO Holding AG</div></a></div><div class=\"x54gtf\"></div><div class=\"kCrYT\"><div><div class=\"BNeawe s3v9rd AP7Wnd\"><div><div><div class=\"BNeawe s3v9rd AP7Wnd\">BELIMO Holding AG, an international group of companies, is located in Hinwil, Switzerland. The company develops, produces and markets ... 104 Trees would need to be planted to offset Belimo's Carbon Emissions ... GHG Emissions 44.1 ...</div></div></div></div></div></div></div></div><footer> <div> <div class=\"ZINbbc xpd O9g5cc uUPGi BmP5tf\"><div class=\"nMymef MUxGbd lyLwlc\"><a aria-label=\"Next page\" class=\"nBDE1b G5eFlf\" href=\"/search?q=Belimo+ghg&amp;ei=zlISYeuHJc-HwbkP6uWeoAo&amp;start=10&amp;sa=N\">Next &gt;</a></div></div> </div> <div id=\"EOlPnc\"><div class=\"Srfpq\"><span class=\"unknown_loc\"></span><span id=\"xxxXMc\">United States</span><span id=\"ttWoPb\"> - </span><span>From your IP address</span><span> - </span><a href=\"/url?q=https://support.google.com/websearch%3Fp%3Dws_settings_location%26hl%3Den&amp;sa=U&amp;ved=0ahUKEwjrpqTAnabyAhXPQzABHeqyB6QQty4IOw&amp;usg=AOvVaw26A13GYjdLFx4KjesXaGzQ\">Learn more</a></div><div><a href=\"/url?q=https://accounts.google.com/ServiceLogin%3Fcontinue%3Dhttps://www.google.com/search%253Fq%253DBelimo%252Bghg%26hl%3Den&amp;sa=U&amp;ved=0ahUKEwjrpqTAnabyAhXPQzABHeqyB6QQxs8CCDw&amp;usg=AOvVaw0F-TYBoPEl6tm-vRJExaT-\">Sign in</a></div><div><a class=\"xeDNfc\" href=\"https://www.google.com/preferences?hl=en&amp;fg=1&amp;sa=X&amp;ved=0ahUKEwjrpqTAnabyAhXPQzABHeqyB6QQ5fUCCD0\">Settings</a><a class=\"xeDNfc\" href=\"https://policies.google.com/privacy?hl=en&amp;fg=1\">Privacy</a><a class=\"xeDNfc\" href=\"https://policies.google.com/terms?hl=en&amp;fg=1\">Terms</a></div></div> </footer><script nonce=\"Yt1U/LIJ5Mabu+bzvxjS2g==\">(function(){var hl='en';(function(){\n",
              "var f=this||self,g=function(a){return a};var h,k=function(){if(void 0===h){var a=null,b=f.trustedTypes;if(b&&b.createPolicy){try{a=b.createPolicy(\"goog#html\",{createHTML:g,createScript:g,createScriptURL:g})}catch(c){f.console&&f.console.error(c.message)}h=a}else h=a}return h};var n=function(a,b){this.h=a===l&&b||\"\";this.g=m},p=function(a){return a instanceof n&&a.constructor===n&&a.g===m?a.h:\"type_error:Const\"},m={},l={};var r=function(a,b){this.g=b===q?a:\"\"};r.prototype.toString=function(){return this.g+\"\"};var t=function(a){return a instanceof r&&a.constructor===r?a.g:\"type_error:TrustedResourceUrl\"},x=function(){var a={},b=p(new n(l,\"/complete/search\"));if(!u.test(b))throw Error(\"a`\"+b);var c=b.replace(v,function(e,d){if(!Object.prototype.hasOwnProperty.call(a,d))throw Error(\"b`\"+d+\"`\"+b+\"`\"+JSON.stringify(a));e=a[d];return e instanceof n?p(e):encodeURIComponent(String(e))});return w(c)},v=/%{(\\w+)}/g,u=/^((https:)?\\/\\/[0-9a-z.:[\\]-]+\\/|\\/[^/\\\\]|[^:/\\\\%]+\\/|[^:/\\\\%]*[?#]|about:blank#)/i,y=/^([^?#]*)(\\?[^#]*)?(#[\\s\\S]*)?/,q={},w=function(a){var b=k();a=b?b.createScriptURL(a):a;return new r(a,q)},z=function(a,b,c){if(null==c)return b;if(\"string\"===typeof c)return c?a+encodeURIComponent(c):\"\";for(var e in c)if(Object.prototype.hasOwnProperty.call(c,e)){var d=c[e];d=Array.isArray(d)?d:[d];for(var C=0;C<d.length;C++){var Q=d[C];null!=Q&&(b||(b=a),b+=(b.length>a.length?\"&\":\"\")+encodeURIComponent(e)+\"=\"+encodeURIComponent(String(Q)))}}return b};var A={},B=function(a,b,c){this.g=c===A?a:\"\"};B.prototype.toString=function(){return this.g.toString()};var D=function(a){return a instanceof B&&a.constructor===B?a.g:\"type_error:SafeHtml\"},E=function(a){var b=k();a=b?b.createHTML(a):a;return new B(a,null,A)},F=new B(f.trustedTypes&&f.trustedTypes.emptyHTML||\"\",0,A);var aa=function(a){var b=!1,c;return function(){b||(c=a(),b=!0);return c}}(function(){var a=document.createElement(\"div\"),b=document.createElement(\"div\");b.appendChild(document.createElement(\"div\"));a.appendChild(b);b=a.firstChild.firstChild;a.innerHTML=D(F);return!b.parentElement}),ba=function(a,b){if(aa())for(;a.lastChild;)a.removeChild(a.lastChild);a.innerHTML=D(b)};var G=document.querySelector(\".l\"),H=document.querySelector(\"#sf\"),I=H.querySelector(\".sbc\"),J=H.querySelector(\"[type=text]\"),K=H.querySelector(\"[type=submit]\"),L=H.querySelector(\".sc\"),M=H.querySelector(\".x\"),N=J.value,O=[],P=-1,R=N,S,T,U;N||(M&&(M.style.display=\"none\"),V(!1));function V(a){if(I.classList.contains(\"esbc\")){var b=I.classList.contains(\"chsbc\"),c=I.classList.contains(\"rtlsbc\");a&&(L.style.display=\"block\",b?(H.style.borderRadius=\"20px 20px 0 0\",L.style.borderBottom=\"1px solid #DFE1E5\",K.style.borderRadius=c?\"20px 0 0 0\":\"0 20px 0 0\"):I.style.borderRadius=c?\"0 8px 0 0\":\"8px 0 0 0\");a||(L.style.display=\"none\",b?(H.style.borderRadius=\"20px\",L.style.borderBottom=\"none\",K.style.borderRadius=c?\"20px 0 0 20px\":\"0 20px 20px 0\"):I.style.borderRadius=c?\"0 8px 8px 0\":\"8px 0 0 8px\")}}function W(){H.querySelector(\"[name=oq]\").value=R;H.querySelector(\"[name=aqs]\").value=\"heirloom-srp.\"+(0<=P?P:\"\")+\".\"+(0<O.length?\"0l\"+O.length:\"\")}\n",
              "function X(){S=null;if(T){var a={client:\"heirloom-srp\",hl:hl,json:\"t\",callback:\"hS\",q:T};\"undefined\"!==typeof ds&&ds&&(a.ds=ds);var b=document;var c=\"SCRIPT\";\"application/xhtml+xml\"===b.contentType&&(c=c.toLowerCase());c=b.createElement(c);b=x();b=y.exec(t(b).toString());var e=b[3]||\"\";a=w(b[1]+z(\"?\",b[2]||\"\",a)+z(\"#\",e,void 0));c.src=t(a);var d;a=(c.ownerDocument&&c.ownerDocument.defaultView||window).document;(d=(a=null===(d=a.querySelector)||void 0===d?void 0:d.call(a,\"script[nonce]\"))?a.nonce||\n",
              "a.getAttribute(\"nonce\")||\"\":\"\")&&c.setAttribute(\"nonce\",d);document.body.appendChild(c);T=null;S=setTimeout(X,500)}}function Y(){for(;L.firstChild;)L.removeChild(L.firstChild);O=[];P=-1;V(!1)}function Z(){var a=L.querySelector(\".scs\");a&&(a.className=\"\");0<=P?(a=L.childNodes[P],a.className=\"scs\",N=a.textContent):N=R;J.value=N}J.addEventListener(\"focus\",function(){G&&(G.style.display=\"none\")},!1);J.addEventListener(\"blur\",function(){Y();G&&(G.style.display=\"\")},!1);J.addEventListener(\"keyup\",function(a){N=J.value;U=!1;13==a.which?W():27==a.which?(Y(),G&&(G.style.display=\"\"),N=R,J.value=N):40==a.which?(P++,P>=O.length&&(P=-1),Z()):38==a.which?(P--,-1>P&&(P=O.length-1),Z()):(a=N)?(M&&(M.style.display=\"\"),T=a,S||X(),R=a):(M&&(M.style.display=\"none\"),V(!1),Y(),R=\"\",U=!0)},!1);K.addEventListener(\"click\",W,!1);M.addEventListener(\"click\",function(){J.value=\"\";M.style.display=\"none\";V(!1)},!1);I.addEventListener(\"click\",function(){J.focus()},!1);window.hS=function(a){if(!U){Y();0==a[1].length&&V(!1);for(var b=0;b<a[1].length;b++){var c=a[1][b][0],e=document.createElement(\"div\");ba(e,E(c));e.addEventListener(\"mousedown\",function(d){d.preventDefault();return!1},!1);c=c.replace(/<\\/?b>/g,\"\");e.addEventListener(\"click\",function(d){return function(){P=d;W();Z();Y();H.submit()}}(b),!1);L.appendChild(e);V(!0);O.push(c)}}};}).call(this);})();(function(){\n",
              "function b(a){for(a=a.target||a.srcElement;a&&\"A\"!=a.nodeName;)a=a.parentElement;a&&(a.href||\"\").match(/\\/search.*[?&]tbm=isch/)&&(a.href+=\"&biw=\"+document.documentElement.clientWidth,a.href+=\"&bih=\"+document.documentElement.clientHeight)}document.addEventListener(\"click\",b,!1);document.addEventListener(\"touchStart\",b,!1);}).call(this);</script></div><!-- cctlcm 5 cctlcm --><textarea class=\"csi\" name=\"csi\" style=\"display:none\"></textarea><script nonce=\"Yt1U/LIJ5Mabu+bzvxjS2g==\">(function(){var e='zlISYeuHJc-HwbkP6uWeoAo';var sn='web';(function(){\n",
              "function y(a){if(!a||z(a))return 0;if(!a.getBoundingClientRect)return 1;var c=function(b){return b.getBoundingClientRect()};return A(a,c)?0:I(a,c)}function A(a,c){var b;a:{for(b=a;b&&null!==b;b=b.parentElement)if(\"hidden\"===b.style.overflow)break a;b=null}if(!b)return!1;a=c(a);c=c(b);return a.bottom<c.top||a.top>=c.bottom||a.right<c.left||a.left>=c.right}\n",
              "function z(a){return\"none\"===a.style.display?!0:document.defaultView&&document.defaultView.getComputedStyle?(a=document.defaultView.getComputedStyle(a),!!a&&(\"hidden\"===a.visibility||\"0px\"===a.height&&\"0px\"===a.width)):!1}\n",
              "function I(a,c){var b=c(a);a=b.left+window.pageXOffset;c=b.top+window.pageYOffset;var f=b.width;b=b.height;var g=0;if(0>=b&&0>=f)return g;var n=window.innerHeight||document.documentElement.clientHeight;0>c+b?g=2:c>=n&&(g=4);if(0>a+f||a>=(window.innerWidth||document.documentElement.clientWidth))g|=8;g||(g=1,c+b>n&&(g|=4));return g};var J=e,K=sn,L=[];function M(a,c,b){a=\"/gen_204?atyp=csi&s=\"+(K||\"web\")+\"&t=\"+a+(\"&lite=1&ei=\"+J+\"&conn=\"+(window.navigator&&window.navigator.connection?window.navigator.connection.type:-1)+c);c=\"&rt=\";for(var f in b)a+=\"\"+c+f+\".\"+b[f],c=\",\";return a}function N(a){a={prt:a};window.wsrt&&(a.wsrt=window.wsrt);return a}function O(a){window.ping?window.ping(a):(new Image).src=a}\n",
              "(function(){for(var a=(new Date).getTime()-window.start,c=N(a),b=0,f=0,g=0,n=document.getElementsByTagName(\"img\"),q=\"&imn=\"+n.length+\"&biw=\"+window.innerWidth+\"&bih=\"+window.innerHeight,P=function(h,r){h.onload=function(){f=(new Date).getTime()-window.start;r&&++u==g&&(b=f,B());h.onload=null}},B=function(){q+=\"&ima=\"+g;c.aft=b;O(M(\"aft\",q,c))},u=0,Q=0,d=void 0;d=n[Q++];){var t=y(d),p=!!(t&1);p&&++g;var m=d.hasAttribute(\"data-ilite\"),v=d.hasAttribute(\"data-deferred\")||m,C=d.getAttribute(\"data-src\")||\n",
              "d.getAttribute(\"data-lzysrc\"),D=!v&&C;L.push([t,v,D,google.ldi&&d.id&&google.ldi[d.id]||m&&C]);m=(t=d.complete&&(m||!v&&!(p&&D)))&&Number(d.getAttribute(\"data-iml\"))||0;t&&m?(p&&++u,m&&(d=m-window.start,p&&(b=Math.max(b,d)),f=Math.max(f,d))):P(d,p)}b||(b=a);f||(f=b);u==g&&B();google.rglh&&google.rglh();window.addEventListener(\"load\",function(){window.setTimeout(function(){c.ol=(new Date).getTime()-window.start;c.iml=f;var h=window.performance&&window.performance.timing;h&&(c.rqst=h.responseEnd-h.requestStart,c.rspt=h.responseEnd-h.responseStart);for(var r=h=0,E=0,F=0,G=0,R=0,k;k=L[R++];){var l=k[0],w=k[1],S=k[2];k=k[3];var T=0==l,x=l&8,H=l&4;l=1==l||2==l||x&&!H;!l||x||w&&!k||++E;w&&(l&&k&&++h,H&&!k&&++r);T||x?S||++G:w||++F}q+=\"&ime=\"+E+(\"&imex=\"+F+\"&imeh=\"+G)+(\"&imea=\"+h+\"&imeb=\"+r);O(M(\"all\",q,c))},0)},!1)})();}).call(this);})();</script><script nonce=\"Yt1U/LIJ5Mabu+bzvxjS2g==\">\n",
              "function _setImagesSrc(e,d){function f(b){b.onerror=function(){b.style.display=\"none\"};b.src=d}for(var g=0,a=void 0;a=e[g++];){var c=document.getElementById(a)||document.querySelector('img[data-iid=\"'+a+'\"]');c?(a=void 0,(null==(a=google.c)?0:a.setup)&&google.c.setup(c),f(c)):(google.iir=google.iir||{},google.iir[a]=d)}}\"undefined\"==typeof window.google&&(window.google={});</script><script nonce=\"Yt1U/LIJ5Mabu+bzvxjS2g==\">(function(){var s='data:image/jpeg;base64,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\\x3d';var i=['dimg_1'];_setImagesSrc(i,s);})();</script><script nonce=\"Yt1U/LIJ5Mabu+bzvxjS2g==\">(function(){var e='zlISYeuHJc-HwbkP6uWeoAo';(function(){\n",
              "var a=e;2===(window.performance&&window.performance.navigation&&window.performance.navigation.type)&&window.ping(\"/gen_204?ct=backbutton&ei=\"+a);}).call(this);})();(function(){\n",
              "var b=[function(){google.tick&&google.tick(\"load\",\"dcl\")}];google.dclc=function(a){b.length?b.push(a):a()};function c(){for(var a;a=b.shift();)a()}window.addEventListener?(document.addEventListener(\"DOMContentLoaded\",c,!1),window.addEventListener(\"load\",c,!1)):window.attachEvent&&window.attachEvent(\"onload\",c);}).call(this);(function(){(function(){google.csct={};google.csct.ps='AOvVaw2oYalfGQWlgURvwKboThlk\\x26ust\\x3d1628677198642243';})();})();(function(){(function(){google.csct.rd=true;})();})();(function(){(function(){google.csct.pi=true;})();})();google.drty&&google.drty();</script></body></html>"
            ]
          },
          "metadata": {
            "tags": []
          },
          "execution_count": 16
        }
      ]
    },
    {
      "cell_type": "code",
      "metadata": {
        "colab": {
          "base_uri": "https://localhost:8080/",
          "height": 690
        },
        "id": "kB3Ka2pMprOt",
        "outputId": "415e2623-616f-48d3-e666-5b0b8ba1e476"
      },
      "source": [
        "!pip3 install pyppeteer"
      ],
      "execution_count": 17,
      "outputs": [
        {
          "output_type": "stream",
          "text": [
            "Collecting pyppeteer\n",
            "  Downloading pyppeteer-0.2.5-py3-none-any.whl (87 kB)\n",
            "\u001b[K     |████████████████████████████████| 87 kB 3.2 MB/s \n",
            "\u001b[?25hCollecting urllib3<2.0.0,>=1.25.8\n",
            "  Downloading urllib3-1.26.6-py2.py3-none-any.whl (138 kB)\n",
            "\u001b[K     |████████████████████████████████| 138 kB 18.2 MB/s \n",
            "\u001b[?25hCollecting pyee<9.0.0,>=8.1.0\n",
            "  Downloading pyee-8.1.0-py2.py3-none-any.whl (12 kB)\n",
            "Collecting importlib-metadata<3.0.0,>=2.1.1\n",
            "  Downloading importlib_metadata-2.1.1-py2.py3-none-any.whl (10 kB)\n",
            "Collecting tqdm<5.0.0,>=4.42.1\n",
            "  Downloading tqdm-4.62.0-py2.py3-none-any.whl (76 kB)\n",
            "\u001b[K     |████████████████████████████████| 76 kB 4.7 MB/s \n",
            "\u001b[?25hCollecting websockets<9.0,>=8.1\n",
            "  Downloading websockets-8.1-cp37-cp37m-manylinux2010_x86_64.whl (79 kB)\n",
            "\u001b[K     |████████████████████████████████| 79 kB 7.8 MB/s \n",
            "\u001b[?25hRequirement already satisfied: appdirs<2.0.0,>=1.4.3 in /usr/local/lib/python3.7/dist-packages (from pyppeteer) (1.4.4)\n",
            "Requirement already satisfied: zipp>=0.5 in /usr/local/lib/python3.7/dist-packages (from importlib-metadata<3.0.0,>=2.1.1->pyppeteer) (3.5.0)\n",
            "Installing collected packages: websockets, urllib3, tqdm, pyee, importlib-metadata, pyppeteer\n",
            "  Attempting uninstall: urllib3\n",
            "    Found existing installation: urllib3 1.24.3\n",
            "    Uninstalling urllib3-1.24.3:\n",
            "      Successfully uninstalled urllib3-1.24.3\n",
            "  Attempting uninstall: tqdm\n",
            "    Found existing installation: tqdm 4.41.1\n",
            "    Uninstalling tqdm-4.41.1:\n",
            "      Successfully uninstalled tqdm-4.41.1\n",
            "  Attempting uninstall: importlib-metadata\n",
            "    Found existing installation: importlib-metadata 4.6.1\n",
            "    Uninstalling importlib-metadata-4.6.1:\n",
            "      Successfully uninstalled importlib-metadata-4.6.1\n",
            "\u001b[31mERROR: pip's dependency resolver does not currently take into account all the packages that are installed. This behaviour is the source of the following dependency conflicts.\n",
            "requests 2.23.0 requires urllib3!=1.25.0,!=1.25.1,<1.26,>=1.21.1, but you have urllib3 1.26.6 which is incompatible.\n",
            "datascience 0.10.6 requires folium==0.2.1, but you have folium 0.8.3 which is incompatible.\u001b[0m\n",
            "Successfully installed importlib-metadata-2.1.1 pyee-8.1.0 pyppeteer-0.2.5 tqdm-4.62.0 urllib3-1.26.6 websockets-8.1\n"
          ],
          "name": "stdout"
        },
        {
          "output_type": "display_data",
          "data": {
            "application/vnd.colab-display-data+json": {
              "pip_warning": {
                "packages": [
                  "tqdm",
                  "urllib3"
                ]
              }
            }
          },
          "metadata": {
            "tags": []
          }
        }
      ]
    },
    {
      "cell_type": "code",
      "metadata": {
        "colab": {
          "base_uri": "https://localhost:8080/"
        },
        "id": "ChBtJJ0bqI0B",
        "outputId": "b1d1761a-63f2-4f26-841e-15023e57c008"
      },
      "source": [
        "!pip install pyquery"
      ],
      "execution_count": 6,
      "outputs": [
        {
          "output_type": "stream",
          "text": [
            "Collecting pyquery\n",
            "  Downloading pyquery-1.4.3-py3-none-any.whl (22 kB)\n",
            "Collecting cssselect>0.7.9\n",
            "  Downloading cssselect-1.1.0-py2.py3-none-any.whl (16 kB)\n",
            "Requirement already satisfied: lxml>=2.1 in /usr/local/lib/python3.7/dist-packages (from pyquery) (4.2.6)\n",
            "Installing collected packages: cssselect, pyquery\n",
            "Successfully installed cssselect-1.1.0 pyquery-1.4.3\n"
          ],
          "name": "stdout"
        }
      ]
    },
    {
      "cell_type": "code",
      "metadata": {
        "id": "-ICynXQaps5i"
      },
      "source": [
        "import pyppeteer"
      ],
      "execution_count": 12,
      "outputs": []
    },
    {
      "cell_type": "code",
      "metadata": {
        "colab": {
          "base_uri": "https://localhost:8080/"
        },
        "id": "xXBewKwxpyL_",
        "outputId": "62dbda31-df0b-4c88-e438-8971ae57b572"
      },
      "source": [
        "import requests\n",
        "from pyquery import PyQuery as pq\n",
        "url ='http://quotes.toscrape.com/js/'\n",
        "response = requests.get(url)\n",
        "doc = pq(response.text)\n",
        "print('Quotes:', doc('.quote').length)"
      ],
      "execution_count": 11,
      "outputs": [
        {
          "output_type": "stream",
          "text": [
            "Quotes: 0\n"
          ],
          "name": "stdout"
        }
      ]
    },
    {
      "cell_type": "code",
      "metadata": {
        "colab": {
          "base_uri": "https://localhost:8080/",
          "height": 337
        },
        "id": "HV4l9TZDp1k3",
        "outputId": "aa182082-ffe4-4ba2-f9b1-87e8bb3991a9"
      },
      "source": [
        "import asyncio\n",
        "from pyppeteer import launch\n",
        "from pyquery import PyQuery as pq\n",
        "\n",
        "async def main():\n",
        "    browser = await launch()\n",
        "    page = await browser.newPage()\n",
        "    await page.goto('http://quotes.toscrape.com/js/')\n",
        "    doc = pq(await page.content())\n",
        "    print('Quotes:', doc('.quote').length)\n",
        "    await browser.close()\n",
        "\n",
        "\n",
        "asyncio.get_event_loop().run_until_complete(main())"
      ],
      "execution_count": 10,
      "outputs": [
        {
          "output_type": "error",
          "ename": "BrowserError",
          "evalue": "ignored",
          "traceback": [
            "\u001b[0;31m---------------------------------------------------------------------------\u001b[0m",
            "\u001b[0;31mBrowserError\u001b[0m                              Traceback (most recent call last)",
            "\u001b[0;32m<ipython-input-10-fb74747da862>\u001b[0m in \u001b[0;36m<module>\u001b[0;34m()\u001b[0m\n\u001b[1;32m     12\u001b[0m \u001b[0;34m\u001b[0m\u001b[0m\n\u001b[1;32m     13\u001b[0m \u001b[0;34m\u001b[0m\u001b[0m\n\u001b[0;32m---> 14\u001b[0;31m \u001b[0masyncio\u001b[0m\u001b[0;34m.\u001b[0m\u001b[0mget_event_loop\u001b[0m\u001b[0;34m(\u001b[0m\u001b[0;34m)\u001b[0m\u001b[0;34m.\u001b[0m\u001b[0mrun_until_complete\u001b[0m\u001b[0;34m(\u001b[0m\u001b[0mmain\u001b[0m\u001b[0;34m(\u001b[0m\u001b[0;34m)\u001b[0m\u001b[0;34m)\u001b[0m\u001b[0;34m\u001b[0m\u001b[0;34m\u001b[0m\u001b[0m\n\u001b[0m",
            "\u001b[0;32m/usr/local/lib/python3.7/dist-packages/nest_asyncio.py\u001b[0m in \u001b[0;36mrun_until_complete\u001b[0;34m(self, future)\u001b[0m\n\u001b[1;32m     68\u001b[0m                 raise RuntimeError(\n\u001b[1;32m     69\u001b[0m                     'Event loop stopped before Future completed.')\n\u001b[0;32m---> 70\u001b[0;31m             \u001b[0;32mreturn\u001b[0m \u001b[0mf\u001b[0m\u001b[0;34m.\u001b[0m\u001b[0mresult\u001b[0m\u001b[0;34m(\u001b[0m\u001b[0;34m)\u001b[0m\u001b[0;34m\u001b[0m\u001b[0;34m\u001b[0m\u001b[0m\n\u001b[0m\u001b[1;32m     71\u001b[0m \u001b[0;34m\u001b[0m\u001b[0m\n\u001b[1;32m     72\u001b[0m     \u001b[0;32mdef\u001b[0m \u001b[0m_run_once\u001b[0m\u001b[0;34m(\u001b[0m\u001b[0mself\u001b[0m\u001b[0;34m)\u001b[0m\u001b[0;34m:\u001b[0m\u001b[0;34m\u001b[0m\u001b[0;34m\u001b[0m\u001b[0m\n",
            "\u001b[0;32m/usr/lib/python3.7/asyncio/futures.py\u001b[0m in \u001b[0;36mresult\u001b[0;34m(self)\u001b[0m\n\u001b[1;32m    179\u001b[0m         \u001b[0mself\u001b[0m\u001b[0;34m.\u001b[0m\u001b[0m__log_traceback\u001b[0m \u001b[0;34m=\u001b[0m \u001b[0;32mFalse\u001b[0m\u001b[0;34m\u001b[0m\u001b[0;34m\u001b[0m\u001b[0m\n\u001b[1;32m    180\u001b[0m         \u001b[0;32mif\u001b[0m \u001b[0mself\u001b[0m\u001b[0;34m.\u001b[0m\u001b[0m_exception\u001b[0m \u001b[0;32mis\u001b[0m \u001b[0;32mnot\u001b[0m \u001b[0;32mNone\u001b[0m\u001b[0;34m:\u001b[0m\u001b[0;34m\u001b[0m\u001b[0;34m\u001b[0m\u001b[0m\n\u001b[0;32m--> 181\u001b[0;31m             \u001b[0;32mraise\u001b[0m \u001b[0mself\u001b[0m\u001b[0;34m.\u001b[0m\u001b[0m_exception\u001b[0m\u001b[0;34m\u001b[0m\u001b[0;34m\u001b[0m\u001b[0m\n\u001b[0m\u001b[1;32m    182\u001b[0m         \u001b[0;32mreturn\u001b[0m \u001b[0mself\u001b[0m\u001b[0;34m.\u001b[0m\u001b[0m_result\u001b[0m\u001b[0;34m\u001b[0m\u001b[0;34m\u001b[0m\u001b[0m\n\u001b[1;32m    183\u001b[0m \u001b[0;34m\u001b[0m\u001b[0m\n",
            "\u001b[0;32m/usr/lib/python3.7/asyncio/tasks.py\u001b[0m in \u001b[0;36m__step\u001b[0;34m(***failed resolving arguments***)\u001b[0m\n\u001b[1;32m    247\u001b[0m                 \u001b[0;31m# We use the `send` method directly, because coroutines\u001b[0m\u001b[0;34m\u001b[0m\u001b[0;34m\u001b[0m\u001b[0;34m\u001b[0m\u001b[0m\n\u001b[1;32m    248\u001b[0m                 \u001b[0;31m# don't have `__iter__` and `__next__` methods.\u001b[0m\u001b[0;34m\u001b[0m\u001b[0;34m\u001b[0m\u001b[0;34m\u001b[0m\u001b[0m\n\u001b[0;32m--> 249\u001b[0;31m                 \u001b[0mresult\u001b[0m \u001b[0;34m=\u001b[0m \u001b[0mcoro\u001b[0m\u001b[0;34m.\u001b[0m\u001b[0msend\u001b[0m\u001b[0;34m(\u001b[0m\u001b[0;32mNone\u001b[0m\u001b[0;34m)\u001b[0m\u001b[0;34m\u001b[0m\u001b[0;34m\u001b[0m\u001b[0m\n\u001b[0m\u001b[1;32m    250\u001b[0m             \u001b[0;32melse\u001b[0m\u001b[0;34m:\u001b[0m\u001b[0;34m\u001b[0m\u001b[0;34m\u001b[0m\u001b[0m\n\u001b[1;32m    251\u001b[0m                 \u001b[0mresult\u001b[0m \u001b[0;34m=\u001b[0m \u001b[0mcoro\u001b[0m\u001b[0;34m.\u001b[0m\u001b[0mthrow\u001b[0m\u001b[0;34m(\u001b[0m\u001b[0mexc\u001b[0m\u001b[0;34m)\u001b[0m\u001b[0;34m\u001b[0m\u001b[0;34m\u001b[0m\u001b[0m\n",
            "\u001b[0;32m<ipython-input-10-fb74747da862>\u001b[0m in \u001b[0;36mmain\u001b[0;34m()\u001b[0m\n\u001b[1;32m      4\u001b[0m \u001b[0;34m\u001b[0m\u001b[0m\n\u001b[1;32m      5\u001b[0m \u001b[0;32masync\u001b[0m \u001b[0;32mdef\u001b[0m \u001b[0mmain\u001b[0m\u001b[0;34m(\u001b[0m\u001b[0;34m)\u001b[0m\u001b[0;34m:\u001b[0m\u001b[0;34m\u001b[0m\u001b[0;34m\u001b[0m\u001b[0m\n\u001b[0;32m----> 6\u001b[0;31m     \u001b[0mbrowser\u001b[0m \u001b[0;34m=\u001b[0m \u001b[0;32mawait\u001b[0m \u001b[0mlaunch\u001b[0m\u001b[0;34m(\u001b[0m\u001b[0;34m)\u001b[0m\u001b[0;34m\u001b[0m\u001b[0;34m\u001b[0m\u001b[0m\n\u001b[0m\u001b[1;32m      7\u001b[0m     \u001b[0mpage\u001b[0m \u001b[0;34m=\u001b[0m \u001b[0;32mawait\u001b[0m \u001b[0mbrowser\u001b[0m\u001b[0;34m.\u001b[0m\u001b[0mnewPage\u001b[0m\u001b[0;34m(\u001b[0m\u001b[0;34m)\u001b[0m\u001b[0;34m\u001b[0m\u001b[0;34m\u001b[0m\u001b[0m\n\u001b[1;32m      8\u001b[0m     \u001b[0;32mawait\u001b[0m \u001b[0mpage\u001b[0m\u001b[0;34m.\u001b[0m\u001b[0mgoto\u001b[0m\u001b[0;34m(\u001b[0m\u001b[0;34m'http://quotes.toscrape.com/js/'\u001b[0m\u001b[0;34m)\u001b[0m\u001b[0;34m\u001b[0m\u001b[0;34m\u001b[0m\u001b[0m\n",
            "\u001b[0;32m/usr/local/lib/python3.7/dist-packages/pyppeteer/launcher.py\u001b[0m in \u001b[0;36mlaunch\u001b[0;34m(options, **kwargs)\u001b[0m\n\u001b[1;32m    304\u001b[0m         \u001b[0moption\u001b[0m \u001b[0;32mwith\u001b[0m \u001b[0mextreme\u001b[0m \u001b[0mcaution\u001b[0m\u001b[0;34m.\u001b[0m\u001b[0;34m\u001b[0m\u001b[0;34m\u001b[0m\u001b[0m\n\u001b[1;32m    305\u001b[0m     \"\"\"\n\u001b[0;32m--> 306\u001b[0;31m     \u001b[0;32mreturn\u001b[0m \u001b[0;32mawait\u001b[0m \u001b[0mLauncher\u001b[0m\u001b[0;34m(\u001b[0m\u001b[0moptions\u001b[0m\u001b[0;34m,\u001b[0m \u001b[0;34m**\u001b[0m\u001b[0mkwargs\u001b[0m\u001b[0;34m)\u001b[0m\u001b[0;34m.\u001b[0m\u001b[0mlaunch\u001b[0m\u001b[0;34m(\u001b[0m\u001b[0;34m)\u001b[0m\u001b[0;34m\u001b[0m\u001b[0;34m\u001b[0m\u001b[0m\n\u001b[0m\u001b[1;32m    307\u001b[0m \u001b[0;34m\u001b[0m\u001b[0m\n\u001b[1;32m    308\u001b[0m \u001b[0;34m\u001b[0m\u001b[0m\n",
            "\u001b[0;32m/usr/local/lib/python3.7/dist-packages/pyppeteer/launcher.py\u001b[0m in \u001b[0;36mlaunch\u001b[0;34m(self)\u001b[0m\n\u001b[1;32m    165\u001b[0m \u001b[0;34m\u001b[0m\u001b[0m\n\u001b[1;32m    166\u001b[0m         \u001b[0mconnectionDelay\u001b[0m \u001b[0;34m=\u001b[0m \u001b[0mself\u001b[0m\u001b[0;34m.\u001b[0m\u001b[0mslowMo\u001b[0m\u001b[0;34m\u001b[0m\u001b[0;34m\u001b[0m\u001b[0m\n\u001b[0;32m--> 167\u001b[0;31m         \u001b[0mself\u001b[0m\u001b[0;34m.\u001b[0m\u001b[0mbrowserWSEndpoint\u001b[0m \u001b[0;34m=\u001b[0m \u001b[0mget_ws_endpoint\u001b[0m\u001b[0;34m(\u001b[0m\u001b[0mself\u001b[0m\u001b[0;34m.\u001b[0m\u001b[0murl\u001b[0m\u001b[0;34m)\u001b[0m\u001b[0;34m\u001b[0m\u001b[0;34m\u001b[0m\u001b[0m\n\u001b[0m\u001b[1;32m    168\u001b[0m         \u001b[0mlogger\u001b[0m\u001b[0;34m.\u001b[0m\u001b[0minfo\u001b[0m\u001b[0;34m(\u001b[0m\u001b[0;34mf'Browser listening on: {self.browserWSEndpoint}'\u001b[0m\u001b[0;34m)\u001b[0m\u001b[0;34m\u001b[0m\u001b[0;34m\u001b[0m\u001b[0m\n\u001b[1;32m    169\u001b[0m         \u001b[0mself\u001b[0m\u001b[0;34m.\u001b[0m\u001b[0mconnection\u001b[0m \u001b[0;34m=\u001b[0m \u001b[0mConnection\u001b[0m\u001b[0;34m(\u001b[0m\u001b[0mself\u001b[0m\u001b[0;34m.\u001b[0m\u001b[0mbrowserWSEndpoint\u001b[0m\u001b[0;34m,\u001b[0m \u001b[0mself\u001b[0m\u001b[0;34m.\u001b[0m\u001b[0m_loop\u001b[0m\u001b[0;34m,\u001b[0m \u001b[0mconnectionDelay\u001b[0m\u001b[0;34m,\u001b[0m \u001b[0;34m)\u001b[0m\u001b[0;34m\u001b[0m\u001b[0;34m\u001b[0m\u001b[0m\n",
            "\u001b[0;32m/usr/local/lib/python3.7/dist-packages/pyppeteer/launcher.py\u001b[0m in \u001b[0;36mget_ws_endpoint\u001b[0;34m(url)\u001b[0m\n\u001b[1;32m    224\u001b[0m     \u001b[0;32mwhile\u001b[0m \u001b[0;34m(\u001b[0m\u001b[0;32mTrue\u001b[0m\u001b[0;34m)\u001b[0m\u001b[0;34m:\u001b[0m\u001b[0;34m\u001b[0m\u001b[0;34m\u001b[0m\u001b[0m\n\u001b[1;32m    225\u001b[0m         \u001b[0;32mif\u001b[0m \u001b[0mtime\u001b[0m\u001b[0;34m.\u001b[0m\u001b[0mtime\u001b[0m\u001b[0;34m(\u001b[0m\u001b[0;34m)\u001b[0m \u001b[0;34m>\u001b[0m \u001b[0mtimeout\u001b[0m\u001b[0;34m:\u001b[0m\u001b[0;34m\u001b[0m\u001b[0;34m\u001b[0m\u001b[0m\n\u001b[0;32m--> 226\u001b[0;31m             \u001b[0;32mraise\u001b[0m \u001b[0mBrowserError\u001b[0m\u001b[0;34m(\u001b[0m\u001b[0;34m'Browser closed unexpectedly:\\n'\u001b[0m\u001b[0;34m)\u001b[0m\u001b[0;34m\u001b[0m\u001b[0;34m\u001b[0m\u001b[0m\n\u001b[0m\u001b[1;32m    227\u001b[0m         \u001b[0;32mtry\u001b[0m\u001b[0;34m:\u001b[0m\u001b[0;34m\u001b[0m\u001b[0;34m\u001b[0m\u001b[0m\n\u001b[1;32m    228\u001b[0m             \u001b[0;32mwith\u001b[0m \u001b[0murlopen\u001b[0m\u001b[0;34m(\u001b[0m\u001b[0murl\u001b[0m\u001b[0;34m)\u001b[0m \u001b[0;32mas\u001b[0m \u001b[0mf\u001b[0m\u001b[0;34m:\u001b[0m\u001b[0;34m\u001b[0m\u001b[0;34m\u001b[0m\u001b[0m\n",
            "\u001b[0;31mBrowserError\u001b[0m: Browser closed unexpectedly:\n"
          ]
        }
      ]
    },
    {
      "cell_type": "code",
      "metadata": {
        "id": "5omeZF6mLP8D"
      },
      "source": [
        ""
      ],
      "execution_count": null,
      "outputs": []
    },
    {
      "cell_type": "code",
      "metadata": {
        "id": "DUjwAPwRCq4l",
        "outputId": "af7f2550-353b-4c26-df3f-a54546a7aeb9",
        "colab": {
          "base_uri": "https://localhost:8080/"
        }
      },
      "source": [
        "!pip install nest-asyncio"
      ],
      "execution_count": 7,
      "outputs": [
        {
          "output_type": "stream",
          "text": [
            "Requirement already satisfied: nest-asyncio in /usr/local/lib/python3.7/dist-packages (1.5.1)\n"
          ],
          "name": "stdout"
        }
      ]
    },
    {
      "cell_type": "code",
      "metadata": {
        "id": "DnyXmzPjKmNg"
      },
      "source": [
        "import nest_asyncio\n",
        "nest_asyncio.apply()"
      ],
      "execution_count": null,
      "outputs": []
    },
    {
      "cell_type": "code",
      "metadata": {
        "id": "FQCgyCKjKpT4"
      },
      "source": [
        ""
      ],
      "execution_count": null,
      "outputs": []
    }
  ]
}